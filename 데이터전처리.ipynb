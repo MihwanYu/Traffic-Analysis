{
 "cells": [
  {
   "cell_type": "code",
   "execution_count": 2,
   "id": "34349ca2",
   "metadata": {},
   "outputs": [],
   "source": [
    "#서울특별시 공공자전거 신규가입자 파일 합치기\n",
    "import pandas as pd\n",
    "import numpy as np\n",
    "from datetime import datetime as dt\n",
    "import matplotlib.pyplot as plt\n",
    "import seaborn as sns\n",
    "d1 = pd.read_csv('서울시 공공자전거 이용정보_2017_2021/공공자전거 이용정보(월별)_19.12.csv', encoding='cp949')\n",
    "d2 = pd.read_csv('서울시 공공자전거 이용정보_2017_2021/공공자전거 이용정보(월별)_20.01_20.05.csv', encoding='cp949')\n",
    "d3 = pd.read_csv('서울시 공공자전거 이용정보_2017_2021/공공자전거 이용정보(월별)_20.06.csv', encoding='cp949')\n",
    "d4 = pd.read_csv('서울시 공공자전거 이용정보_2017_2021/공공자전거 이용정보(월별)_20.07_20.12.csv', encoding='cp949')\n",
    "d5 = pd.read_csv('서울시 공공자전거 이용정보_2017_2021/공공자전거 이용정보(월별)_21.01.csv', encoding='cp949')\n",
    "d6 = pd.read_csv('서울시 공공자전거 이용정보_2017_2021/공공자전거 이용정보(월별)_21.02-21.06.csv', encoding='cp949')\n",
    "d7 = pd.read_csv('서울시 공공자전거 이용정보_2017_2021/서울특별시 공공자전거 이용정보(월별)_2017_1_12.csv', encoding='cp949')\n",
    "d8 = pd.read_csv('서울시 공공자전거 이용정보_2017_2021/서울특별시 공공자전거 이용정보(월별)_2018_1_6.csv', encoding='cp949')\n",
    "d9 = pd.read_csv('서울시 공공자전거 이용정보_2017_2021/서울특별시 공공자전거 이용정보(월별)_201807_201812.csv', encoding='cp949')\n",
    "d10 = pd.read_csv('서울시 공공자전거 이용정보_2017_2021/서울특별시 공공자전거 이용정보(월별)_201901_201906.csv', encoding='cp949')\n",
    "d11 = pd.read_csv('서울시 공공자전거 이용정보_2017_2021/서울특별시 공공자전거 이용정보(월별)_201907_201911.csv', encoding='cp949')"
   ]
  },
  {
   "cell_type": "code",
   "execution_count": 3,
   "id": "fb32034e",
   "metadata": {},
   "outputs": [],
   "source": [
    "pd.set_option('mode.chained_assignment',None)"
   ]
  },
  {
   "cell_type": "code",
   "execution_count": 4,
   "id": "c901a01b",
   "metadata": {},
   "outputs": [
    {
     "data": {
      "text/plain": [
       "Index(['대여일자', '대여소번호', '대여소명', '대여구분코드', '성별', '연령대코드', '이용건수', '운동량', '탄소량',\n",
       "       '이동거리', '이용시간'],\n",
       "      dtype='object')"
      ]
     },
     "execution_count": 4,
     "metadata": {},
     "output_type": "execute_result"
    }
   ],
   "source": [
    "d1.columns\n",
    "# dfs = [d1,d2,d3,d4,d5,d6,d7,d8]\n",
    "#2020: df2,3,4\n",
    "#2017: df7\n",
    "#2019: df10,11,1"
   ]
  },
  {
   "cell_type": "code",
   "execution_count": 5,
   "id": "184d025f",
   "metadata": {},
   "outputs": [
    {
     "data": {
      "text/html": [
       "<div>\n",
       "<style scoped>\n",
       "    .dataframe tbody tr th:only-of-type {\n",
       "        vertical-align: middle;\n",
       "    }\n",
       "\n",
       "    .dataframe tbody tr th {\n",
       "        vertical-align: top;\n",
       "    }\n",
       "\n",
       "    .dataframe thead th {\n",
       "        text-align: right;\n",
       "    }\n",
       "</style>\n",
       "<table border=\"1\" class=\"dataframe\">\n",
       "  <thead>\n",
       "    <tr style=\"text-align: right;\">\n",
       "      <th></th>\n",
       "      <th>대여일자</th>\n",
       "      <th>대여소번호</th>\n",
       "      <th>대여소명</th>\n",
       "      <th>대여구분코드</th>\n",
       "      <th>성별</th>\n",
       "      <th>연령대코드</th>\n",
       "      <th>이용건수</th>\n",
       "      <th>운동량</th>\n",
       "      <th>탄소량</th>\n",
       "      <th>이동거리</th>\n",
       "      <th>이용시간</th>\n",
       "    </tr>\n",
       "  </thead>\n",
       "  <tbody>\n",
       "    <tr>\n",
       "      <th>0</th>\n",
       "      <td>Dec-19</td>\n",
       "      <td>3</td>\n",
       "      <td>중랑센터</td>\n",
       "      <td>일일(회원)</td>\n",
       "      <td>M</td>\n",
       "      <td>AGE_003</td>\n",
       "      <td>7</td>\n",
       "      <td>1208.87</td>\n",
       "      <td>10.11</td>\n",
       "      <td>43610</td>\n",
       "      <td>118</td>\n",
       "    </tr>\n",
       "    <tr>\n",
       "      <th>1</th>\n",
       "      <td>Dec-19</td>\n",
       "      <td>3</td>\n",
       "      <td>중랑센터</td>\n",
       "      <td>일일(회원)</td>\n",
       "      <td>M</td>\n",
       "      <td>AGE_004</td>\n",
       "      <td>2</td>\n",
       "      <td>0</td>\n",
       "      <td>0</td>\n",
       "      <td>0</td>\n",
       "      <td>10</td>\n",
       "    </tr>\n",
       "    <tr>\n",
       "      <th>2</th>\n",
       "      <td>Dec-19</td>\n",
       "      <td>3</td>\n",
       "      <td>중랑센터</td>\n",
       "      <td>정기</td>\n",
       "      <td>M</td>\n",
       "      <td>AGE_005</td>\n",
       "      <td>5</td>\n",
       "      <td>110.02</td>\n",
       "      <td>1.03</td>\n",
       "      <td>4410</td>\n",
       "      <td>99</td>\n",
       "    </tr>\n",
       "    <tr>\n",
       "      <th>3</th>\n",
       "      <td>Dec-19</td>\n",
       "      <td>5</td>\n",
       "      <td>상암센터 정비실</td>\n",
       "      <td>일일(회원)</td>\n",
       "      <td>\\N</td>\n",
       "      <td>AGE_005</td>\n",
       "      <td>1</td>\n",
       "      <td>0</td>\n",
       "      <td>0</td>\n",
       "      <td>0</td>\n",
       "      <td>8</td>\n",
       "    </tr>\n",
       "    <tr>\n",
       "      <th>4</th>\n",
       "      <td>Dec-19</td>\n",
       "      <td>5</td>\n",
       "      <td>상암센터 정비실</td>\n",
       "      <td>일일(회원)</td>\n",
       "      <td>M</td>\n",
       "      <td>AGE_004</td>\n",
       "      <td>5</td>\n",
       "      <td>427.8</td>\n",
       "      <td>3.92</td>\n",
       "      <td>16880</td>\n",
       "      <td>205</td>\n",
       "    </tr>\n",
       "  </tbody>\n",
       "</table>\n",
       "</div>"
      ],
      "text/plain": [
       "     대여일자  대여소번호      대여소명  대여구분코드  성별    연령대코드  이용건수      운동량    탄소량   이동거리  \\\n",
       "0  Dec-19      3      중랑센터  일일(회원)   M  AGE_003     7  1208.87  10.11  43610   \n",
       "1  Dec-19      3      중랑센터  일일(회원)   M  AGE_004     2        0      0      0   \n",
       "2  Dec-19      3      중랑센터      정기   M  AGE_005     5   110.02   1.03   4410   \n",
       "3  Dec-19      5  상암센터 정비실  일일(회원)  \\N  AGE_005     1        0      0      0   \n",
       "4  Dec-19      5  상암센터 정비실  일일(회원)   M  AGE_004     5    427.8   3.92  16880   \n",
       "\n",
       "   이용시간  \n",
       "0   118  \n",
       "1    10  \n",
       "2    99  \n",
       "3     8  \n",
       "4   205  "
      ]
     },
     "execution_count": 5,
     "metadata": {},
     "output_type": "execute_result"
    }
   ],
   "source": [
    "d1.head()"
   ]
  },
  {
   "cell_type": "code",
   "execution_count": null,
   "id": "0de01418",
   "metadata": {},
   "outputs": [],
   "source": []
  },
  {
   "cell_type": "code",
   "execution_count": 6,
   "id": "699e1fc9",
   "metadata": {
    "scrolled": false
   },
   "outputs": [
    {
     "name": "stdout",
     "output_type": "stream",
     "text": [
      "Index(['대여일자', '대여소번호', '대여소명', '대여구분코드', '성별', '연령대코드', '이용건수', '운동량', '탄소량',\n",
      "       '이동거리', '이용시간'],\n",
      "      dtype='object')\n",
      "Index(['대여일자', '대여소번호', '대여소명', '대여구분코드', '성별', '연령대코드', '이용건수', '운동량', '탄소량',\n",
      "       '이동거리(M)', '이용시간(분)'],\n",
      "      dtype='object')\n",
      "Index(['대여일자', '대여소번호', '대여소명', '대여구분코드', '성별', '연령대코드', '이용건수', '운동량', '탄소량',\n",
      "       '이동거리(M)', '이용시간(분)'],\n",
      "      dtype='object')\n",
      "<class 'pandas.core.frame.DataFrame'>\n",
      "RangeIndex: 327231 entries, 0 to 327230\n",
      "Data columns (total 11 columns):\n",
      " #   Column   Non-Null Count   Dtype  \n",
      "---  ------   --------------   -----  \n",
      " 0   대여일자     327231 non-null  object \n",
      " 1   대여소번호    327231 non-null  int64  \n",
      " 2   대여소명     327231 non-null  object \n",
      " 3   대여구분코드   327231 non-null  object \n",
      " 4   성별       272841 non-null  object \n",
      " 5   연령대코드    327231 non-null  object \n",
      " 6   이용건수     327231 non-null  int64  \n",
      " 7   운동량      327231 non-null  object \n",
      " 8   탄소량      327231 non-null  object \n",
      " 9   이동거리(M)  327231 non-null  float64\n",
      " 10  이용시간(분)  327231 non-null  int64  \n",
      "dtypes: float64(1), int64(3), object(7)\n",
      "memory usage: 27.5+ MB\n"
     ]
    }
   ],
   "source": [
    "#2020끼리 데이터 합치기############\n",
    "#전처리 내용: column명 통일, 데이터 형식 통일\n",
    "#d2의 column name, 대여일자 데이터 형식이 d3, d4와 다름.\n",
    "for df in [d2,d3,d4]:\n",
    "    print(df.columns)\n",
    "d2.columns = d3.columns #column name 동일하게 만들기\n",
    "d2.head()\n",
    "\n",
    "#대여일자 데이터 형식 동일하게 만들기\n",
    "m_keys = d2['대여일자'].unique()\n",
    "m_values = ['2020-01','2020-02','2020-03','2020-04','2020-05','2020-06']\n",
    "dic = dict(zip(m_keys,m_values))\n",
    "dic\n",
    "d2['대여일자'] = d2['대여일자'].apply(lambda x: dic[x])\n",
    "d2\n",
    "d2.info()\n",
    "\n"
   ]
  },
  {
   "cell_type": "code",
   "execution_count": 7,
   "id": "27ec7002",
   "metadata": {
    "scrolled": false
   },
   "outputs": [
    {
     "data": {
      "text/html": [
       "<div>\n",
       "<style scoped>\n",
       "    .dataframe tbody tr th:only-of-type {\n",
       "        vertical-align: middle;\n",
       "    }\n",
       "\n",
       "    .dataframe tbody tr th {\n",
       "        vertical-align: top;\n",
       "    }\n",
       "\n",
       "    .dataframe thead th {\n",
       "        text-align: right;\n",
       "    }\n",
       "</style>\n",
       "<table border=\"1\" class=\"dataframe\">\n",
       "  <thead>\n",
       "    <tr style=\"text-align: right;\">\n",
       "      <th></th>\n",
       "      <th>대여일자</th>\n",
       "      <th>대여소번호</th>\n",
       "      <th>대여소명</th>\n",
       "      <th>대여구분코드</th>\n",
       "      <th>성별</th>\n",
       "      <th>연령대코드</th>\n",
       "      <th>이용건수</th>\n",
       "      <th>운동량</th>\n",
       "      <th>탄소량</th>\n",
       "      <th>이동거리(M)</th>\n",
       "      <th>이용시간(분)</th>\n",
       "    </tr>\n",
       "  </thead>\n",
       "  <tbody>\n",
       "    <tr>\n",
       "      <th>0</th>\n",
       "      <td>2020-01</td>\n",
       "      <td>3</td>\n",
       "      <td>중랑센터</td>\n",
       "      <td>일일(회원)</td>\n",
       "      <td>M</td>\n",
       "      <td>AGE_003</td>\n",
       "      <td>3</td>\n",
       "      <td>61.82</td>\n",
       "      <td>0.52</td>\n",
       "      <td>2230.0</td>\n",
       "      <td>75</td>\n",
       "    </tr>\n",
       "    <tr>\n",
       "      <th>1</th>\n",
       "      <td>2020-01</td>\n",
       "      <td>3</td>\n",
       "      <td>중랑센터</td>\n",
       "      <td>일일(회원)</td>\n",
       "      <td>M</td>\n",
       "      <td>AGE_004</td>\n",
       "      <td>1</td>\n",
       "      <td>39.62</td>\n",
       "      <td>0.28</td>\n",
       "      <td>1220.0</td>\n",
       "      <td>15</td>\n",
       "    </tr>\n",
       "    <tr>\n",
       "      <th>2</th>\n",
       "      <td>2020-01</td>\n",
       "      <td>3</td>\n",
       "      <td>중랑센터</td>\n",
       "      <td>정기</td>\n",
       "      <td>M</td>\n",
       "      <td>AGE_005</td>\n",
       "      <td>3</td>\n",
       "      <td>430.85</td>\n",
       "      <td>4.01</td>\n",
       "      <td>17270.0</td>\n",
       "      <td>53</td>\n",
       "    </tr>\n",
       "    <tr>\n",
       "      <th>3</th>\n",
       "      <td>2020-01</td>\n",
       "      <td>5</td>\n",
       "      <td>상암센터 정비실</td>\n",
       "      <td>일일(회원)</td>\n",
       "      <td>\\N</td>\n",
       "      <td>AGE_005</td>\n",
       "      <td>2</td>\n",
       "      <td>1.79</td>\n",
       "      <td>0.02</td>\n",
       "      <td>90.0</td>\n",
       "      <td>33</td>\n",
       "    </tr>\n",
       "    <tr>\n",
       "      <th>4</th>\n",
       "      <td>2020-01</td>\n",
       "      <td>5</td>\n",
       "      <td>상암센터 정비실</td>\n",
       "      <td>정기</td>\n",
       "      <td>F</td>\n",
       "      <td>AGE_003</td>\n",
       "      <td>1</td>\n",
       "      <td>4501.96</td>\n",
       "      <td>45.47</td>\n",
       "      <td>196010.0</td>\n",
       "      <td>64</td>\n",
       "    </tr>\n",
       "    <tr>\n",
       "      <th>...</th>\n",
       "      <td>...</td>\n",
       "      <td>...</td>\n",
       "      <td>...</td>\n",
       "      <td>...</td>\n",
       "      <td>...</td>\n",
       "      <td>...</td>\n",
       "      <td>...</td>\n",
       "      <td>...</td>\n",
       "      <td>...</td>\n",
       "      <td>...</td>\n",
       "      <td>...</td>\n",
       "    </tr>\n",
       "    <tr>\n",
       "      <th>532170</th>\n",
       "      <td>2020-12</td>\n",
       "      <td>9999</td>\n",
       "      <td>시스템관리팀</td>\n",
       "      <td>정기</td>\n",
       "      <td>F</td>\n",
       "      <td>AGE_006</td>\n",
       "      <td>1</td>\n",
       "      <td>\\N</td>\n",
       "      <td>\\N</td>\n",
       "      <td>0.0</td>\n",
       "      <td>0</td>\n",
       "    </tr>\n",
       "    <tr>\n",
       "      <th>532171</th>\n",
       "      <td>2020-12</td>\n",
       "      <td>9999</td>\n",
       "      <td>시스템관리팀</td>\n",
       "      <td>정기</td>\n",
       "      <td>M</td>\n",
       "      <td>AGE_003</td>\n",
       "      <td>2</td>\n",
       "      <td>0.00</td>\n",
       "      <td>0.00</td>\n",
       "      <td>0.0</td>\n",
       "      <td>76</td>\n",
       "    </tr>\n",
       "    <tr>\n",
       "      <th>532172</th>\n",
       "      <td>2020-12</td>\n",
       "      <td>9999</td>\n",
       "      <td>시스템관리팀</td>\n",
       "      <td>정기</td>\n",
       "      <td>M</td>\n",
       "      <td>AGE_004</td>\n",
       "      <td>1</td>\n",
       "      <td>\\N</td>\n",
       "      <td>\\N</td>\n",
       "      <td>0.0</td>\n",
       "      <td>15</td>\n",
       "    </tr>\n",
       "    <tr>\n",
       "      <th>532173</th>\n",
       "      <td>2020-12</td>\n",
       "      <td>99999</td>\n",
       "      <td>99999. 영남단말기정비</td>\n",
       "      <td>정기</td>\n",
       "      <td>\\N</td>\n",
       "      <td>AGE_008</td>\n",
       "      <td>7</td>\n",
       "      <td>0.00</td>\n",
       "      <td>0.00</td>\n",
       "      <td>0.0</td>\n",
       "      <td>18</td>\n",
       "    </tr>\n",
       "    <tr>\n",
       "      <th>532174</th>\n",
       "      <td>2020-12</td>\n",
       "      <td>99999</td>\n",
       "      <td>99999. 영남단말기정비</td>\n",
       "      <td>정기</td>\n",
       "      <td>M</td>\n",
       "      <td>AGE_004</td>\n",
       "      <td>3</td>\n",
       "      <td>0.00</td>\n",
       "      <td>0.00</td>\n",
       "      <td>0.0</td>\n",
       "      <td>15</td>\n",
       "    </tr>\n",
       "  </tbody>\n",
       "</table>\n",
       "<p>948887 rows × 11 columns</p>\n",
       "</div>"
      ],
      "text/plain": [
       "           대여일자  대여소번호            대여소명  대여구분코드  성별    연령대코드  이용건수      운동량  \\\n",
       "0       2020-01      3            중랑센터  일일(회원)   M  AGE_003     3    61.82   \n",
       "1       2020-01      3            중랑센터  일일(회원)   M  AGE_004     1    39.62   \n",
       "2       2020-01      3            중랑센터      정기   M  AGE_005     3   430.85   \n",
       "3       2020-01      5        상암센터 정비실  일일(회원)  \\N  AGE_005     2     1.79   \n",
       "4       2020-01      5        상암센터 정비실      정기   F  AGE_003     1  4501.96   \n",
       "...         ...    ...             ...     ...  ..      ...   ...      ...   \n",
       "532170  2020-12   9999          시스템관리팀      정기   F  AGE_006     1       \\N   \n",
       "532171  2020-12   9999          시스템관리팀      정기   M  AGE_003     2     0.00   \n",
       "532172  2020-12   9999          시스템관리팀      정기   M  AGE_004     1       \\N   \n",
       "532173  2020-12  99999  99999. 영남단말기정비      정기  \\N  AGE_008     7     0.00   \n",
       "532174  2020-12  99999  99999. 영남단말기정비      정기   M  AGE_004     3     0.00   \n",
       "\n",
       "          탄소량   이동거리(M)  이용시간(분)  \n",
       "0        0.52    2230.0       75  \n",
       "1        0.28    1220.0       15  \n",
       "2        4.01   17270.0       53  \n",
       "3        0.02      90.0       33  \n",
       "4       45.47  196010.0       64  \n",
       "...       ...       ...      ...  \n",
       "532170     \\N       0.0        0  \n",
       "532171   0.00       0.0       76  \n",
       "532172     \\N       0.0       15  \n",
       "532173   0.00       0.0       18  \n",
       "532174   0.00       0.0       15  \n",
       "\n",
       "[948887 rows x 11 columns]"
      ]
     },
     "execution_count": 7,
     "metadata": {},
     "output_type": "execute_result"
    }
   ],
   "source": [
    "df_2020 = pd.concat([d2,d3,d4])#2020년 자전거 이용 데이터\n",
    "df_2020"
   ]
  },
  {
   "cell_type": "code",
   "execution_count": 8,
   "id": "c0efa126",
   "metadata": {},
   "outputs": [
    {
     "data": {
      "text/html": [
       "<div>\n",
       "<style scoped>\n",
       "    .dataframe tbody tr th:only-of-type {\n",
       "        vertical-align: middle;\n",
       "    }\n",
       "\n",
       "    .dataframe tbody tr th {\n",
       "        vertical-align: top;\n",
       "    }\n",
       "\n",
       "    .dataframe thead th {\n",
       "        text-align: right;\n",
       "    }\n",
       "</style>\n",
       "<table border=\"1\" class=\"dataframe\">\n",
       "  <thead>\n",
       "    <tr style=\"text-align: right;\">\n",
       "      <th></th>\n",
       "      <th>대여일자</th>\n",
       "      <th>대여소번호</th>\n",
       "      <th>연령대코드</th>\n",
       "      <th>이용건수</th>\n",
       "      <th>이동거리(M)</th>\n",
       "      <th>이용시간(분)</th>\n",
       "    </tr>\n",
       "  </thead>\n",
       "  <tbody>\n",
       "    <tr>\n",
       "      <th>0</th>\n",
       "      <td>2020-01</td>\n",
       "      <td>3</td>\n",
       "      <td>AGE_003</td>\n",
       "      <td>3</td>\n",
       "      <td>2230.0</td>\n",
       "      <td>75</td>\n",
       "    </tr>\n",
       "    <tr>\n",
       "      <th>1</th>\n",
       "      <td>2020-01</td>\n",
       "      <td>3</td>\n",
       "      <td>AGE_004</td>\n",
       "      <td>1</td>\n",
       "      <td>1220.0</td>\n",
       "      <td>15</td>\n",
       "    </tr>\n",
       "    <tr>\n",
       "      <th>2</th>\n",
       "      <td>2020-01</td>\n",
       "      <td>3</td>\n",
       "      <td>AGE_005</td>\n",
       "      <td>3</td>\n",
       "      <td>17270.0</td>\n",
       "      <td>53</td>\n",
       "    </tr>\n",
       "    <tr>\n",
       "      <th>3</th>\n",
       "      <td>2020-01</td>\n",
       "      <td>5</td>\n",
       "      <td>AGE_005</td>\n",
       "      <td>2</td>\n",
       "      <td>90.0</td>\n",
       "      <td>33</td>\n",
       "    </tr>\n",
       "    <tr>\n",
       "      <th>4</th>\n",
       "      <td>2020-01</td>\n",
       "      <td>5</td>\n",
       "      <td>AGE_003</td>\n",
       "      <td>1</td>\n",
       "      <td>196010.0</td>\n",
       "      <td>64</td>\n",
       "    </tr>\n",
       "    <tr>\n",
       "      <th>...</th>\n",
       "      <td>...</td>\n",
       "      <td>...</td>\n",
       "      <td>...</td>\n",
       "      <td>...</td>\n",
       "      <td>...</td>\n",
       "      <td>...</td>\n",
       "    </tr>\n",
       "    <tr>\n",
       "      <th>532170</th>\n",
       "      <td>2020-12</td>\n",
       "      <td>9999</td>\n",
       "      <td>AGE_006</td>\n",
       "      <td>1</td>\n",
       "      <td>0.0</td>\n",
       "      <td>0</td>\n",
       "    </tr>\n",
       "    <tr>\n",
       "      <th>532171</th>\n",
       "      <td>2020-12</td>\n",
       "      <td>9999</td>\n",
       "      <td>AGE_003</td>\n",
       "      <td>2</td>\n",
       "      <td>0.0</td>\n",
       "      <td>76</td>\n",
       "    </tr>\n",
       "    <tr>\n",
       "      <th>532172</th>\n",
       "      <td>2020-12</td>\n",
       "      <td>9999</td>\n",
       "      <td>AGE_004</td>\n",
       "      <td>1</td>\n",
       "      <td>0.0</td>\n",
       "      <td>15</td>\n",
       "    </tr>\n",
       "    <tr>\n",
       "      <th>532173</th>\n",
       "      <td>2020-12</td>\n",
       "      <td>99999</td>\n",
       "      <td>AGE_008</td>\n",
       "      <td>7</td>\n",
       "      <td>0.0</td>\n",
       "      <td>18</td>\n",
       "    </tr>\n",
       "    <tr>\n",
       "      <th>532174</th>\n",
       "      <td>2020-12</td>\n",
       "      <td>99999</td>\n",
       "      <td>AGE_004</td>\n",
       "      <td>3</td>\n",
       "      <td>0.0</td>\n",
       "      <td>15</td>\n",
       "    </tr>\n",
       "  </tbody>\n",
       "</table>\n",
       "<p>948887 rows × 6 columns</p>\n",
       "</div>"
      ],
      "text/plain": [
       "           대여일자  대여소번호    연령대코드  이용건수   이동거리(M)  이용시간(분)\n",
       "0       2020-01      3  AGE_003     3    2230.0       75\n",
       "1       2020-01      3  AGE_004     1    1220.0       15\n",
       "2       2020-01      3  AGE_005     3   17270.0       53\n",
       "3       2020-01      5  AGE_005     2      90.0       33\n",
       "4       2020-01      5  AGE_003     1  196010.0       64\n",
       "...         ...    ...      ...   ...       ...      ...\n",
       "532170  2020-12   9999  AGE_006     1       0.0        0\n",
       "532171  2020-12   9999  AGE_003     2       0.0       76\n",
       "532172  2020-12   9999  AGE_004     1       0.0       15\n",
       "532173  2020-12  99999  AGE_008     7       0.0       18\n",
       "532174  2020-12  99999  AGE_004     3       0.0       15\n",
       "\n",
       "[948887 rows x 6 columns]"
      ]
     },
     "execution_count": 8,
     "metadata": {},
     "output_type": "execute_result"
    }
   ],
   "source": [
    "df_2020 = df_2020[['대여일자','대여소번호','연령대코드','이용건수','이동거리(M)','이용시간(분)']]#분석할 column만 추출\n",
    "df_2020[df_2020['이동거리(M)'].isnull()]#null값은 지울까 아니면 0으로 채울까-->0으로 채우기!\n",
    "df_2020.fillna(0)\n",
    "df_2020"
   ]
  },
  {
   "cell_type": "code",
   "execution_count": 9,
   "id": "00128e7c",
   "metadata": {},
   "outputs": [
    {
     "data": {
      "text/plain": [
       "대여일자       0\n",
       "대여소번호      0\n",
       "연령대코드      0\n",
       "이용건수       0\n",
       "이동거리(M)    0\n",
       "이용시간(분)    0\n",
       "dtype: int64"
      ]
     },
     "execution_count": 9,
     "metadata": {},
     "output_type": "execute_result"
    }
   ],
   "source": [
    "df_2020.isnull().sum()"
   ]
  },
  {
   "cell_type": "code",
   "execution_count": 10,
   "id": "4952dfa8",
   "metadata": {},
   "outputs": [
    {
     "data": {
      "text/html": [
       "<div>\n",
       "<style scoped>\n",
       "    .dataframe tbody tr th:only-of-type {\n",
       "        vertical-align: middle;\n",
       "    }\n",
       "\n",
       "    .dataframe tbody tr th {\n",
       "        vertical-align: top;\n",
       "    }\n",
       "\n",
       "    .dataframe thead th {\n",
       "        text-align: right;\n",
       "    }\n",
       "</style>\n",
       "<table border=\"1\" class=\"dataframe\">\n",
       "  <thead>\n",
       "    <tr style=\"text-align: right;\">\n",
       "      <th></th>\n",
       "      <th>대여일자</th>\n",
       "      <th>대여소번호</th>\n",
       "      <th>연령대코드</th>\n",
       "      <th>이용건수</th>\n",
       "      <th>이동거리(M)</th>\n",
       "      <th>이용시간(분)</th>\n",
       "    </tr>\n",
       "  </thead>\n",
       "  <tbody>\n",
       "    <tr>\n",
       "      <th>0</th>\n",
       "      <td>2020-01</td>\n",
       "      <td>3</td>\n",
       "      <td>10s</td>\n",
       "      <td>3</td>\n",
       "      <td>2230.0</td>\n",
       "      <td>75</td>\n",
       "    </tr>\n",
       "    <tr>\n",
       "      <th>1</th>\n",
       "      <td>2020-01</td>\n",
       "      <td>3</td>\n",
       "      <td>20s</td>\n",
       "      <td>1</td>\n",
       "      <td>1220.0</td>\n",
       "      <td>15</td>\n",
       "    </tr>\n",
       "    <tr>\n",
       "      <th>2</th>\n",
       "      <td>2020-01</td>\n",
       "      <td>3</td>\n",
       "      <td>30s</td>\n",
       "      <td>3</td>\n",
       "      <td>17270.0</td>\n",
       "      <td>53</td>\n",
       "    </tr>\n",
       "    <tr>\n",
       "      <th>3</th>\n",
       "      <td>2020-01</td>\n",
       "      <td>5</td>\n",
       "      <td>30s</td>\n",
       "      <td>2</td>\n",
       "      <td>90.0</td>\n",
       "      <td>33</td>\n",
       "    </tr>\n",
       "    <tr>\n",
       "      <th>4</th>\n",
       "      <td>2020-01</td>\n",
       "      <td>5</td>\n",
       "      <td>10s</td>\n",
       "      <td>1</td>\n",
       "      <td>196010.0</td>\n",
       "      <td>64</td>\n",
       "    </tr>\n",
       "    <tr>\n",
       "      <th>...</th>\n",
       "      <td>...</td>\n",
       "      <td>...</td>\n",
       "      <td>...</td>\n",
       "      <td>...</td>\n",
       "      <td>...</td>\n",
       "      <td>...</td>\n",
       "    </tr>\n",
       "    <tr>\n",
       "      <th>532170</th>\n",
       "      <td>2020-12</td>\n",
       "      <td>9999</td>\n",
       "      <td>60s</td>\n",
       "      <td>1</td>\n",
       "      <td>0.0</td>\n",
       "      <td>0</td>\n",
       "    </tr>\n",
       "    <tr>\n",
       "      <th>532171</th>\n",
       "      <td>2020-12</td>\n",
       "      <td>9999</td>\n",
       "      <td>10s</td>\n",
       "      <td>2</td>\n",
       "      <td>0.0</td>\n",
       "      <td>76</td>\n",
       "    </tr>\n",
       "    <tr>\n",
       "      <th>532172</th>\n",
       "      <td>2020-12</td>\n",
       "      <td>9999</td>\n",
       "      <td>20s</td>\n",
       "      <td>1</td>\n",
       "      <td>0.0</td>\n",
       "      <td>15</td>\n",
       "    </tr>\n",
       "    <tr>\n",
       "      <th>532173</th>\n",
       "      <td>2020-12</td>\n",
       "      <td>99999</td>\n",
       "      <td>40s</td>\n",
       "      <td>7</td>\n",
       "      <td>0.0</td>\n",
       "      <td>18</td>\n",
       "    </tr>\n",
       "    <tr>\n",
       "      <th>532174</th>\n",
       "      <td>2020-12</td>\n",
       "      <td>99999</td>\n",
       "      <td>20s</td>\n",
       "      <td>3</td>\n",
       "      <td>0.0</td>\n",
       "      <td>15</td>\n",
       "    </tr>\n",
       "  </tbody>\n",
       "</table>\n",
       "<p>948887 rows × 6 columns</p>\n",
       "</div>"
      ],
      "text/plain": [
       "           대여일자  대여소번호 연령대코드  이용건수   이동거리(M)  이용시간(분)\n",
       "0       2020-01      3   10s     3    2230.0       75\n",
       "1       2020-01      3   20s     1    1220.0       15\n",
       "2       2020-01      3   30s     3   17270.0       53\n",
       "3       2020-01      5   30s     2      90.0       33\n",
       "4       2020-01      5   10s     1  196010.0       64\n",
       "...         ...    ...   ...   ...       ...      ...\n",
       "532170  2020-12   9999   60s     1       0.0        0\n",
       "532171  2020-12   9999   10s     2       0.0       76\n",
       "532172  2020-12   9999   20s     1       0.0       15\n",
       "532173  2020-12  99999   40s     7       0.0       18\n",
       "532174  2020-12  99999   20s     3       0.0       15\n",
       "\n",
       "[948887 rows x 6 columns]"
      ]
     },
     "execution_count": 10,
     "metadata": {},
     "output_type": "execute_result"
    }
   ],
   "source": [
    "#연령대코드 바꾸기\n",
    "keys = df_2020.연령대코드.unique()\n",
    "values = ['10s','20s','30s','40s','50s','60s','70s','etc']\n",
    "dic = dict(zip(keys,values))\n",
    "dic\n",
    "df_2020['연령대코드'] = df_2020.연령대코드.apply(lambda x: dic[x])\n",
    "df_2020"
   ]
  },
  {
   "cell_type": "code",
   "execution_count": 11,
   "id": "5d8caa66",
   "metadata": {},
   "outputs": [
    {
     "data": {
      "text/html": [
       "<div>\n",
       "<style scoped>\n",
       "    .dataframe tbody tr th:only-of-type {\n",
       "        vertical-align: middle;\n",
       "    }\n",
       "\n",
       "    .dataframe tbody tr th {\n",
       "        vertical-align: top;\n",
       "    }\n",
       "\n",
       "    .dataframe thead th {\n",
       "        text-align: right;\n",
       "    }\n",
       "</style>\n",
       "<table border=\"1\" class=\"dataframe\">\n",
       "  <thead>\n",
       "    <tr style=\"text-align: right;\">\n",
       "      <th></th>\n",
       "      <th>대여일자</th>\n",
       "      <th>대여소번호</th>\n",
       "      <th>연령대코드</th>\n",
       "      <th>이용건수</th>\n",
       "      <th>이동거리(M)</th>\n",
       "      <th>이용시간(분)</th>\n",
       "      <th>월</th>\n",
       "      <th>분기</th>\n",
       "    </tr>\n",
       "  </thead>\n",
       "  <tbody>\n",
       "    <tr>\n",
       "      <th>0</th>\n",
       "      <td>2020-01</td>\n",
       "      <td>3</td>\n",
       "      <td>10s</td>\n",
       "      <td>3</td>\n",
       "      <td>2230.0</td>\n",
       "      <td>75</td>\n",
       "      <td>1</td>\n",
       "      <td>1</td>\n",
       "    </tr>\n",
       "    <tr>\n",
       "      <th>1</th>\n",
       "      <td>2020-01</td>\n",
       "      <td>3</td>\n",
       "      <td>20s</td>\n",
       "      <td>1</td>\n",
       "      <td>1220.0</td>\n",
       "      <td>15</td>\n",
       "      <td>1</td>\n",
       "      <td>1</td>\n",
       "    </tr>\n",
       "    <tr>\n",
       "      <th>2</th>\n",
       "      <td>2020-01</td>\n",
       "      <td>3</td>\n",
       "      <td>30s</td>\n",
       "      <td>3</td>\n",
       "      <td>17270.0</td>\n",
       "      <td>53</td>\n",
       "      <td>1</td>\n",
       "      <td>1</td>\n",
       "    </tr>\n",
       "    <tr>\n",
       "      <th>3</th>\n",
       "      <td>2020-01</td>\n",
       "      <td>5</td>\n",
       "      <td>30s</td>\n",
       "      <td>2</td>\n",
       "      <td>90.0</td>\n",
       "      <td>33</td>\n",
       "      <td>1</td>\n",
       "      <td>1</td>\n",
       "    </tr>\n",
       "    <tr>\n",
       "      <th>4</th>\n",
       "      <td>2020-01</td>\n",
       "      <td>5</td>\n",
       "      <td>10s</td>\n",
       "      <td>1</td>\n",
       "      <td>196010.0</td>\n",
       "      <td>64</td>\n",
       "      <td>1</td>\n",
       "      <td>1</td>\n",
       "    </tr>\n",
       "    <tr>\n",
       "      <th>...</th>\n",
       "      <td>...</td>\n",
       "      <td>...</td>\n",
       "      <td>...</td>\n",
       "      <td>...</td>\n",
       "      <td>...</td>\n",
       "      <td>...</td>\n",
       "      <td>...</td>\n",
       "      <td>...</td>\n",
       "    </tr>\n",
       "    <tr>\n",
       "      <th>532170</th>\n",
       "      <td>2020-12</td>\n",
       "      <td>9999</td>\n",
       "      <td>60s</td>\n",
       "      <td>1</td>\n",
       "      <td>0.0</td>\n",
       "      <td>0</td>\n",
       "      <td>12</td>\n",
       "      <td>4</td>\n",
       "    </tr>\n",
       "    <tr>\n",
       "      <th>532171</th>\n",
       "      <td>2020-12</td>\n",
       "      <td>9999</td>\n",
       "      <td>10s</td>\n",
       "      <td>2</td>\n",
       "      <td>0.0</td>\n",
       "      <td>76</td>\n",
       "      <td>12</td>\n",
       "      <td>4</td>\n",
       "    </tr>\n",
       "    <tr>\n",
       "      <th>532172</th>\n",
       "      <td>2020-12</td>\n",
       "      <td>9999</td>\n",
       "      <td>20s</td>\n",
       "      <td>1</td>\n",
       "      <td>0.0</td>\n",
       "      <td>15</td>\n",
       "      <td>12</td>\n",
       "      <td>4</td>\n",
       "    </tr>\n",
       "    <tr>\n",
       "      <th>532173</th>\n",
       "      <td>2020-12</td>\n",
       "      <td>99999</td>\n",
       "      <td>40s</td>\n",
       "      <td>7</td>\n",
       "      <td>0.0</td>\n",
       "      <td>18</td>\n",
       "      <td>12</td>\n",
       "      <td>4</td>\n",
       "    </tr>\n",
       "    <tr>\n",
       "      <th>532174</th>\n",
       "      <td>2020-12</td>\n",
       "      <td>99999</td>\n",
       "      <td>20s</td>\n",
       "      <td>3</td>\n",
       "      <td>0.0</td>\n",
       "      <td>15</td>\n",
       "      <td>12</td>\n",
       "      <td>4</td>\n",
       "    </tr>\n",
       "  </tbody>\n",
       "</table>\n",
       "<p>948887 rows × 8 columns</p>\n",
       "</div>"
      ],
      "text/plain": [
       "           대여일자  대여소번호 연령대코드  이용건수   이동거리(M)  이용시간(분)   월  분기\n",
       "0       2020-01      3   10s     3    2230.0       75   1   1\n",
       "1       2020-01      3   20s     1    1220.0       15   1   1\n",
       "2       2020-01      3   30s     3   17270.0       53   1   1\n",
       "3       2020-01      5   30s     2      90.0       33   1   1\n",
       "4       2020-01      5   10s     1  196010.0       64   1   1\n",
       "...         ...    ...   ...   ...       ...      ...  ..  ..\n",
       "532170  2020-12   9999   60s     1       0.0        0  12   4\n",
       "532171  2020-12   9999   10s     2       0.0       76  12   4\n",
       "532172  2020-12   9999   20s     1       0.0       15  12   4\n",
       "532173  2020-12  99999   40s     7       0.0       18  12   4\n",
       "532174  2020-12  99999   20s     3       0.0       15  12   4\n",
       "\n",
       "[948887 rows x 8 columns]"
      ]
     },
     "execution_count": 11,
     "metadata": {},
     "output_type": "execute_result"
    }
   ],
   "source": [
    "# datetime.strptime(df_2020['대여일자'], \"%\")\n",
    "#월 column, 분기 column 추가\n",
    "df_2020['월'] = pd.to_datetime(df_2020['대여일자'],format='%Y-%m').dt.month\n",
    "df_2020['분기'] = pd.to_datetime(df_2020['대여일자'],format='%Y-%m').dt.quarter\n",
    "df_2020"
   ]
  },
  {
   "cell_type": "code",
   "execution_count": 12,
   "id": "9f29a7ea",
   "metadata": {},
   "outputs": [],
   "source": [
    "bike_2020 = df_2020.groupby(['월'])['이용건수'].sum()\n",
    "df_2020.groupby(['월'])['이용건수'].sum()\n",
    "bike_Q20 = df_2020.groupby(['분기'])['이용건수'].sum()"
   ]
  },
  {
   "cell_type": "code",
   "execution_count": 13,
   "id": "b2b61d6a",
   "metadata": {},
   "outputs": [
    {
     "data": {
      "text/plain": [
       "Text(0.5, 1.0, '2020 seoul public bike consumption')"
      ]
     },
     "execution_count": 13,
     "metadata": {},
     "output_type": "execute_result"
    },
    {
     "data": {
      "image/png": "[encoded data removed]",
      "text/plain": [
       "<Figure size 432x288 with 1 Axes>"
      ]
     },
     "metadata": {
      "needs_background": "light"
     },
     "output_type": "display_data"
    }
   ],
   "source": [
    "plt.bar(df_2020.월.unique(), bike_2020)#좀더 보는사람이 재밌게<-------\n",
    "plt.title('2020 seoul public bike consumption')#2020년 공공자전거 이용 횟수"
   ]
  },
  {
   "cell_type": "code",
   "execution_count": 14,
   "id": "630689dc",
   "metadata": {},
   "outputs": [],
   "source": [
    "# plt.bar(range(1,5),bike_Q20 ) #위랑 똑같은데 분기별-이거 2019랑 같이 비교해서 보여주기"
   ]
  },
  {
   "cell_type": "code",
   "execution_count": 15,
   "id": "68567ff6",
   "metadata": {},
   "outputs": [],
   "source": [
    "#★★★★★★★★★★★2019 전처리 스타트★★★★★★★★★★★★★★★★"
   ]
  },
  {
   "cell_type": "code",
   "execution_count": 16,
   "id": "448ce5a6",
   "metadata": {},
   "outputs": [
    {
     "name": "stdout",
     "output_type": "stream",
     "text": [
      "Index(['대여일자', '대여소번호', '대여소명', '대여구분코드', '성별', '연령대코드', '이용건수', '운동량', '탄소량',\n",
      "       '이동거리', '이용시간'],\n",
      "      dtype='object')\n",
      "Index(['대여일자', '대여소번호', '대여소', '대여구분코드', '성별', '연령대코드', '이용건수', '운동량', '탄소량',\n",
      "       '이동거리(M)', '이동시간(분)'],\n",
      "      dtype='object')\n",
      "Index(['대여일자', '대여소번호', '대여소', '대여구분코드', '성별', '연령대코드', '이용건수', '운동량', '탄소량',\n",
      "       '이동거리(M)', '이동시간(분)'],\n",
      "      dtype='object')\n"
     ]
    },
    {
     "data": {
      "text/html": [
       "<div>\n",
       "<style scoped>\n",
       "    .dataframe tbody tr th:only-of-type {\n",
       "        vertical-align: middle;\n",
       "    }\n",
       "\n",
       "    .dataframe tbody tr th {\n",
       "        vertical-align: top;\n",
       "    }\n",
       "\n",
       "    .dataframe thead th {\n",
       "        text-align: right;\n",
       "    }\n",
       "</style>\n",
       "<table border=\"1\" class=\"dataframe\">\n",
       "  <thead>\n",
       "    <tr style=\"text-align: right;\">\n",
       "      <th></th>\n",
       "      <th>대여일자</th>\n",
       "      <th>대여소번호</th>\n",
       "      <th>대여소</th>\n",
       "      <th>대여구분코드</th>\n",
       "      <th>성별</th>\n",
       "      <th>연령대코드</th>\n",
       "      <th>이용건수</th>\n",
       "      <th>운동량</th>\n",
       "      <th>탄소량</th>\n",
       "      <th>이동거리(M)</th>\n",
       "      <th>이동시간(분)</th>\n",
       "    </tr>\n",
       "  </thead>\n",
       "  <tbody>\n",
       "    <tr>\n",
       "      <th>0</th>\n",
       "      <td>2019-12</td>\n",
       "      <td>3</td>\n",
       "      <td>중랑센터</td>\n",
       "      <td>일일(회원)</td>\n",
       "      <td>M</td>\n",
       "      <td>AGE_003</td>\n",
       "      <td>7</td>\n",
       "      <td>1208.87</td>\n",
       "      <td>10.11</td>\n",
       "      <td>43610</td>\n",
       "      <td>118</td>\n",
       "    </tr>\n",
       "    <tr>\n",
       "      <th>1</th>\n",
       "      <td>2019-12</td>\n",
       "      <td>3</td>\n",
       "      <td>중랑센터</td>\n",
       "      <td>일일(회원)</td>\n",
       "      <td>M</td>\n",
       "      <td>AGE_004</td>\n",
       "      <td>2</td>\n",
       "      <td>0</td>\n",
       "      <td>0</td>\n",
       "      <td>0</td>\n",
       "      <td>10</td>\n",
       "    </tr>\n",
       "    <tr>\n",
       "      <th>2</th>\n",
       "      <td>2019-12</td>\n",
       "      <td>3</td>\n",
       "      <td>중랑센터</td>\n",
       "      <td>정기</td>\n",
       "      <td>M</td>\n",
       "      <td>AGE_005</td>\n",
       "      <td>5</td>\n",
       "      <td>110.02</td>\n",
       "      <td>1.03</td>\n",
       "      <td>4410</td>\n",
       "      <td>99</td>\n",
       "    </tr>\n",
       "    <tr>\n",
       "      <th>3</th>\n",
       "      <td>2019-12</td>\n",
       "      <td>5</td>\n",
       "      <td>상암센터 정비실</td>\n",
       "      <td>일일(회원)</td>\n",
       "      <td>\\N</td>\n",
       "      <td>AGE_005</td>\n",
       "      <td>1</td>\n",
       "      <td>0</td>\n",
       "      <td>0</td>\n",
       "      <td>0</td>\n",
       "      <td>8</td>\n",
       "    </tr>\n",
       "    <tr>\n",
       "      <th>4</th>\n",
       "      <td>2019-12</td>\n",
       "      <td>5</td>\n",
       "      <td>상암센터 정비실</td>\n",
       "      <td>일일(회원)</td>\n",
       "      <td>M</td>\n",
       "      <td>AGE_004</td>\n",
       "      <td>5</td>\n",
       "      <td>427.8</td>\n",
       "      <td>3.92</td>\n",
       "      <td>16880</td>\n",
       "      <td>205</td>\n",
       "    </tr>\n",
       "  </tbody>\n",
       "</table>\n",
       "</div>"
      ],
      "text/plain": [
       "      대여일자  대여소번호       대여소  대여구분코드  성별    연령대코드  이용건수      운동량    탄소량  \\\n",
       "0  2019-12      3      중랑센터  일일(회원)   M  AGE_003     7  1208.87  10.11   \n",
       "1  2019-12      3      중랑센터  일일(회원)   M  AGE_004     2        0      0   \n",
       "2  2019-12      3      중랑센터      정기   M  AGE_005     5   110.02   1.03   \n",
       "3  2019-12      5  상암센터 정비실  일일(회원)  \\N  AGE_005     1        0      0   \n",
       "4  2019-12      5  상암센터 정비실  일일(회원)   M  AGE_004     5    427.8   3.92   \n",
       "\n",
       "   이동거리(M)  이동시간(분)  \n",
       "0    43610      118  \n",
       "1        0       10  \n",
       "2     4410       99  \n",
       "3        0        8  \n",
       "4    16880      205  "
      ]
     },
     "execution_count": 16,
     "metadata": {},
     "output_type": "execute_result"
    }
   ],
   "source": [
    "#합치기 전 데이터 통일\n",
    "for df in [d1,d10,d11]:\n",
    "    print(df.columns)\n",
    "    \n",
    "d1.columns = d10.columns #column name 동일하게 만들기\n",
    "d1.head()\n",
    "\n",
    "# #대여일자 데이터 형식 동일하게 만들기\n",
    "d1['대여일자'] = '2019-12'\n",
    "d1.head()"
   ]
  },
  {
   "cell_type": "code",
   "execution_count": 17,
   "id": "dce79e17",
   "metadata": {},
   "outputs": [
    {
     "data": {
      "text/plain": [
       "대여일자       0\n",
       "대여소번호      0\n",
       "연령대코드      0\n",
       "이용건수       0\n",
       "이동거리(M)    0\n",
       "이동시간(분)    0\n",
       "dtype: int64"
      ]
     },
     "execution_count": 17,
     "metadata": {},
     "output_type": "execute_result"
    }
   ],
   "source": [
    "df_2019 = pd.concat([d1,d10,d11])\n",
    "df_2019 = df_2019[['대여일자','대여소번호','연령대코드','이용건수','이동거리(M)','이동시간(분)']]\n",
    "df_2019\n",
    "df_2019[df_2019['이동거리(M)'].isnull()]#null값 없음\n",
    "df_2019.isnull().sum()"
   ]
  },
  {
   "cell_type": "code",
   "execution_count": 18,
   "id": "d5ec6134",
   "metadata": {},
   "outputs": [
    {
     "data": {
      "text/html": [
       "<div>\n",
       "<style scoped>\n",
       "    .dataframe tbody tr th:only-of-type {\n",
       "        vertical-align: middle;\n",
       "    }\n",
       "\n",
       "    .dataframe tbody tr th {\n",
       "        vertical-align: top;\n",
       "    }\n",
       "\n",
       "    .dataframe thead th {\n",
       "        text-align: right;\n",
       "    }\n",
       "</style>\n",
       "<table border=\"1\" class=\"dataframe\">\n",
       "  <thead>\n",
       "    <tr style=\"text-align: right;\">\n",
       "      <th></th>\n",
       "      <th>대여일자</th>\n",
       "      <th>대여소번호</th>\n",
       "      <th>연령대코드</th>\n",
       "      <th>이용건수</th>\n",
       "      <th>이동거리(M)</th>\n",
       "      <th>이동시간(분)</th>\n",
       "    </tr>\n",
       "  </thead>\n",
       "  <tbody>\n",
       "    <tr>\n",
       "      <th>0</th>\n",
       "      <td>2019-12</td>\n",
       "      <td>3</td>\n",
       "      <td>10s</td>\n",
       "      <td>7</td>\n",
       "      <td>43610</td>\n",
       "      <td>118</td>\n",
       "    </tr>\n",
       "    <tr>\n",
       "      <th>1</th>\n",
       "      <td>2019-12</td>\n",
       "      <td>3</td>\n",
       "      <td>20s</td>\n",
       "      <td>2</td>\n",
       "      <td>0</td>\n",
       "      <td>10</td>\n",
       "    </tr>\n",
       "    <tr>\n",
       "      <th>2</th>\n",
       "      <td>2019-12</td>\n",
       "      <td>3</td>\n",
       "      <td>30s</td>\n",
       "      <td>5</td>\n",
       "      <td>4410</td>\n",
       "      <td>99</td>\n",
       "    </tr>\n",
       "    <tr>\n",
       "      <th>3</th>\n",
       "      <td>2019-12</td>\n",
       "      <td>5</td>\n",
       "      <td>30s</td>\n",
       "      <td>1</td>\n",
       "      <td>0</td>\n",
       "      <td>8</td>\n",
       "    </tr>\n",
       "    <tr>\n",
       "      <th>4</th>\n",
       "      <td>2019-12</td>\n",
       "      <td>5</td>\n",
       "      <td>20s</td>\n",
       "      <td>5</td>\n",
       "      <td>16880</td>\n",
       "      <td>205</td>\n",
       "    </tr>\n",
       "    <tr>\n",
       "      <th>...</th>\n",
       "      <td>...</td>\n",
       "      <td>...</td>\n",
       "      <td>...</td>\n",
       "      <td>...</td>\n",
       "      <td>...</td>\n",
       "      <td>...</td>\n",
       "    </tr>\n",
       "    <tr>\n",
       "      <th>336816</th>\n",
       "      <td>2019-11</td>\n",
       "      <td>9998</td>\n",
       "      <td>20s</td>\n",
       "      <td>8</td>\n",
       "      <td>7910</td>\n",
       "      <td>86</td>\n",
       "    </tr>\n",
       "    <tr>\n",
       "      <th>336817</th>\n",
       "      <td>2019-11</td>\n",
       "      <td>99998</td>\n",
       "      <td>30s</td>\n",
       "      <td>2</td>\n",
       "      <td>0</td>\n",
       "      <td>0</td>\n",
       "    </tr>\n",
       "    <tr>\n",
       "      <th>336818</th>\n",
       "      <td>2019-11</td>\n",
       "      <td>99999</td>\n",
       "      <td>50s</td>\n",
       "      <td>6</td>\n",
       "      <td>48460</td>\n",
       "      <td>71</td>\n",
       "    </tr>\n",
       "    <tr>\n",
       "      <th>336819</th>\n",
       "      <td>2019-11</td>\n",
       "      <td>99999</td>\n",
       "      <td>20s</td>\n",
       "      <td>10</td>\n",
       "      <td>50680</td>\n",
       "      <td>161</td>\n",
       "    </tr>\n",
       "    <tr>\n",
       "      <th>336820</th>\n",
       "      <td>2019-11</td>\n",
       "      <td>99999</td>\n",
       "      <td>20s</td>\n",
       "      <td>17</td>\n",
       "      <td>75060</td>\n",
       "      <td>601</td>\n",
       "    </tr>\n",
       "  </tbody>\n",
       "</table>\n",
       "<p>675209 rows × 6 columns</p>\n",
       "</div>"
      ],
      "text/plain": [
       "           대여일자  대여소번호 연령대코드  이용건수  이동거리(M)  이동시간(분)\n",
       "0       2019-12      3   10s     7    43610      118\n",
       "1       2019-12      3   20s     2        0       10\n",
       "2       2019-12      3   30s     5     4410       99\n",
       "3       2019-12      5   30s     1        0        8\n",
       "4       2019-12      5   20s     5    16880      205\n",
       "...         ...    ...   ...   ...      ...      ...\n",
       "336816  2019-11   9998   20s     8     7910       86\n",
       "336817  2019-11  99998   30s     2        0        0\n",
       "336818  2019-11  99999   50s     6    48460       71\n",
       "336819  2019-11  99999   20s    10    50680      161\n",
       "336820  2019-11  99999   20s    17    75060      601\n",
       "\n",
       "[675209 rows x 6 columns]"
      ]
     },
     "execution_count": 18,
     "metadata": {},
     "output_type": "execute_result"
    }
   ],
   "source": [
    "keys = df_2019.연령대코드.unique()\n",
    "values = ['10s','20s','30s','40s','50s','60s','70s','etc']\n",
    "dic = dict(zip(keys,values))\n",
    "dic\n",
    "df_2019['연령대코드'] = df_2019.연령대코드.apply(lambda x: dic[x])\n",
    "df_2019"
   ]
  },
  {
   "cell_type": "code",
   "execution_count": 19,
   "id": "e7b8ed07",
   "metadata": {},
   "outputs": [],
   "source": [
    "#월별, 분기별 컬럼 추가\n",
    "df_2019['월'] = pd.to_datetime(df_2019['대여일자'],format='%Y-%m').dt.month\n",
    "df_2019['분기'] = pd.to_datetime(df_2019['대여일자'],format='%Y-%m').dt.quarter\n",
    "bike_2019 = df_2019.groupby(['월'])['이용건수'].sum() #bike_2019: 2019년 월별 이용횟수\n",
    "df_2019.groupby(['월'])['이용건수'].sum()\n",
    "\n",
    "bike_Q19 = df_2019.groupby(['분기'])['이용건수'].sum() #bike_Q19: 2019년 분기별 이용횟수"
   ]
  },
  {
   "cell_type": "code",
   "execution_count": 20,
   "id": "0ff0ab7d",
   "metadata": {},
   "outputs": [
    {
     "data": {
      "image/png": "[encoded data removed]",
      "text/plain": [
       "<Figure size 432x288 with 1 Axes>"
      ]
     },
     "metadata": {
      "needs_background": "light"
     },
     "output_type": "display_data"
    }
   ],
   "source": [
    "plt.bar(range(1,13), bike_2019)\n",
    "plt.title('2019 bike per month')\n",
    "plt.show()"
   ]
  },
  {
   "cell_type": "code",
   "execution_count": 21,
   "id": "edd00856",
   "metadata": {},
   "outputs": [
    {
     "data": {
      "image/png": "[encoded data removed]",
      "text/plain": [
       "<Figure size 864x576 with 1 Axes>"
      ]
     },
     "metadata": {
      "needs_background": "light"
     },
     "output_type": "display_data"
    }
   ],
   "source": [
    "#2019 vs 2020 분기별 공공자전거 이용 횟수◀◁◀◁◀◁◀◁◀◁◀◁◀◁◀◁◀◁◀◁◀◁◀◁◀◁\n",
    "plt.figure(figsize=(12,8))\n",
    "plt.title('2019 vs 2020 quartely public bike used')\n",
    "plt.bar(np.arange(0.8,4.8),  bike_Q19, width = 0.4, label = '2019', color='lightblue')\n",
    "plt.bar(np.arange(1.2,5.2),bike_Q20, width = 0.4, label = '2020', color = 'orange' )\n",
    "plt.xlabel('quarter')\n",
    "plt.xticks(np.arange(1,5))\n",
    "plt.legend()\n",
    "plt.show()"
   ]
  },
  {
   "cell_type": "code",
   "execution_count": 22,
   "id": "4ea9fa5b",
   "metadata": {},
   "outputs": [
    {
     "data": {
      "image/png": "[encoded data removed]",
      "text/plain": [
       "<Figure size 432x288 with 1 Axes>"
      ]
     },
     "metadata": {
      "needs_background": "light"
     },
     "output_type": "display_data"
    }
   ],
   "source": [
    "plt.title('2019 vs 2020 quartely public bike used')\n",
    "plt.plot(bike_Q19, label = '2019', color='lightblue')\n",
    "plt.plot(bike_Q20, label = '2020', color = 'orange' )\n",
    "plt.legend()\n",
    "plt.xticks(np.arange(1,5))\n",
    "plt.show()"
   ]
  },
  {
   "cell_type": "code",
   "execution_count": 23,
   "id": "0670126b",
   "metadata": {},
   "outputs": [],
   "source": [
    "#지역별로 플롯이 나눠져있음, 플롯 안 x축: 연도, y축: 평당분양가격★★★★★★★★★★★★★★★★★★★★★고민해보기\n",
    "\n",
    "# sns.relplot(data=df_last, x=\"연도\", y=\"평당분양가격\", \n",
    "#             hue=\"지역명\", kind=\"line\", col=\"지역명\", col_wrap=4, ci=None)\n",
    "\n",
    "# sns.relplot(data=df_2019, x=\"월\", y=\"bikeQ_19\", \n",
    "#             hue=\"분기\", kind=\"line\", col=\"분기\", col_wrap=4, ci=None)"
   ]
  },
  {
   "cell_type": "code",
   "execution_count": 24,
   "id": "386237c7",
   "metadata": {
    "scrolled": false
   },
   "outputs": [
    {
     "data": {
      "image/png": "[encoded data removed]",
      "text/plain": [
       "<Figure size 432x288 with 1 Axes>"
      ]
     },
     "metadata": {
      "needs_background": "light"
     },
     "output_type": "display_data"
    },
    {
     "data": {
      "image/png": "[encoded data removed]",
      "text/plain": [
       "<Figure size 432x288 with 1 Axes>"
      ]
     },
     "metadata": {
      "needs_background": "light"
     },
     "output_type": "display_data"
    }
   ],
   "source": [
    "#2019 vs 2020월별막대- 위에 있는 분기별 막대로 대체\n",
    "months = range(1,13)\n",
    "# plt.figure(figsize=(10,8))\n",
    "plt.bar(months, bike_2019, width = 0.4, bottom = 10, label='2019', color='wheat')\n",
    "plt.bar([i+0.4 for i in months], bike_2020, label='2020',width = 0.4, color = 'peru')\n",
    "plt.legend()\n",
    "plt.ylabel('total consumption per month(unit: million)')\n",
    "plt.title('Seoul bike consumption per month')\n",
    "plt.show()\n",
    "# plt.figure(figsize=(10,8))\n",
    "plt.plot(bike_2019, label='2019')\n",
    "plt.plot(bike_2020, label='2020')\n",
    "plt.legend()\n",
    "plt.show()"
   ]
  },
  {
   "cell_type": "code",
   "execution_count": 25,
   "id": "1c95aa2d",
   "metadata": {},
   "outputs": [],
   "source": [
    "#★★★★★★★★★★★★★★★★★2019 vs 2021 6월까지★★★★★★★★★★★★★★★★★★★★★★"
   ]
  },
  {
   "cell_type": "code",
   "execution_count": 26,
   "id": "bff2f1f1",
   "metadata": {},
   "outputs": [
    {
     "data": {
      "text/html": [
       "<div>\n",
       "<style scoped>\n",
       "    .dataframe tbody tr th:only-of-type {\n",
       "        vertical-align: middle;\n",
       "    }\n",
       "\n",
       "    .dataframe tbody tr th {\n",
       "        vertical-align: top;\n",
       "    }\n",
       "\n",
       "    .dataframe thead th {\n",
       "        text-align: right;\n",
       "    }\n",
       "</style>\n",
       "<table border=\"1\" class=\"dataframe\">\n",
       "  <thead>\n",
       "    <tr style=\"text-align: right;\">\n",
       "      <th></th>\n",
       "      <th>대여일자</th>\n",
       "      <th>대여소번호</th>\n",
       "      <th>대여소명</th>\n",
       "      <th>대여구분코드</th>\n",
       "      <th>성별</th>\n",
       "      <th>연령대코드</th>\n",
       "      <th>이용건수</th>\n",
       "      <th>운동량</th>\n",
       "      <th>탄소량</th>\n",
       "      <th>이동거리(M)</th>\n",
       "      <th>이용시간(분)</th>\n",
       "    </tr>\n",
       "  </thead>\n",
       "  <tbody>\n",
       "    <tr>\n",
       "      <th>0</th>\n",
       "      <td>2021-01</td>\n",
       "      <td>3</td>\n",
       "      <td>중랑센터</td>\n",
       "      <td>일일(회원)</td>\n",
       "      <td>M</td>\n",
       "      <td>AGE_003</td>\n",
       "      <td>2</td>\n",
       "      <td>47.68</td>\n",
       "      <td>0.40</td>\n",
       "      <td>1720.00</td>\n",
       "      <td>25</td>\n",
       "    </tr>\n",
       "    <tr>\n",
       "      <th>1</th>\n",
       "      <td>2021-01</td>\n",
       "      <td>3</td>\n",
       "      <td>중랑센터</td>\n",
       "      <td>정기</td>\n",
       "      <td>M</td>\n",
       "      <td>AGE_003</td>\n",
       "      <td>11</td>\n",
       "      <td>578.98</td>\n",
       "      <td>2.87</td>\n",
       "      <td>12390.48</td>\n",
       "      <td>166</td>\n",
       "    </tr>\n",
       "    <tr>\n",
       "      <th>2</th>\n",
       "      <td>2021-01</td>\n",
       "      <td>3</td>\n",
       "      <td>중랑센터</td>\n",
       "      <td>정기</td>\n",
       "      <td>M</td>\n",
       "      <td>AGE_004</td>\n",
       "      <td>1</td>\n",
       "      <td>81.65</td>\n",
       "      <td>0.53</td>\n",
       "      <td>2291.05</td>\n",
       "      <td>13</td>\n",
       "    </tr>\n",
       "    <tr>\n",
       "      <th>3</th>\n",
       "      <td>2021-01</td>\n",
       "      <td>5</td>\n",
       "      <td>상암센터 정비실</td>\n",
       "      <td>일일(회원)</td>\n",
       "      <td>\\N</td>\n",
       "      <td>AGE_004</td>\n",
       "      <td>1</td>\n",
       "      <td>511.95</td>\n",
       "      <td>3.53</td>\n",
       "      <td>15209.58</td>\n",
       "      <td>47</td>\n",
       "    </tr>\n",
       "    <tr>\n",
       "      <th>4</th>\n",
       "      <td>2021-01</td>\n",
       "      <td>5</td>\n",
       "      <td>상암센터 정비실</td>\n",
       "      <td>일일(회원)</td>\n",
       "      <td>M</td>\n",
       "      <td>AGE_004</td>\n",
       "      <td>6</td>\n",
       "      <td>371.10</td>\n",
       "      <td>3.39</td>\n",
       "      <td>14642.60</td>\n",
       "      <td>134</td>\n",
       "    </tr>\n",
       "  </tbody>\n",
       "</table>\n",
       "</div>"
      ],
      "text/plain": [
       "      대여일자  대여소번호      대여소명  대여구분코드  성별    연령대코드  이용건수     운동량   탄소량  \\\n",
       "0  2021-01      3      중랑센터  일일(회원)   M  AGE_003     2   47.68  0.40   \n",
       "1  2021-01      3      중랑센터      정기   M  AGE_003    11  578.98  2.87   \n",
       "2  2021-01      3      중랑센터      정기   M  AGE_004     1   81.65  0.53   \n",
       "3  2021-01      5  상암센터 정비실  일일(회원)  \\N  AGE_004     1  511.95  3.53   \n",
       "4  2021-01      5  상암센터 정비실  일일(회원)   M  AGE_004     6  371.10  3.39   \n",
       "\n",
       "    이동거리(M)  이용시간(분)  \n",
       "0   1720.00       25  \n",
       "1  12390.48      166  \n",
       "2   2291.05       13  \n",
       "3  15209.58       47  \n",
       "4  14642.60      134  "
      ]
     },
     "execution_count": 26,
     "metadata": {},
     "output_type": "execute_result"
    }
   ],
   "source": [
    "half_19 = df_2019[df_2019['월']<7] #2019 1-6월\n",
    "half_21 = pd.concat([d5,d6])\n",
    "half_21.head()"
   ]
  },
  {
   "cell_type": "code",
   "execution_count": 27,
   "id": "e151476c",
   "metadata": {},
   "outputs": [
    {
     "data": {
      "text/html": [
       "<div>\n",
       "<style scoped>\n",
       "    .dataframe tbody tr th:only-of-type {\n",
       "        vertical-align: middle;\n",
       "    }\n",
       "\n",
       "    .dataframe tbody tr th {\n",
       "        vertical-align: top;\n",
       "    }\n",
       "\n",
       "    .dataframe thead th {\n",
       "        text-align: right;\n",
       "    }\n",
       "</style>\n",
       "<table border=\"1\" class=\"dataframe\">\n",
       "  <thead>\n",
       "    <tr style=\"text-align: right;\">\n",
       "      <th></th>\n",
       "      <th>대여일자</th>\n",
       "      <th>대여소번호</th>\n",
       "      <th>연령대코드</th>\n",
       "      <th>이용건수</th>\n",
       "      <th>이동거리(M)</th>\n",
       "      <th>이용시간(분)</th>\n",
       "    </tr>\n",
       "  </thead>\n",
       "  <tbody>\n",
       "  </tbody>\n",
       "</table>\n",
       "</div>"
      ],
      "text/plain": [
       "Empty DataFrame\n",
       "Columns: [대여일자, 대여소번호, 연령대코드, 이용건수, 이동거리(M), 이용시간(분)]\n",
       "Index: []"
      ]
     },
     "execution_count": 27,
     "metadata": {},
     "output_type": "execute_result"
    }
   ],
   "source": [
    "half_21 = half_21[['대여일자','대여소번호','연령대코드','이용건수','이동거리(M)','이용시간(분)']]\n",
    "half_21[half_21['이동거리(M)'].isnull()]#null값 없음\n"
   ]
  },
  {
   "cell_type": "code",
   "execution_count": 28,
   "id": "f06a0437",
   "metadata": {},
   "outputs": [],
   "source": [
    "keys = half_21.연령대코드.unique()\n",
    "values = ['10s','20s','30s','40s','50s','60s','70s','etc']\n",
    "dic = dict(zip(keys,values))\n",
    "half_21['연령대코드'] = half_21.연령대코드.apply(lambda x: dic[x])\n",
    "half_21['월'] = pd.to_datetime(half_21['대여일자'],format='%Y-%m').dt.month\n",
    "bike_21 = half_21.groupby(['월'])['이용건수'].sum()"
   ]
  },
  {
   "cell_type": "code",
   "execution_count": 29,
   "id": "ff212d7d",
   "metadata": {},
   "outputs": [],
   "source": [
    "sample = bike_21-bike_2019[:6]"
   ]
  },
  {
   "cell_type": "code",
   "execution_count": 30,
   "id": "882e6256",
   "metadata": {},
   "outputs": [
    {
     "data": {
      "text/plain": [
       "월\n",
       "1     297033\n",
       "2     762146\n",
       "3    1278013\n",
       "4    1572530\n",
       "5     797374\n",
       "6    1164515\n",
       "Name: 이용건수, dtype: int64"
      ]
     },
     "execution_count": 30,
     "metadata": {},
     "output_type": "execute_result"
    }
   ],
   "source": [
    "sample"
   ]
  },
  {
   "cell_type": "code",
   "execution_count": 31,
   "id": "4d316519",
   "metadata": {},
   "outputs": [
    {
     "data": {
      "image/png": "[encoded data removed]",
      "text/plain": [
       "<Figure size 432x288 with 1 Axes>"
      ]
     },
     "metadata": {
      "needs_background": "light"
     },
     "output_type": "display_data"
    }
   ],
   "source": [
    "#목적: 지하철, 버스 2019 vs 2021 이용과 비교하기 위해 사용◀◁◀◁◀◁◀◁◀◁◀◁◀◁◀◁◀◁◀◁◀◁◀◁◀◁\n",
    "plt.bar(np.arange(0.8,6.8), bike_2019[:6], label = 'half_19', width = 0.4)\n",
    "plt.bar(np.arange(1.2,7.2), bike_21, label = 'half_21', width = 0.4)\n",
    "plt.legend()\n",
    "plt.title('2019 vs 2021 monthly public bike use')\n",
    "plt.xlabel('month')\n",
    "plt.show()"
   ]
  },
  {
   "cell_type": "code",
   "execution_count": 32,
   "id": "49eeb157",
   "metadata": {},
   "outputs": [],
   "source": [
    "#2020 사용자의 연령별 분포 확인하기\n",
    "#이거 하고나서 교통사고 데이터의 나이 찾아보기\n",
    "df_2020.head()\n",
    "count_20 = df_2020.groupby(['연령대코드'])['이용건수'].sum()\n",
    "driven_20 = df_2020.groupby(['연령대코드'])['이동거리(M)'].mean()"
   ]
  },
  {
   "cell_type": "code",
   "execution_count": 33,
   "id": "d4c0a3c6",
   "metadata": {},
   "outputs": [
    {
     "data": {
      "image/png": "[encoded data removed]",
      "text/plain": [
       "<Figure size 432x288 with 2 Axes>"
      ]
     },
     "metadata": {
      "needs_background": "light"
     },
     "output_type": "display_data"
    }
   ],
   "source": [
    "#연령대별 자전거 이용 횟수 & 횟수별 이동 평균 거리(km)\n",
    "#왜 그래프 크기가 안커지지!!!!!!\n",
    "#plt.figure(figsize=(12,8))\n",
    "\n",
    "fig, ax1 = plt.subplots()\n",
    "ax2 = ax1.twinx()\n",
    "\n",
    "bar = ax1.bar(df_2020['연령대코드'].unique(), count_20, label = 'count', color = 'lightblue')\n",
    "plot = ax2.plot(driven_20, label = 'distance driven', color='red')\n",
    "ax1.set_ylabel('total consumptions')\n",
    "ax1.set_ylim(0,12000000)\n",
    "ax2.set_ylabel('mean driven distance')\n",
    "ax2.set_ylim(0, 160000)\n",
    "ax2.set_yticks([20000,90000,160000])\n",
    "plt.legend()\n",
    "plt.title('total usement and mean distance driven per age')\n",
    "plt.show()"
   ]
  },
  {
   "cell_type": "code",
   "execution_count": 34,
   "id": "ae515ec7",
   "metadata": {},
   "outputs": [],
   "source": [
    "#그래프 해석: 50대의 이용자 수도, 평균 거리 수도 많은 것을 확인할 수 있다.\n",
    "#아...상관관계분석 하는게좋긴하겠지만,,,일단 pass\n",
    "#자전거가 피해자인 교통사고 살펴보기"
   ]
  },
  {
   "cell_type": "code",
   "execution_count": 35,
   "id": "4afe6a4e",
   "metadata": {},
   "outputs": [],
   "source": [
    "#2020 교통사고 데이터 보기~~~~~~\n",
    "taas1 = pd.read_csv('교통사고1720_taas/서울시 자전거 교통사고_피해자_2020.csv', encoding='utf-8')\n",
    "taas2 = pd.read_csv('교통사고1720_taas/서울시 자전거 교통사고_피해자_2017_2019.csv', encoding='utf-8')\n"
   ]
  },
  {
   "cell_type": "code",
   "execution_count": 36,
   "id": "9b1534c8",
   "metadata": {},
   "outputs": [],
   "source": [
    "taas = pd.concat([taas1, taas2])#2017-2020 dataset concate하기\n",
    "taas['월'] = [dt.strptime(taas.사고일시.iloc[i], \"%Y년 %m월 %d일 %H시\").month for i in range(len(taas))]\n",
    "taas.head()\n",
    "taas['월'].unique()\n",
    "taas['년'] = [dt.strptime(taas.사고일시.iloc[i], \"%Y년 %m월 %d일 %H시\").year for i in range(len(taas))]"
   ]
  },
  {
   "cell_type": "code",
   "execution_count": 37,
   "id": "a82a8d80",
   "metadata": {},
   "outputs": [
    {
     "data": {
      "text/html": [
       "<div>\n",
       "<style scoped>\n",
       "    .dataframe tbody tr th:only-of-type {\n",
       "        vertical-align: middle;\n",
       "    }\n",
       "\n",
       "    .dataframe tbody tr th {\n",
       "        vertical-align: top;\n",
       "    }\n",
       "\n",
       "    .dataframe thead th {\n",
       "        text-align: right;\n",
       "    }\n",
       "</style>\n",
       "<table border=\"1\" class=\"dataframe\">\n",
       "  <thead>\n",
       "    <tr style=\"text-align: right;\">\n",
       "      <th></th>\n",
       "      <th>사고번호</th>\n",
       "      <th>요일</th>\n",
       "      <th>시군구</th>\n",
       "      <th>노면상태</th>\n",
       "      <th>기상상태</th>\n",
       "      <th>가해운전자 성별</th>\n",
       "      <th>가해운전자 연령</th>\n",
       "      <th>피해운전자 성별</th>\n",
       "      <th>피해운전자 연령</th>\n",
       "      <th>피해운전자 상해정도</th>\n",
       "      <th>월</th>\n",
       "      <th>년</th>\n",
       "    </tr>\n",
       "  </thead>\n",
       "  <tbody>\n",
       "    <tr>\n",
       "      <th>0</th>\n",
       "      <td>2020010100100101</td>\n",
       "      <td>수요일</td>\n",
       "      <td>서울특별시 강동구 성내동</td>\n",
       "      <td>포장 - 건조</td>\n",
       "      <td>흐림</td>\n",
       "      <td>남</td>\n",
       "      <td>43세</td>\n",
       "      <td>남</td>\n",
       "      <td>76세</td>\n",
       "      <td>경상</td>\n",
       "      <td>1</td>\n",
       "      <td>2020</td>\n",
       "    </tr>\n",
       "    <tr>\n",
       "      <th>1</th>\n",
       "      <td>2020010200100312</td>\n",
       "      <td>목요일</td>\n",
       "      <td>서울특별시 송파구 잠실동</td>\n",
       "      <td>포장 - 건조</td>\n",
       "      <td>맑음</td>\n",
       "      <td>여</td>\n",
       "      <td>47세</td>\n",
       "      <td>남</td>\n",
       "      <td>64세</td>\n",
       "      <td>중상</td>\n",
       "      <td>1</td>\n",
       "      <td>2020</td>\n",
       "    </tr>\n",
       "    <tr>\n",
       "      <th>2</th>\n",
       "      <td>2020010200100341</td>\n",
       "      <td>목요일</td>\n",
       "      <td>서울특별시 송파구 풍납동</td>\n",
       "      <td>포장 - 건조</td>\n",
       "      <td>맑음</td>\n",
       "      <td>남</td>\n",
       "      <td>22세</td>\n",
       "      <td>여</td>\n",
       "      <td>53세</td>\n",
       "      <td>경상</td>\n",
       "      <td>1</td>\n",
       "      <td>2020</td>\n",
       "    </tr>\n",
       "    <tr>\n",
       "      <th>3</th>\n",
       "      <td>2020010400100045</td>\n",
       "      <td>토요일</td>\n",
       "      <td>서울특별시 중랑구 상봉동</td>\n",
       "      <td>포장 - 건조</td>\n",
       "      <td>흐림</td>\n",
       "      <td>여</td>\n",
       "      <td>34세</td>\n",
       "      <td>남</td>\n",
       "      <td>52세</td>\n",
       "      <td>중상</td>\n",
       "      <td>1</td>\n",
       "      <td>2020</td>\n",
       "    </tr>\n",
       "    <tr>\n",
       "      <th>4</th>\n",
       "      <td>2020010400100306</td>\n",
       "      <td>토요일</td>\n",
       "      <td>서울특별시 광진구 자양동</td>\n",
       "      <td>포장 - 건조</td>\n",
       "      <td>맑음</td>\n",
       "      <td>남</td>\n",
       "      <td>64세</td>\n",
       "      <td>여</td>\n",
       "      <td>20세</td>\n",
       "      <td>상해없음</td>\n",
       "      <td>1</td>\n",
       "      <td>2020</td>\n",
       "    </tr>\n",
       "  </tbody>\n",
       "</table>\n",
       "</div>"
      ],
      "text/plain": [
       "               사고번호   요일            시군구     노면상태 기상상태 가해운전자 성별 가해운전자 연령  \\\n",
       "0  2020010100100101  수요일  서울특별시 강동구 성내동  포장 - 건조   흐림        남      43세   \n",
       "1  2020010200100312  목요일  서울특별시 송파구 잠실동  포장 - 건조   맑음        여      47세   \n",
       "2  2020010200100341  목요일  서울특별시 송파구 풍납동  포장 - 건조   맑음        남      22세   \n",
       "3  2020010400100045  토요일  서울특별시 중랑구 상봉동  포장 - 건조   흐림        여      34세   \n",
       "4  2020010400100306  토요일  서울특별시 광진구 자양동  포장 - 건조   맑음        남      64세   \n",
       "\n",
       "  피해운전자 성별 피해운전자 연령 피해운전자 상해정도  월     년  \n",
       "0        남      76세         경상  1  2020  \n",
       "1        남      64세         중상  1  2020  \n",
       "2        여      53세         경상  1  2020  \n",
       "3        남      52세         중상  1  2020  \n",
       "4        여      20세       상해없음  1  2020  "
      ]
     },
     "execution_count": 37,
     "metadata": {},
     "output_type": "execute_result"
    }
   ],
   "source": [
    "taas = taas[['사고번호', '요일', '시군구', '노면상태', '기상상태', '가해운전자 성별', '가해운전자 연령', '피해운전자 성별', '피해운전자 연령', '피해운전자 상해정도', '월', '년']]\n",
    "taas.head()"
   ]
  },
  {
   "cell_type": "code",
   "execution_count": 38,
   "id": "a23f990c",
   "metadata": {
    "scrolled": true
   },
   "outputs": [
    {
     "data": {
      "text/plain": [
       "사고번호          0\n",
       "요일            0\n",
       "시군구           0\n",
       "노면상태          0\n",
       "기상상태          0\n",
       "가해운전자 성별      0\n",
       "가해운전자 연령      0\n",
       "피해운전자 성별      0\n",
       "피해운전자 연령      0\n",
       "피해운전자 상해정도    0\n",
       "월             0\n",
       "년             0\n",
       "dtype: int64"
      ]
     },
     "execution_count": 38,
     "metadata": {},
     "output_type": "execute_result"
    }
   ],
   "source": [
    "taas['피해운전자 연령'] = taas['피해운전자 연령'].str.extract('(\\d+)')#피해운전자 연령 숫자로 변환\n",
    "taas.isnull().sum()\n",
    "taas = taas.dropna()\n",
    "taas.isnull().sum() #null값 제거"
   ]
  },
  {
   "cell_type": "code",
   "execution_count": 39,
   "id": "5478d88d",
   "metadata": {},
   "outputs": [],
   "source": [
    "def ages(age):\n",
    "    age = int(age)\n",
    "    if age>=80: return 'etc'\n",
    "    elif age>=70: return '70s'\n",
    "    elif age>=60: return '60s'\n",
    "    elif age>=50: return '50s'\n",
    "    elif age>=40: return '40s'\n",
    "    elif age>=30: return '30s'\n",
    "    elif age>=20: return '20s'\n",
    "    else: return '10s'\n"
   ]
  },
  {
   "cell_type": "code",
   "execution_count": 40,
   "id": "c7418a7d",
   "metadata": {},
   "outputs": [],
   "source": [
    "taas['피해운전자 연령'] = taas['피해운전자 연령'].apply(ages)"
   ]
  },
  {
   "cell_type": "code",
   "execution_count": 46,
   "id": "2470a7ae",
   "metadata": {
    "scrolled": false
   },
   "outputs": [
    {
     "data": {
      "image/png": "[encoded data removed]",
      "text/plain": [
       "<Figure size 432x288 with 1 Axes>"
      ]
     },
     "metadata": {
      "needs_background": "light"
     },
     "output_type": "display_data"
    }
   ],
   "source": [
    "#월별 교통사고: 분기별로 바꿈★★★★★★★★\n",
    "# taas.groupby(['월']).count()['사고번호']\n",
    "month_20 = taas[taas['년']==2020].groupby(['월']).count()['사고번호']\n",
    "\n",
    "accident_Q20 = [sum([month_20.iloc[i],month_20.iloc[i+4],month_20.iloc[i+8]]) for i in range(len(month_20)//3)]\n",
    "accident_Q20\n",
    "plt.bar(range(1,5), accident_Q20)\n",
    "plt.title('2020 quartely total traffic accident')\n",
    "plt.xticks([1,2,3,4])\n",
    "plt.show()"
   ]
  },
  {
   "cell_type": "code",
   "execution_count": 45,
   "id": "56405bb2",
   "metadata": {
    "scrolled": true
   },
   "outputs": [
    {
     "data": {
      "text/plain": [
       "<BarContainer object of 8 artists>"
      ]
     },
     "execution_count": 45,
     "metadata": {},
     "output_type": "execute_result"
    },
    {
     "data": {
      "image/png": "[encoded data removed]",
      "text/plain": [
       "<Figure size 432x288 with 1 Axes>"
      ]
     },
     "metadata": {
      "needs_background": "light"
     },
     "output_type": "display_data"
    }
   ],
   "source": [
    "# 2020년 연령별 교통사고\n",
    "age_20 = taas[taas['년']==2020].groupby(['피해운전자 연령'])['사고번호'].count()\n",
    "agelist = df_2020['연령대코드'].unique()\n",
    "plt.title('total traffic accidents per ages in 2020')\n",
    "plt.bar(agelist, age_20)"
   ]
  },
  {
   "cell_type": "code",
   "execution_count": 48,
   "id": "d572166e",
   "metadata": {},
   "outputs": [],
   "source": [
    "# taas[taas['피해운전자 연령']=='50s'].groupby(['월'])['사고번호'].count().max()\n",
    "taas20 = taas[taas['년']==2020]\n",
    "age50s_20 = taas20[taas20['피해운전자 연령']=='50s'].groupby(['월'])['사고번호'].count()"
   ]
  },
  {
   "cell_type": "code",
   "execution_count": 49,
   "id": "df08a917",
   "metadata": {},
   "outputs": [
    {
     "data": {
      "image/png": "[encoded data removed]",
      "text/plain": [
       "<Figure size 432x288 with 2 Axes>"
      ]
     },
     "metadata": {
      "needs_background": "light"
     },
     "output_type": "display_data"
    }
   ],
   "source": [
    "#★★★★★★★★★★★★★★★★★★★★★★★★★★★2020 월별 연령대 사고 횟수★★★★★★★★★★★★★★★★★★★★★★★★\n",
    "fig, ax1 = plt.subplots()\n",
    "ax2 = ax1.twinx()\n",
    "\n",
    "#총 사고 횟수\n",
    "ax1.bar(range(1,13), month_20, label='total accident', color = 'powderblue')\n",
    "\n",
    "#월별 연령대 평균 사고 vs 월별 50대 사고\n",
    "# plt.bar(ages, taas.groupby(['피해운전자 연령'])['사고번호'].count())\n",
    "age_mean = taas[taas['년']==2020].groupby(['월'])['사고번호'].count()/len(ages)\n",
    "\n",
    "ax2.plot(range(1,13), age_mean, label='mean', color = 'g')\n",
    "ax2.plot(range(1,13), age50s_20, label='50s', color='red')\n",
    "ax2.set_ylim(0,50)\n",
    "plt.title('2020 monthly bike accident grouped by ages')\n",
    "plt.legend()\n",
    "plt.show()\n",
    "# print(age_mean, age_50s)"
   ]
  },
  {
   "cell_type": "code",
   "execution_count": 50,
   "id": "37f59252",
   "metadata": {},
   "outputs": [
    {
     "data": {
      "text/plain": [
       "array([2020, 2017, 2018, 2019], dtype=int64)"
      ]
     },
     "execution_count": 50,
     "metadata": {},
     "output_type": "execute_result"
    }
   ],
   "source": [
    "taas['년'].unique()"
   ]
  },
  {
   "cell_type": "code",
   "execution_count": 69,
   "id": "d5d04e89",
   "metadata": {},
   "outputs": [],
   "source": [
    "taas19 = taas[taas['년']==2019]\n",
    "taas18 = taas[taas['년']==2018]\n",
    "\n",
    "month_18 = taas18.groupby(['월'])['사고번호'].count()\n",
    "month_19 = taas19.groupby(['월'])['사고번호'].count()\n",
    "\n",
    "accident_Q18 = [sum([month_18.iloc[i],month_18.iloc[i+4],month_18.iloc[i+8]]) for i in range(len(month_18)//3)]\n",
    "accident_Q19 = [sum([month_19.iloc[i],month_19.iloc[i+4],month_19.iloc[i+8]]) for i in range(len(month_19)//3)]"
   ]
  },
  {
   "cell_type": "code",
   "execution_count": 52,
   "id": "0fd4e9b8",
   "metadata": {},
   "outputs": [
    {
     "data": {
      "image/png": "[encoded data removed]",
      "text/plain": [
       "<Figure size 720x576 with 1 Axes>"
      ]
     },
     "metadata": {
      "needs_background": "light"
     },
     "output_type": "display_data"
    }
   ],
   "source": [
    "#★★★★★★★★★★★★★★★★★★★★★★★★2018-2020 분기별 연령대 사고 횟수★★★★★★★★★★★★★★★★★★★★★★★★\n",
    "\n",
    "plt.figure(figsize=(10,8))\n",
    "plt.bar(np.arange(0.8,4.8), accident_Q18, width=0.2, label='2018', color='thistle')\n",
    "plt.bar(range(1,5), accident_Q19, width=0.2, label='2019', color='lightcoral')\n",
    "plt.bar(np.arange(1.2,5.2), accident_Q20, width=0.25, label='2020', color='purple')\n",
    "plt.legend()\n",
    "plt.title('quartely traffic accident 2018-2020')\n",
    "plt.show()"
   ]
  },
  {
   "cell_type": "code",
   "execution_count": 53,
   "id": "36e0f15f",
   "metadata": {},
   "outputs": [
    {
     "data": {
      "text/plain": [
       "Text(0.5, 1.0, '2018 vs 2020 total severe injury from bike accident')"
      ]
     },
     "execution_count": 53,
     "metadata": {},
     "output_type": "execute_result"
    },
    {
     "data": {
      "image/png": "[encoded data removed]",
      "text/plain": [
       "<Figure size 432x288 with 1 Axes>"
      ]
     },
     "metadata": {
      "needs_background": "light"
     },
     "output_type": "display_data"
    }
   ],
   "source": [
    "#★★★★★★★★★★★★★★★★★★★★★★2018 vs 2020 월별 중상+사망 교통사고 횟수★★★★★★★★★★★★★★★★★★★★★★★★\n",
    "#위 bar plot과 그래프 합쳐도 되고?\n",
    "#중상+사망 그래프만 가져옴\n",
    "taas['피해운전자 상해정도'].unique()\n",
    "heavy20 = taas20[taas20['피해운전자 상해정도']=='중상'].groupby('월')['사고번호'].count()\n",
    "death20 = taas20[taas20['피해운전자 상해정도']=='사망'].groupby('월')['사고번호'].count()\n",
    "injury = heavy20.add(death20, fill_value=0)\n",
    "\n",
    "heavy18 = taas18[taas18['피해운전자 상해정도']=='중상'].groupby('월')['사고번호'].count()\n",
    "death18 = taas18[taas18['피해운전자 상해정도']=='사망'].groupby('월')['사고번호'].count()\n",
    "injury18 = heavy18.add(death18, fill_value=0)\n",
    "\n",
    "plt.plot(injury, label='2020')\n",
    "plt.plot(injury18, label='2018')\n",
    "plt.legend()\n",
    "plt.title('2018 vs 2020 total severe injury from bike accident')"
   ]
  },
  {
   "cell_type": "code",
   "execution_count": null,
   "id": "e9897b09",
   "metadata": {},
   "outputs": [],
   "source": [
    "#이번에 할거: 2018 vs 2020 구별로 자전거전용도로 증가?\n",
    "# 2018 vs 2020 구별 교통사고 현황\n",
    "#구별로 자전거전용도로 증감 데이터와 교통사고 증감 데이터 상관관계 파악하기"
   ]
  },
  {
   "cell_type": "code",
   "execution_count": 80,
   "id": "4fc393a5",
   "metadata": {},
   "outputs": [],
   "source": [
    "#교통사고 정보 데이터에 구 정보 추가\n",
    "taas18['구'] = taas18['시군구'].str.split(\" \", expand=True)[1]\n",
    "taas18.head()\n",
    "\n",
    "taas20['구'] = taas20['시군구'].str.split(\" \", expand=True)[1]\n",
    "\n",
    "#구별 교통사고\n",
    "acc_ward18 = taas18.groupby('구')['사고번호'].count()\n",
    "acc_ward20 = taas20.groupby('구')['사고번호'].count()"
   ]
  },
  {
   "cell_type": "code",
   "execution_count": 89,
   "id": "7df6e7d0",
   "metadata": {},
   "outputs": [
    {
     "data": {
      "image/png": "[encoded data removed]",
      "text/plain": [
       "<Figure size 432x288 with 1 Axes>"
      ]
     },
     "metadata": {
      "needs_background": "light"
     },
     "output_type": "display_data"
    }
   ],
   "source": [
    "acc_ward18.index==acc_ward20.index\n",
    "#★★★★★★★★★★★★★★★★★★★★★★2018 vs 2020 구별 교통사고 현황★★★★★★★★★★★★★★★★★★★★★★★★\n",
    "\n",
    "plt.title('2018 vs 2020 ward accident count')\n",
    "plt.bar(acc_ward18.index, acc_ward18, label='2018')\n",
    "plt.bar(acc_ward20.index, acc_ward20, label='2020')\n",
    "plt.legend()\n",
    "plt.show()"
   ]
  },
  {
   "cell_type": "code",
   "execution_count": null,
   "id": "c7a3148e",
   "metadata": {},
   "outputs": [],
   "source": []
  }
 ],
 "metadata": {
  "kernelspec": {
   "display_name": "Python 3",
   "language": "python",
   "name": "python3"
  },
  "language_info": {
   "codemirror_mode": {
    "name": "ipython",
    "version": 3
   },
   "file_extension": ".py",
   "mimetype": "text/x-python",
   "name": "python",
   "nbconvert_exporter": "python",
   "pygments_lexer": "ipython3",
   "version": "3.8.10"
  }
 },
 "nbformat": 4,
 "nbformat_minor": 5
}
