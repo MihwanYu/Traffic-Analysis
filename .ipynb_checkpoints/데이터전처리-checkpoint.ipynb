{
 "cells": [
  {
   "cell_type": "code",
   "execution_count": 42,
   "id": "34349ca2",
   "metadata": {},
   "outputs": [],
   "source": [
    "#서울특별시 공공자전거 신규가입자 파일 합치기\n",
    "import pandas as pd\n",
    "import numpy as np\n",
    "from datetime import datetime as dt\n",
    "import matplotlib.pyplot as plt\n",
    "import seaborn as sns\n",
    "d1 = pd.read_csv('서울시 공공자전거 이용정보_2017_2021/공공자전거 이용정보(월별)_19.12.csv', encoding='cp949')\n",
    "d2 = pd.read_csv('서울시 공공자전거 이용정보_2017_2021/공공자전거 이용정보(월별)_20.01_20.05.csv', encoding='cp949')\n",
    "d3 = pd.read_csv('서울시 공공자전거 이용정보_2017_2021/공공자전거 이용정보(월별)_20.06.csv', encoding='cp949')\n",
    "d4 = pd.read_csv('서울시 공공자전거 이용정보_2017_2021/공공자전거 이용정보(월별)_20.07_20.12.csv', encoding='cp949')\n",
    "d5 = pd.read_csv('서울시 공공자전거 이용정보_2017_2021/공공자전거 이용정보(월별)_21.01.csv', encoding='cp949')\n",
    "d6 = pd.read_csv('서울시 공공자전거 이용정보_2017_2021/공공자전거 이용정보(월별)_21.02-21.06.csv', encoding='cp949')\n",
    "d7 = pd.read_csv('서울시 공공자전거 이용정보_2017_2021/서울특별시 공공자전거 이용정보(월별)_2017_1_12.csv', encoding='cp949')\n",
    "d8 = pd.read_csv('서울시 공공자전거 이용정보_2017_2021/서울특별시 공공자전거 이용정보(월별)_2018_1_6.csv', encoding='cp949')\n",
    "d9 = pd.read_csv('서울시 공공자전거 이용정보_2017_2021/서울특별시 공공자전거 이용정보(월별)_201807_201812.csv', encoding='cp949')\n",
    "d10 = pd.read_csv('서울시 공공자전거 이용정보_2017_2021/서울특별시 공공자전거 이용정보(월별)_201901_201906.csv', encoding='cp949')\n",
    "d11 = pd.read_csv('서울시 공공자전거 이용정보_2017_2021/서울특별시 공공자전거 이용정보(월별)_201907_201911.csv', encoding='cp949')"
   ]
  },
  {
   "cell_type": "code",
   "execution_count": 43,
   "id": "fb32034e",
   "metadata": {},
   "outputs": [],
   "source": [
    "pd.set_option('mode.chained_assignment',None)"
   ]
  },
  {
   "cell_type": "code",
   "execution_count": 44,
   "id": "c901a01b",
   "metadata": {},
   "outputs": [
    {
     "data": {
      "text/plain": [
       "Index(['대여일자', '대여소번호', '대여소명', '대여구분코드', '성별', '연령대코드', '이용건수', '운동량', '탄소량',\n",
       "       '이동거리', '이용시간'],\n",
       "      dtype='object')"
      ]
     },
     "execution_count": 44,
     "metadata": {},
     "output_type": "execute_result"
    }
   ],
   "source": [
    "d1.columns\n",
    "# dfs = [d1,d2,d3,d4,d5,d6,d7,d8]\n",
    "#2020: df2,3,4\n",
    "#2017: df7\n",
    "#2019: df10,11,1"
   ]
  },
  {
   "cell_type": "code",
   "execution_count": 45,
   "id": "184d025f",
   "metadata": {},
   "outputs": [
    {
     "data": {
      "text/html": [
       "<div>\n",
       "<style scoped>\n",
       "    .dataframe tbody tr th:only-of-type {\n",
       "        vertical-align: middle;\n",
       "    }\n",
       "\n",
       "    .dataframe tbody tr th {\n",
       "        vertical-align: top;\n",
       "    }\n",
       "\n",
       "    .dataframe thead th {\n",
       "        text-align: right;\n",
       "    }\n",
       "</style>\n",
       "<table border=\"1\" class=\"dataframe\">\n",
       "  <thead>\n",
       "    <tr style=\"text-align: right;\">\n",
       "      <th></th>\n",
       "      <th>대여일자</th>\n",
       "      <th>대여소번호</th>\n",
       "      <th>대여소명</th>\n",
       "      <th>대여구분코드</th>\n",
       "      <th>성별</th>\n",
       "      <th>연령대코드</th>\n",
       "      <th>이용건수</th>\n",
       "      <th>운동량</th>\n",
       "      <th>탄소량</th>\n",
       "      <th>이동거리</th>\n",
       "      <th>이용시간</th>\n",
       "    </tr>\n",
       "  </thead>\n",
       "  <tbody>\n",
       "    <tr>\n",
       "      <th>0</th>\n",
       "      <td>Dec-19</td>\n",
       "      <td>3</td>\n",
       "      <td>중랑센터</td>\n",
       "      <td>일일(회원)</td>\n",
       "      <td>M</td>\n",
       "      <td>AGE_003</td>\n",
       "      <td>7</td>\n",
       "      <td>1208.87</td>\n",
       "      <td>10.11</td>\n",
       "      <td>43610</td>\n",
       "      <td>118</td>\n",
       "    </tr>\n",
       "    <tr>\n",
       "      <th>1</th>\n",
       "      <td>Dec-19</td>\n",
       "      <td>3</td>\n",
       "      <td>중랑센터</td>\n",
       "      <td>일일(회원)</td>\n",
       "      <td>M</td>\n",
       "      <td>AGE_004</td>\n",
       "      <td>2</td>\n",
       "      <td>0</td>\n",
       "      <td>0</td>\n",
       "      <td>0</td>\n",
       "      <td>10</td>\n",
       "    </tr>\n",
       "    <tr>\n",
       "      <th>2</th>\n",
       "      <td>Dec-19</td>\n",
       "      <td>3</td>\n",
       "      <td>중랑센터</td>\n",
       "      <td>정기</td>\n",
       "      <td>M</td>\n",
       "      <td>AGE_005</td>\n",
       "      <td>5</td>\n",
       "      <td>110.02</td>\n",
       "      <td>1.03</td>\n",
       "      <td>4410</td>\n",
       "      <td>99</td>\n",
       "    </tr>\n",
       "    <tr>\n",
       "      <th>3</th>\n",
       "      <td>Dec-19</td>\n",
       "      <td>5</td>\n",
       "      <td>상암센터 정비실</td>\n",
       "      <td>일일(회원)</td>\n",
       "      <td>\\N</td>\n",
       "      <td>AGE_005</td>\n",
       "      <td>1</td>\n",
       "      <td>0</td>\n",
       "      <td>0</td>\n",
       "      <td>0</td>\n",
       "      <td>8</td>\n",
       "    </tr>\n",
       "    <tr>\n",
       "      <th>4</th>\n",
       "      <td>Dec-19</td>\n",
       "      <td>5</td>\n",
       "      <td>상암센터 정비실</td>\n",
       "      <td>일일(회원)</td>\n",
       "      <td>M</td>\n",
       "      <td>AGE_004</td>\n",
       "      <td>5</td>\n",
       "      <td>427.8</td>\n",
       "      <td>3.92</td>\n",
       "      <td>16880</td>\n",
       "      <td>205</td>\n",
       "    </tr>\n",
       "  </tbody>\n",
       "</table>\n",
       "</div>"
      ],
      "text/plain": [
       "     대여일자  대여소번호      대여소명  대여구분코드  성별    연령대코드  이용건수      운동량    탄소량   이동거리  \\\n",
       "0  Dec-19      3      중랑센터  일일(회원)   M  AGE_003     7  1208.87  10.11  43610   \n",
       "1  Dec-19      3      중랑센터  일일(회원)   M  AGE_004     2        0      0      0   \n",
       "2  Dec-19      3      중랑센터      정기   M  AGE_005     5   110.02   1.03   4410   \n",
       "3  Dec-19      5  상암센터 정비실  일일(회원)  \\N  AGE_005     1        0      0      0   \n",
       "4  Dec-19      5  상암센터 정비실  일일(회원)   M  AGE_004     5    427.8   3.92  16880   \n",
       "\n",
       "   이용시간  \n",
       "0   118  \n",
       "1    10  \n",
       "2    99  \n",
       "3     8  \n",
       "4   205  "
      ]
     },
     "execution_count": 45,
     "metadata": {},
     "output_type": "execute_result"
    }
   ],
   "source": [
    "d1.head()"
   ]
  },
  {
   "cell_type": "code",
   "execution_count": null,
   "id": "0de01418",
   "metadata": {},
   "outputs": [],
   "source": []
  },
  {
   "cell_type": "code",
   "execution_count": 46,
   "id": "699e1fc9",
   "metadata": {
    "scrolled": false
   },
   "outputs": [
    {
     "name": "stdout",
     "output_type": "stream",
     "text": [
      "Index(['대여일자', '대여소번호', '대여소명', '대여구분코드', '성별', '연령대코드', '이용건수', '운동량', '탄소량',\n",
      "       '이동거리', '이용시간'],\n",
      "      dtype='object')\n",
      "Index(['대여일자', '대여소번호', '대여소명', '대여구분코드', '성별', '연령대코드', '이용건수', '운동량', '탄소량',\n",
      "       '이동거리(M)', '이용시간(분)'],\n",
      "      dtype='object')\n",
      "Index(['대여일자', '대여소번호', '대여소명', '대여구분코드', '성별', '연령대코드', '이용건수', '운동량', '탄소량',\n",
      "       '이동거리(M)', '이용시간(분)'],\n",
      "      dtype='object')\n",
      "<class 'pandas.core.frame.DataFrame'>\n",
      "RangeIndex: 327231 entries, 0 to 327230\n",
      "Data columns (total 11 columns):\n",
      " #   Column   Non-Null Count   Dtype  \n",
      "---  ------   --------------   -----  \n",
      " 0   대여일자     327231 non-null  object \n",
      " 1   대여소번호    327231 non-null  int64  \n",
      " 2   대여소명     327231 non-null  object \n",
      " 3   대여구분코드   327231 non-null  object \n",
      " 4   성별       272841 non-null  object \n",
      " 5   연령대코드    327231 non-null  object \n",
      " 6   이용건수     327231 non-null  int64  \n",
      " 7   운동량      327231 non-null  object \n",
      " 8   탄소량      327231 non-null  object \n",
      " 9   이동거리(M)  327231 non-null  float64\n",
      " 10  이용시간(분)  327231 non-null  int64  \n",
      "dtypes: float64(1), int64(3), object(7)\n",
      "memory usage: 27.5+ MB\n"
     ]
    }
   ],
   "source": [
    "#2020끼리 데이터 합치기############\n",
    "#전처리 내용: column명 통일, 데이터 형식 통일\n",
    "#d2의 column name, 대여일자 데이터 형식이 d3, d4와 다름.\n",
    "for df in [d2,d3,d4]:\n",
    "    print(df.columns)\n",
    "d2.columns = d3.columns #column name 동일하게 만들기\n",
    "d2.head()\n",
    "\n",
    "#대여일자 데이터 형식 동일하게 만들기\n",
    "m_keys = d2['대여일자'].unique()\n",
    "m_values = ['2020-01','2020-02','2020-03','2020-04','2020-05','2020-06']\n",
    "dic = dict(zip(m_keys,m_values))\n",
    "dic\n",
    "d2['대여일자'] = d2['대여일자'].apply(lambda x: dic[x])\n",
    "d2\n",
    "d2.info()\n",
    "\n"
   ]
  },
  {
   "cell_type": "code",
   "execution_count": 47,
   "id": "27ec7002",
   "metadata": {
    "scrolled": false
   },
   "outputs": [
    {
     "data": {
      "text/html": [
       "<div>\n",
       "<style scoped>\n",
       "    .dataframe tbody tr th:only-of-type {\n",
       "        vertical-align: middle;\n",
       "    }\n",
       "\n",
       "    .dataframe tbody tr th {\n",
       "        vertical-align: top;\n",
       "    }\n",
       "\n",
       "    .dataframe thead th {\n",
       "        text-align: right;\n",
       "    }\n",
       "</style>\n",
       "<table border=\"1\" class=\"dataframe\">\n",
       "  <thead>\n",
       "    <tr style=\"text-align: right;\">\n",
       "      <th></th>\n",
       "      <th>대여일자</th>\n",
       "      <th>대여소번호</th>\n",
       "      <th>대여소명</th>\n",
       "      <th>대여구분코드</th>\n",
       "      <th>성별</th>\n",
       "      <th>연령대코드</th>\n",
       "      <th>이용건수</th>\n",
       "      <th>운동량</th>\n",
       "      <th>탄소량</th>\n",
       "      <th>이동거리(M)</th>\n",
       "      <th>이용시간(분)</th>\n",
       "    </tr>\n",
       "  </thead>\n",
       "  <tbody>\n",
       "    <tr>\n",
       "      <th>0</th>\n",
       "      <td>2020-01</td>\n",
       "      <td>3</td>\n",
       "      <td>중랑센터</td>\n",
       "      <td>일일(회원)</td>\n",
       "      <td>M</td>\n",
       "      <td>AGE_003</td>\n",
       "      <td>3</td>\n",
       "      <td>61.82</td>\n",
       "      <td>0.52</td>\n",
       "      <td>2230.0</td>\n",
       "      <td>75</td>\n",
       "    </tr>\n",
       "    <tr>\n",
       "      <th>1</th>\n",
       "      <td>2020-01</td>\n",
       "      <td>3</td>\n",
       "      <td>중랑센터</td>\n",
       "      <td>일일(회원)</td>\n",
       "      <td>M</td>\n",
       "      <td>AGE_004</td>\n",
       "      <td>1</td>\n",
       "      <td>39.62</td>\n",
       "      <td>0.28</td>\n",
       "      <td>1220.0</td>\n",
       "      <td>15</td>\n",
       "    </tr>\n",
       "    <tr>\n",
       "      <th>2</th>\n",
       "      <td>2020-01</td>\n",
       "      <td>3</td>\n",
       "      <td>중랑센터</td>\n",
       "      <td>정기</td>\n",
       "      <td>M</td>\n",
       "      <td>AGE_005</td>\n",
       "      <td>3</td>\n",
       "      <td>430.85</td>\n",
       "      <td>4.01</td>\n",
       "      <td>17270.0</td>\n",
       "      <td>53</td>\n",
       "    </tr>\n",
       "    <tr>\n",
       "      <th>3</th>\n",
       "      <td>2020-01</td>\n",
       "      <td>5</td>\n",
       "      <td>상암센터 정비실</td>\n",
       "      <td>일일(회원)</td>\n",
       "      <td>\\N</td>\n",
       "      <td>AGE_005</td>\n",
       "      <td>2</td>\n",
       "      <td>1.79</td>\n",
       "      <td>0.02</td>\n",
       "      <td>90.0</td>\n",
       "      <td>33</td>\n",
       "    </tr>\n",
       "    <tr>\n",
       "      <th>4</th>\n",
       "      <td>2020-01</td>\n",
       "      <td>5</td>\n",
       "      <td>상암센터 정비실</td>\n",
       "      <td>정기</td>\n",
       "      <td>F</td>\n",
       "      <td>AGE_003</td>\n",
       "      <td>1</td>\n",
       "      <td>4501.96</td>\n",
       "      <td>45.47</td>\n",
       "      <td>196010.0</td>\n",
       "      <td>64</td>\n",
       "    </tr>\n",
       "    <tr>\n",
       "      <th>...</th>\n",
       "      <td>...</td>\n",
       "      <td>...</td>\n",
       "      <td>...</td>\n",
       "      <td>...</td>\n",
       "      <td>...</td>\n",
       "      <td>...</td>\n",
       "      <td>...</td>\n",
       "      <td>...</td>\n",
       "      <td>...</td>\n",
       "      <td>...</td>\n",
       "      <td>...</td>\n",
       "    </tr>\n",
       "    <tr>\n",
       "      <th>532170</th>\n",
       "      <td>2020-12</td>\n",
       "      <td>9999</td>\n",
       "      <td>시스템관리팀</td>\n",
       "      <td>정기</td>\n",
       "      <td>F</td>\n",
       "      <td>AGE_006</td>\n",
       "      <td>1</td>\n",
       "      <td>\\N</td>\n",
       "      <td>\\N</td>\n",
       "      <td>0.0</td>\n",
       "      <td>0</td>\n",
       "    </tr>\n",
       "    <tr>\n",
       "      <th>532171</th>\n",
       "      <td>2020-12</td>\n",
       "      <td>9999</td>\n",
       "      <td>시스템관리팀</td>\n",
       "      <td>정기</td>\n",
       "      <td>M</td>\n",
       "      <td>AGE_003</td>\n",
       "      <td>2</td>\n",
       "      <td>0.00</td>\n",
       "      <td>0.00</td>\n",
       "      <td>0.0</td>\n",
       "      <td>76</td>\n",
       "    </tr>\n",
       "    <tr>\n",
       "      <th>532172</th>\n",
       "      <td>2020-12</td>\n",
       "      <td>9999</td>\n",
       "      <td>시스템관리팀</td>\n",
       "      <td>정기</td>\n",
       "      <td>M</td>\n",
       "      <td>AGE_004</td>\n",
       "      <td>1</td>\n",
       "      <td>\\N</td>\n",
       "      <td>\\N</td>\n",
       "      <td>0.0</td>\n",
       "      <td>15</td>\n",
       "    </tr>\n",
       "    <tr>\n",
       "      <th>532173</th>\n",
       "      <td>2020-12</td>\n",
       "      <td>99999</td>\n",
       "      <td>99999. 영남단말기정비</td>\n",
       "      <td>정기</td>\n",
       "      <td>\\N</td>\n",
       "      <td>AGE_008</td>\n",
       "      <td>7</td>\n",
       "      <td>0.00</td>\n",
       "      <td>0.00</td>\n",
       "      <td>0.0</td>\n",
       "      <td>18</td>\n",
       "    </tr>\n",
       "    <tr>\n",
       "      <th>532174</th>\n",
       "      <td>2020-12</td>\n",
       "      <td>99999</td>\n",
       "      <td>99999. 영남단말기정비</td>\n",
       "      <td>정기</td>\n",
       "      <td>M</td>\n",
       "      <td>AGE_004</td>\n",
       "      <td>3</td>\n",
       "      <td>0.00</td>\n",
       "      <td>0.00</td>\n",
       "      <td>0.0</td>\n",
       "      <td>15</td>\n",
       "    </tr>\n",
       "  </tbody>\n",
       "</table>\n",
       "<p>948887 rows × 11 columns</p>\n",
       "</div>"
      ],
      "text/plain": [
       "           대여일자  대여소번호            대여소명  대여구분코드  성별    연령대코드  이용건수      운동량  \\\n",
       "0       2020-01      3            중랑센터  일일(회원)   M  AGE_003     3    61.82   \n",
       "1       2020-01      3            중랑센터  일일(회원)   M  AGE_004     1    39.62   \n",
       "2       2020-01      3            중랑센터      정기   M  AGE_005     3   430.85   \n",
       "3       2020-01      5        상암센터 정비실  일일(회원)  \\N  AGE_005     2     1.79   \n",
       "4       2020-01      5        상암센터 정비실      정기   F  AGE_003     1  4501.96   \n",
       "...         ...    ...             ...     ...  ..      ...   ...      ...   \n",
       "532170  2020-12   9999          시스템관리팀      정기   F  AGE_006     1       \\N   \n",
       "532171  2020-12   9999          시스템관리팀      정기   M  AGE_003     2     0.00   \n",
       "532172  2020-12   9999          시스템관리팀      정기   M  AGE_004     1       \\N   \n",
       "532173  2020-12  99999  99999. 영남단말기정비      정기  \\N  AGE_008     7     0.00   \n",
       "532174  2020-12  99999  99999. 영남단말기정비      정기   M  AGE_004     3     0.00   \n",
       "\n",
       "          탄소량   이동거리(M)  이용시간(분)  \n",
       "0        0.52    2230.0       75  \n",
       "1        0.28    1220.0       15  \n",
       "2        4.01   17270.0       53  \n",
       "3        0.02      90.0       33  \n",
       "4       45.47  196010.0       64  \n",
       "...       ...       ...      ...  \n",
       "532170     \\N       0.0        0  \n",
       "532171   0.00       0.0       76  \n",
       "532172     \\N       0.0       15  \n",
       "532173   0.00       0.0       18  \n",
       "532174   0.00       0.0       15  \n",
       "\n",
       "[948887 rows x 11 columns]"
      ]
     },
     "execution_count": 47,
     "metadata": {},
     "output_type": "execute_result"
    }
   ],
   "source": [
    "df_2020 = pd.concat([d2,d3,d4])#2020년 자전거 이용 데이터\n",
    "df_2020"
   ]
  },
  {
   "cell_type": "code",
   "execution_count": 48,
   "id": "c0efa126",
   "metadata": {},
   "outputs": [
    {
     "data": {
      "text/html": [
       "<div>\n",
       "<style scoped>\n",
       "    .dataframe tbody tr th:only-of-type {\n",
       "        vertical-align: middle;\n",
       "    }\n",
       "\n",
       "    .dataframe tbody tr th {\n",
       "        vertical-align: top;\n",
       "    }\n",
       "\n",
       "    .dataframe thead th {\n",
       "        text-align: right;\n",
       "    }\n",
       "</style>\n",
       "<table border=\"1\" class=\"dataframe\">\n",
       "  <thead>\n",
       "    <tr style=\"text-align: right;\">\n",
       "      <th></th>\n",
       "      <th>대여일자</th>\n",
       "      <th>대여소번호</th>\n",
       "      <th>연령대코드</th>\n",
       "      <th>이용건수</th>\n",
       "      <th>이동거리(M)</th>\n",
       "      <th>이용시간(분)</th>\n",
       "    </tr>\n",
       "  </thead>\n",
       "  <tbody>\n",
       "    <tr>\n",
       "      <th>0</th>\n",
       "      <td>2020-01</td>\n",
       "      <td>3</td>\n",
       "      <td>AGE_003</td>\n",
       "      <td>3</td>\n",
       "      <td>2230.0</td>\n",
       "      <td>75</td>\n",
       "    </tr>\n",
       "    <tr>\n",
       "      <th>1</th>\n",
       "      <td>2020-01</td>\n",
       "      <td>3</td>\n",
       "      <td>AGE_004</td>\n",
       "      <td>1</td>\n",
       "      <td>1220.0</td>\n",
       "      <td>15</td>\n",
       "    </tr>\n",
       "    <tr>\n",
       "      <th>2</th>\n",
       "      <td>2020-01</td>\n",
       "      <td>3</td>\n",
       "      <td>AGE_005</td>\n",
       "      <td>3</td>\n",
       "      <td>17270.0</td>\n",
       "      <td>53</td>\n",
       "    </tr>\n",
       "    <tr>\n",
       "      <th>3</th>\n",
       "      <td>2020-01</td>\n",
       "      <td>5</td>\n",
       "      <td>AGE_005</td>\n",
       "      <td>2</td>\n",
       "      <td>90.0</td>\n",
       "      <td>33</td>\n",
       "    </tr>\n",
       "    <tr>\n",
       "      <th>4</th>\n",
       "      <td>2020-01</td>\n",
       "      <td>5</td>\n",
       "      <td>AGE_003</td>\n",
       "      <td>1</td>\n",
       "      <td>196010.0</td>\n",
       "      <td>64</td>\n",
       "    </tr>\n",
       "    <tr>\n",
       "      <th>...</th>\n",
       "      <td>...</td>\n",
       "      <td>...</td>\n",
       "      <td>...</td>\n",
       "      <td>...</td>\n",
       "      <td>...</td>\n",
       "      <td>...</td>\n",
       "    </tr>\n",
       "    <tr>\n",
       "      <th>532170</th>\n",
       "      <td>2020-12</td>\n",
       "      <td>9999</td>\n",
       "      <td>AGE_006</td>\n",
       "      <td>1</td>\n",
       "      <td>0.0</td>\n",
       "      <td>0</td>\n",
       "    </tr>\n",
       "    <tr>\n",
       "      <th>532171</th>\n",
       "      <td>2020-12</td>\n",
       "      <td>9999</td>\n",
       "      <td>AGE_003</td>\n",
       "      <td>2</td>\n",
       "      <td>0.0</td>\n",
       "      <td>76</td>\n",
       "    </tr>\n",
       "    <tr>\n",
       "      <th>532172</th>\n",
       "      <td>2020-12</td>\n",
       "      <td>9999</td>\n",
       "      <td>AGE_004</td>\n",
       "      <td>1</td>\n",
       "      <td>0.0</td>\n",
       "      <td>15</td>\n",
       "    </tr>\n",
       "    <tr>\n",
       "      <th>532173</th>\n",
       "      <td>2020-12</td>\n",
       "      <td>99999</td>\n",
       "      <td>AGE_008</td>\n",
       "      <td>7</td>\n",
       "      <td>0.0</td>\n",
       "      <td>18</td>\n",
       "    </tr>\n",
       "    <tr>\n",
       "      <th>532174</th>\n",
       "      <td>2020-12</td>\n",
       "      <td>99999</td>\n",
       "      <td>AGE_004</td>\n",
       "      <td>3</td>\n",
       "      <td>0.0</td>\n",
       "      <td>15</td>\n",
       "    </tr>\n",
       "  </tbody>\n",
       "</table>\n",
       "<p>948887 rows × 6 columns</p>\n",
       "</div>"
      ],
      "text/plain": [
       "           대여일자  대여소번호    연령대코드  이용건수   이동거리(M)  이용시간(분)\n",
       "0       2020-01      3  AGE_003     3    2230.0       75\n",
       "1       2020-01      3  AGE_004     1    1220.0       15\n",
       "2       2020-01      3  AGE_005     3   17270.0       53\n",
       "3       2020-01      5  AGE_005     2      90.0       33\n",
       "4       2020-01      5  AGE_003     1  196010.0       64\n",
       "...         ...    ...      ...   ...       ...      ...\n",
       "532170  2020-12   9999  AGE_006     1       0.0        0\n",
       "532171  2020-12   9999  AGE_003     2       0.0       76\n",
       "532172  2020-12   9999  AGE_004     1       0.0       15\n",
       "532173  2020-12  99999  AGE_008     7       0.0       18\n",
       "532174  2020-12  99999  AGE_004     3       0.0       15\n",
       "\n",
       "[948887 rows x 6 columns]"
      ]
     },
     "execution_count": 48,
     "metadata": {},
     "output_type": "execute_result"
    }
   ],
   "source": [
    "df_2020 = df_2020[['대여일자','대여소번호','연령대코드','이용건수','이동거리(M)','이용시간(분)']]#분석할 column만 추출\n",
    "df_2020[df_2020['이동거리(M)'].isnull()]#null값은 지울까 아니면 0으로 채울까-->0으로 채우기!\n",
    "df_2020.fillna(0)\n",
    "df_2020"
   ]
  },
  {
   "cell_type": "code",
   "execution_count": 49,
   "id": "00128e7c",
   "metadata": {},
   "outputs": [
    {
     "data": {
      "text/plain": [
       "대여일자       0\n",
       "대여소번호      0\n",
       "연령대코드      0\n",
       "이용건수       0\n",
       "이동거리(M)    0\n",
       "이용시간(분)    0\n",
       "dtype: int64"
      ]
     },
     "execution_count": 49,
     "metadata": {},
     "output_type": "execute_result"
    }
   ],
   "source": [
    "df_2020.isnull().sum()"
   ]
  },
  {
   "cell_type": "code",
   "execution_count": 50,
   "id": "4952dfa8",
   "metadata": {},
   "outputs": [
    {
     "data": {
      "text/html": [
       "<div>\n",
       "<style scoped>\n",
       "    .dataframe tbody tr th:only-of-type {\n",
       "        vertical-align: middle;\n",
       "    }\n",
       "\n",
       "    .dataframe tbody tr th {\n",
       "        vertical-align: top;\n",
       "    }\n",
       "\n",
       "    .dataframe thead th {\n",
       "        text-align: right;\n",
       "    }\n",
       "</style>\n",
       "<table border=\"1\" class=\"dataframe\">\n",
       "  <thead>\n",
       "    <tr style=\"text-align: right;\">\n",
       "      <th></th>\n",
       "      <th>대여일자</th>\n",
       "      <th>대여소번호</th>\n",
       "      <th>연령대코드</th>\n",
       "      <th>이용건수</th>\n",
       "      <th>이동거리(M)</th>\n",
       "      <th>이용시간(분)</th>\n",
       "    </tr>\n",
       "  </thead>\n",
       "  <tbody>\n",
       "    <tr>\n",
       "      <th>0</th>\n",
       "      <td>2020-01</td>\n",
       "      <td>3</td>\n",
       "      <td>10s</td>\n",
       "      <td>3</td>\n",
       "      <td>2230.0</td>\n",
       "      <td>75</td>\n",
       "    </tr>\n",
       "    <tr>\n",
       "      <th>1</th>\n",
       "      <td>2020-01</td>\n",
       "      <td>3</td>\n",
       "      <td>20s</td>\n",
       "      <td>1</td>\n",
       "      <td>1220.0</td>\n",
       "      <td>15</td>\n",
       "    </tr>\n",
       "    <tr>\n",
       "      <th>2</th>\n",
       "      <td>2020-01</td>\n",
       "      <td>3</td>\n",
       "      <td>30s</td>\n",
       "      <td>3</td>\n",
       "      <td>17270.0</td>\n",
       "      <td>53</td>\n",
       "    </tr>\n",
       "    <tr>\n",
       "      <th>3</th>\n",
       "      <td>2020-01</td>\n",
       "      <td>5</td>\n",
       "      <td>30s</td>\n",
       "      <td>2</td>\n",
       "      <td>90.0</td>\n",
       "      <td>33</td>\n",
       "    </tr>\n",
       "    <tr>\n",
       "      <th>4</th>\n",
       "      <td>2020-01</td>\n",
       "      <td>5</td>\n",
       "      <td>10s</td>\n",
       "      <td>1</td>\n",
       "      <td>196010.0</td>\n",
       "      <td>64</td>\n",
       "    </tr>\n",
       "    <tr>\n",
       "      <th>...</th>\n",
       "      <td>...</td>\n",
       "      <td>...</td>\n",
       "      <td>...</td>\n",
       "      <td>...</td>\n",
       "      <td>...</td>\n",
       "      <td>...</td>\n",
       "    </tr>\n",
       "    <tr>\n",
       "      <th>532170</th>\n",
       "      <td>2020-12</td>\n",
       "      <td>9999</td>\n",
       "      <td>60s</td>\n",
       "      <td>1</td>\n",
       "      <td>0.0</td>\n",
       "      <td>0</td>\n",
       "    </tr>\n",
       "    <tr>\n",
       "      <th>532171</th>\n",
       "      <td>2020-12</td>\n",
       "      <td>9999</td>\n",
       "      <td>10s</td>\n",
       "      <td>2</td>\n",
       "      <td>0.0</td>\n",
       "      <td>76</td>\n",
       "    </tr>\n",
       "    <tr>\n",
       "      <th>532172</th>\n",
       "      <td>2020-12</td>\n",
       "      <td>9999</td>\n",
       "      <td>20s</td>\n",
       "      <td>1</td>\n",
       "      <td>0.0</td>\n",
       "      <td>15</td>\n",
       "    </tr>\n",
       "    <tr>\n",
       "      <th>532173</th>\n",
       "      <td>2020-12</td>\n",
       "      <td>99999</td>\n",
       "      <td>40s</td>\n",
       "      <td>7</td>\n",
       "      <td>0.0</td>\n",
       "      <td>18</td>\n",
       "    </tr>\n",
       "    <tr>\n",
       "      <th>532174</th>\n",
       "      <td>2020-12</td>\n",
       "      <td>99999</td>\n",
       "      <td>20s</td>\n",
       "      <td>3</td>\n",
       "      <td>0.0</td>\n",
       "      <td>15</td>\n",
       "    </tr>\n",
       "  </tbody>\n",
       "</table>\n",
       "<p>948887 rows × 6 columns</p>\n",
       "</div>"
      ],
      "text/plain": [
       "           대여일자  대여소번호 연령대코드  이용건수   이동거리(M)  이용시간(분)\n",
       "0       2020-01      3   10s     3    2230.0       75\n",
       "1       2020-01      3   20s     1    1220.0       15\n",
       "2       2020-01      3   30s     3   17270.0       53\n",
       "3       2020-01      5   30s     2      90.0       33\n",
       "4       2020-01      5   10s     1  196010.0       64\n",
       "...         ...    ...   ...   ...       ...      ...\n",
       "532170  2020-12   9999   60s     1       0.0        0\n",
       "532171  2020-12   9999   10s     2       0.0       76\n",
       "532172  2020-12   9999   20s     1       0.0       15\n",
       "532173  2020-12  99999   40s     7       0.0       18\n",
       "532174  2020-12  99999   20s     3       0.0       15\n",
       "\n",
       "[948887 rows x 6 columns]"
      ]
     },
     "execution_count": 50,
     "metadata": {},
     "output_type": "execute_result"
    }
   ],
   "source": [
    "#연령대코드 바꾸기\n",
    "keys = df_2020.연령대코드.unique()\n",
    "values = ['10s','20s','30s','40s','50s','60s','70s','etc']\n",
    "dic = dict(zip(keys,values))\n",
    "dic\n",
    "df_2020['연령대코드'] = df_2020.연령대코드.apply(lambda x: dic[x])\n",
    "df_2020"
   ]
  },
  {
   "cell_type": "code",
   "execution_count": 51,
   "id": "5d8caa66",
   "metadata": {},
   "outputs": [
    {
     "data": {
      "text/html": [
       "<div>\n",
       "<style scoped>\n",
       "    .dataframe tbody tr th:only-of-type {\n",
       "        vertical-align: middle;\n",
       "    }\n",
       "\n",
       "    .dataframe tbody tr th {\n",
       "        vertical-align: top;\n",
       "    }\n",
       "\n",
       "    .dataframe thead th {\n",
       "        text-align: right;\n",
       "    }\n",
       "</style>\n",
       "<table border=\"1\" class=\"dataframe\">\n",
       "  <thead>\n",
       "    <tr style=\"text-align: right;\">\n",
       "      <th></th>\n",
       "      <th>대여일자</th>\n",
       "      <th>대여소번호</th>\n",
       "      <th>연령대코드</th>\n",
       "      <th>이용건수</th>\n",
       "      <th>이동거리(M)</th>\n",
       "      <th>이용시간(분)</th>\n",
       "      <th>월</th>\n",
       "    </tr>\n",
       "  </thead>\n",
       "  <tbody>\n",
       "    <tr>\n",
       "      <th>0</th>\n",
       "      <td>2020-01</td>\n",
       "      <td>3</td>\n",
       "      <td>10s</td>\n",
       "      <td>3</td>\n",
       "      <td>2230.0</td>\n",
       "      <td>75</td>\n",
       "      <td>1</td>\n",
       "    </tr>\n",
       "    <tr>\n",
       "      <th>1</th>\n",
       "      <td>2020-01</td>\n",
       "      <td>3</td>\n",
       "      <td>20s</td>\n",
       "      <td>1</td>\n",
       "      <td>1220.0</td>\n",
       "      <td>15</td>\n",
       "      <td>1</td>\n",
       "    </tr>\n",
       "    <tr>\n",
       "      <th>2</th>\n",
       "      <td>2020-01</td>\n",
       "      <td>3</td>\n",
       "      <td>30s</td>\n",
       "      <td>3</td>\n",
       "      <td>17270.0</td>\n",
       "      <td>53</td>\n",
       "      <td>1</td>\n",
       "    </tr>\n",
       "    <tr>\n",
       "      <th>3</th>\n",
       "      <td>2020-01</td>\n",
       "      <td>5</td>\n",
       "      <td>30s</td>\n",
       "      <td>2</td>\n",
       "      <td>90.0</td>\n",
       "      <td>33</td>\n",
       "      <td>1</td>\n",
       "    </tr>\n",
       "    <tr>\n",
       "      <th>4</th>\n",
       "      <td>2020-01</td>\n",
       "      <td>5</td>\n",
       "      <td>10s</td>\n",
       "      <td>1</td>\n",
       "      <td>196010.0</td>\n",
       "      <td>64</td>\n",
       "      <td>1</td>\n",
       "    </tr>\n",
       "    <tr>\n",
       "      <th>...</th>\n",
       "      <td>...</td>\n",
       "      <td>...</td>\n",
       "      <td>...</td>\n",
       "      <td>...</td>\n",
       "      <td>...</td>\n",
       "      <td>...</td>\n",
       "      <td>...</td>\n",
       "    </tr>\n",
       "    <tr>\n",
       "      <th>532170</th>\n",
       "      <td>2020-12</td>\n",
       "      <td>9999</td>\n",
       "      <td>60s</td>\n",
       "      <td>1</td>\n",
       "      <td>0.0</td>\n",
       "      <td>0</td>\n",
       "      <td>12</td>\n",
       "    </tr>\n",
       "    <tr>\n",
       "      <th>532171</th>\n",
       "      <td>2020-12</td>\n",
       "      <td>9999</td>\n",
       "      <td>10s</td>\n",
       "      <td>2</td>\n",
       "      <td>0.0</td>\n",
       "      <td>76</td>\n",
       "      <td>12</td>\n",
       "    </tr>\n",
       "    <tr>\n",
       "      <th>532172</th>\n",
       "      <td>2020-12</td>\n",
       "      <td>9999</td>\n",
       "      <td>20s</td>\n",
       "      <td>1</td>\n",
       "      <td>0.0</td>\n",
       "      <td>15</td>\n",
       "      <td>12</td>\n",
       "    </tr>\n",
       "    <tr>\n",
       "      <th>532173</th>\n",
       "      <td>2020-12</td>\n",
       "      <td>99999</td>\n",
       "      <td>40s</td>\n",
       "      <td>7</td>\n",
       "      <td>0.0</td>\n",
       "      <td>18</td>\n",
       "      <td>12</td>\n",
       "    </tr>\n",
       "    <tr>\n",
       "      <th>532174</th>\n",
       "      <td>2020-12</td>\n",
       "      <td>99999</td>\n",
       "      <td>20s</td>\n",
       "      <td>3</td>\n",
       "      <td>0.0</td>\n",
       "      <td>15</td>\n",
       "      <td>12</td>\n",
       "    </tr>\n",
       "  </tbody>\n",
       "</table>\n",
       "<p>948887 rows × 7 columns</p>\n",
       "</div>"
      ],
      "text/plain": [
       "           대여일자  대여소번호 연령대코드  이용건수   이동거리(M)  이용시간(분)   월\n",
       "0       2020-01      3   10s     3    2230.0       75   1\n",
       "1       2020-01      3   20s     1    1220.0       15   1\n",
       "2       2020-01      3   30s     3   17270.0       53   1\n",
       "3       2020-01      5   30s     2      90.0       33   1\n",
       "4       2020-01      5   10s     1  196010.0       64   1\n",
       "...         ...    ...   ...   ...       ...      ...  ..\n",
       "532170  2020-12   9999   60s     1       0.0        0  12\n",
       "532171  2020-12   9999   10s     2       0.0       76  12\n",
       "532172  2020-12   9999   20s     1       0.0       15  12\n",
       "532173  2020-12  99999   40s     7       0.0       18  12\n",
       "532174  2020-12  99999   20s     3       0.0       15  12\n",
       "\n",
       "[948887 rows x 7 columns]"
      ]
     },
     "execution_count": 51,
     "metadata": {},
     "output_type": "execute_result"
    }
   ],
   "source": [
    "# datetime.strptime(df_2020['대여일자'], \"%\")\n",
    "#월 column, 분기 column 추가\n",
    "df_2020['월'] = pd.to_datetime(df_2020['대여일자'],format='%Y-%m').dt.month\n",
    "df_2020['분기'] = pd.to_datetime(df_2020['대여일자'],format='%Y-%m').dt.quarter\n",
    "df_2020"
   ]
  },
  {
   "cell_type": "code",
   "execution_count": 84,
   "id": "9f29a7ea",
   "metadata": {},
   "outputs": [],
   "source": [
    "bike_2020 = df_2020.groupby(['월'])['이용건수'].sum()\n",
    "df_2020.groupby(['월'])['이용건수'].sum()\n",
    "bike_Q20 = df_2020.groupby(['분기'])['이용건수'].sum()"
   ]
  },
  {
   "cell_type": "code",
   "execution_count": 77,
   "id": "b2b61d6a",
   "metadata": {},
   "outputs": [
    {
     "data": {
      "text/plain": [
       "Text(0.5, 1.0, '2020 seoul public bike consumption')"
      ]
     },
     "execution_count": 77,
     "metadata": {},
     "output_type": "execute_result"
    },
    {
     "data": {
      "image/png": "[encoded data removed]",
      "text/plain": [
       "<Figure size 432x288 with 1 Axes>"
      ]
     },
     "metadata": {
      "needs_background": "light"
     },
     "output_type": "display_data"
    }
   ],
   "source": [
    "plt.bar(df_2020.월.unique(), bike_2020)#좀더 보는사람이 재밌게<-------\n",
    "plt.title('2020 seoul public bike consumption')#2020년 공공자전거 이용 횟수"
   ]
  },
  {
   "cell_type": "code",
   "execution_count": 85,
   "id": "630689dc",
   "metadata": {},
   "outputs": [
    {
     "data": {
      "text/plain": [
       "<BarContainer object of 4 artists>"
      ]
     },
     "execution_count": 85,
     "metadata": {},
     "output_type": "execute_result"
    },
    {
     "data": {
      "image/png": "[encoded data removed]",
      "text/plain": [
       "<Figure size 432x288 with 1 Axes>"
      ]
     },
     "metadata": {
      "needs_background": "light"
     },
     "output_type": "display_data"
    }
   ],
   "source": [
    "# plt.bar(range(1,5),bike_Q20 ) #위랑 똑같은데 분기별-이거 2019랑 같이 비교해서 보여주기"
   ]
  },
  {
   "cell_type": "code",
   "execution_count": 55,
   "id": "68567ff6",
   "metadata": {},
   "outputs": [],
   "source": [
    "#★★★★★★★★★★★2019 전처리 스타트★★★★★★★★★★★★★★★★"
   ]
  },
  {
   "cell_type": "code",
   "execution_count": 86,
   "id": "448ce5a6",
   "metadata": {},
   "outputs": [
    {
     "name": "stdout",
     "output_type": "stream",
     "text": [
      "Index(['대여일자', '대여소번호', '대여소', '대여구분코드', '성별', '연령대코드', '이용건수', '운동량', '탄소량',\n",
      "       '이동거리(M)', '이동시간(분)'],\n",
      "      dtype='object')\n",
      "Index(['대여일자', '대여소번호', '대여소', '대여구분코드', '성별', '연령대코드', '이용건수', '운동량', '탄소량',\n",
      "       '이동거리(M)', '이동시간(분)'],\n",
      "      dtype='object')\n",
      "Index(['대여일자', '대여소번호', '대여소', '대여구분코드', '성별', '연령대코드', '이용건수', '운동량', '탄소량',\n",
      "       '이동거리(M)', '이동시간(분)'],\n",
      "      dtype='object')\n"
     ]
    },
    {
     "data": {
      "text/html": [
       "<div>\n",
       "<style scoped>\n",
       "    .dataframe tbody tr th:only-of-type {\n",
       "        vertical-align: middle;\n",
       "    }\n",
       "\n",
       "    .dataframe tbody tr th {\n",
       "        vertical-align: top;\n",
       "    }\n",
       "\n",
       "    .dataframe thead th {\n",
       "        text-align: right;\n",
       "    }\n",
       "</style>\n",
       "<table border=\"1\" class=\"dataframe\">\n",
       "  <thead>\n",
       "    <tr style=\"text-align: right;\">\n",
       "      <th></th>\n",
       "      <th>대여일자</th>\n",
       "      <th>대여소번호</th>\n",
       "      <th>대여소</th>\n",
       "      <th>대여구분코드</th>\n",
       "      <th>성별</th>\n",
       "      <th>연령대코드</th>\n",
       "      <th>이용건수</th>\n",
       "      <th>운동량</th>\n",
       "      <th>탄소량</th>\n",
       "      <th>이동거리(M)</th>\n",
       "      <th>이동시간(분)</th>\n",
       "    </tr>\n",
       "  </thead>\n",
       "  <tbody>\n",
       "    <tr>\n",
       "      <th>0</th>\n",
       "      <td>2019-12</td>\n",
       "      <td>3</td>\n",
       "      <td>중랑센터</td>\n",
       "      <td>일일(회원)</td>\n",
       "      <td>M</td>\n",
       "      <td>AGE_003</td>\n",
       "      <td>7</td>\n",
       "      <td>1208.87</td>\n",
       "      <td>10.11</td>\n",
       "      <td>43610</td>\n",
       "      <td>118</td>\n",
       "    </tr>\n",
       "    <tr>\n",
       "      <th>1</th>\n",
       "      <td>2019-12</td>\n",
       "      <td>3</td>\n",
       "      <td>중랑센터</td>\n",
       "      <td>일일(회원)</td>\n",
       "      <td>M</td>\n",
       "      <td>AGE_004</td>\n",
       "      <td>2</td>\n",
       "      <td>0</td>\n",
       "      <td>0</td>\n",
       "      <td>0</td>\n",
       "      <td>10</td>\n",
       "    </tr>\n",
       "    <tr>\n",
       "      <th>2</th>\n",
       "      <td>2019-12</td>\n",
       "      <td>3</td>\n",
       "      <td>중랑센터</td>\n",
       "      <td>정기</td>\n",
       "      <td>M</td>\n",
       "      <td>AGE_005</td>\n",
       "      <td>5</td>\n",
       "      <td>110.02</td>\n",
       "      <td>1.03</td>\n",
       "      <td>4410</td>\n",
       "      <td>99</td>\n",
       "    </tr>\n",
       "    <tr>\n",
       "      <th>3</th>\n",
       "      <td>2019-12</td>\n",
       "      <td>5</td>\n",
       "      <td>상암센터 정비실</td>\n",
       "      <td>일일(회원)</td>\n",
       "      <td>\\N</td>\n",
       "      <td>AGE_005</td>\n",
       "      <td>1</td>\n",
       "      <td>0</td>\n",
       "      <td>0</td>\n",
       "      <td>0</td>\n",
       "      <td>8</td>\n",
       "    </tr>\n",
       "    <tr>\n",
       "      <th>4</th>\n",
       "      <td>2019-12</td>\n",
       "      <td>5</td>\n",
       "      <td>상암센터 정비실</td>\n",
       "      <td>일일(회원)</td>\n",
       "      <td>M</td>\n",
       "      <td>AGE_004</td>\n",
       "      <td>5</td>\n",
       "      <td>427.8</td>\n",
       "      <td>3.92</td>\n",
       "      <td>16880</td>\n",
       "      <td>205</td>\n",
       "    </tr>\n",
       "  </tbody>\n",
       "</table>\n",
       "</div>"
      ],
      "text/plain": [
       "      대여일자  대여소번호       대여소  대여구분코드  성별    연령대코드  이용건수      운동량    탄소량  \\\n",
       "0  2019-12      3      중랑센터  일일(회원)   M  AGE_003     7  1208.87  10.11   \n",
       "1  2019-12      3      중랑센터  일일(회원)   M  AGE_004     2        0      0   \n",
       "2  2019-12      3      중랑센터      정기   M  AGE_005     5   110.02   1.03   \n",
       "3  2019-12      5  상암센터 정비실  일일(회원)  \\N  AGE_005     1        0      0   \n",
       "4  2019-12      5  상암센터 정비실  일일(회원)   M  AGE_004     5    427.8   3.92   \n",
       "\n",
       "   이동거리(M)  이동시간(분)  \n",
       "0    43610      118  \n",
       "1        0       10  \n",
       "2     4410       99  \n",
       "3        0        8  \n",
       "4    16880      205  "
      ]
     },
     "execution_count": 86,
     "metadata": {},
     "output_type": "execute_result"
    }
   ],
   "source": [
    "#합치기 전 데이터 통일\n",
    "for df in [d1,d10,d11]:\n",
    "    print(df.columns)\n",
    "    \n",
    "d1.columns = d10.columns #column name 동일하게 만들기\n",
    "d1.head()\n",
    "\n",
    "# #대여일자 데이터 형식 동일하게 만들기\n",
    "d1['대여일자'] = '2019-12'\n",
    "d1.head()"
   ]
  },
  {
   "cell_type": "code",
   "execution_count": 87,
   "id": "dce79e17",
   "metadata": {},
   "outputs": [
    {
     "data": {
      "text/plain": [
       "대여일자       0\n",
       "대여소번호      0\n",
       "연령대코드      0\n",
       "이용건수       0\n",
       "이동거리(M)    0\n",
       "이동시간(분)    0\n",
       "dtype: int64"
      ]
     },
     "execution_count": 87,
     "metadata": {},
     "output_type": "execute_result"
    }
   ],
   "source": [
    "df_2019 = pd.concat([d1,d10,d11])\n",
    "df_2019 = df_2019[['대여일자','대여소번호','연령대코드','이용건수','이동거리(M)','이동시간(분)']]\n",
    "df_2019\n",
    "df_2019[df_2019['이동거리(M)'].isnull()]#null값 없음\n",
    "df_2019.isnull().sum()"
   ]
  },
  {
   "cell_type": "code",
   "execution_count": 88,
   "id": "d5ec6134",
   "metadata": {},
   "outputs": [
    {
     "data": {
      "text/html": [
       "<div>\n",
       "<style scoped>\n",
       "    .dataframe tbody tr th:only-of-type {\n",
       "        vertical-align: middle;\n",
       "    }\n",
       "\n",
       "    .dataframe tbody tr th {\n",
       "        vertical-align: top;\n",
       "    }\n",
       "\n",
       "    .dataframe thead th {\n",
       "        text-align: right;\n",
       "    }\n",
       "</style>\n",
       "<table border=\"1\" class=\"dataframe\">\n",
       "  <thead>\n",
       "    <tr style=\"text-align: right;\">\n",
       "      <th></th>\n",
       "      <th>대여일자</th>\n",
       "      <th>대여소번호</th>\n",
       "      <th>연령대코드</th>\n",
       "      <th>이용건수</th>\n",
       "      <th>이동거리(M)</th>\n",
       "      <th>이동시간(분)</th>\n",
       "    </tr>\n",
       "  </thead>\n",
       "  <tbody>\n",
       "    <tr>\n",
       "      <th>0</th>\n",
       "      <td>2019-12</td>\n",
       "      <td>3</td>\n",
       "      <td>10s</td>\n",
       "      <td>7</td>\n",
       "      <td>43610</td>\n",
       "      <td>118</td>\n",
       "    </tr>\n",
       "    <tr>\n",
       "      <th>1</th>\n",
       "      <td>2019-12</td>\n",
       "      <td>3</td>\n",
       "      <td>20s</td>\n",
       "      <td>2</td>\n",
       "      <td>0</td>\n",
       "      <td>10</td>\n",
       "    </tr>\n",
       "    <tr>\n",
       "      <th>2</th>\n",
       "      <td>2019-12</td>\n",
       "      <td>3</td>\n",
       "      <td>30s</td>\n",
       "      <td>5</td>\n",
       "      <td>4410</td>\n",
       "      <td>99</td>\n",
       "    </tr>\n",
       "    <tr>\n",
       "      <th>3</th>\n",
       "      <td>2019-12</td>\n",
       "      <td>5</td>\n",
       "      <td>30s</td>\n",
       "      <td>1</td>\n",
       "      <td>0</td>\n",
       "      <td>8</td>\n",
       "    </tr>\n",
       "    <tr>\n",
       "      <th>4</th>\n",
       "      <td>2019-12</td>\n",
       "      <td>5</td>\n",
       "      <td>20s</td>\n",
       "      <td>5</td>\n",
       "      <td>16880</td>\n",
       "      <td>205</td>\n",
       "    </tr>\n",
       "    <tr>\n",
       "      <th>...</th>\n",
       "      <td>...</td>\n",
       "      <td>...</td>\n",
       "      <td>...</td>\n",
       "      <td>...</td>\n",
       "      <td>...</td>\n",
       "      <td>...</td>\n",
       "    </tr>\n",
       "    <tr>\n",
       "      <th>336816</th>\n",
       "      <td>2019-11</td>\n",
       "      <td>9998</td>\n",
       "      <td>20s</td>\n",
       "      <td>8</td>\n",
       "      <td>7910</td>\n",
       "      <td>86</td>\n",
       "    </tr>\n",
       "    <tr>\n",
       "      <th>336817</th>\n",
       "      <td>2019-11</td>\n",
       "      <td>99998</td>\n",
       "      <td>30s</td>\n",
       "      <td>2</td>\n",
       "      <td>0</td>\n",
       "      <td>0</td>\n",
       "    </tr>\n",
       "    <tr>\n",
       "      <th>336818</th>\n",
       "      <td>2019-11</td>\n",
       "      <td>99999</td>\n",
       "      <td>50s</td>\n",
       "      <td>6</td>\n",
       "      <td>48460</td>\n",
       "      <td>71</td>\n",
       "    </tr>\n",
       "    <tr>\n",
       "      <th>336819</th>\n",
       "      <td>2019-11</td>\n",
       "      <td>99999</td>\n",
       "      <td>20s</td>\n",
       "      <td>10</td>\n",
       "      <td>50680</td>\n",
       "      <td>161</td>\n",
       "    </tr>\n",
       "    <tr>\n",
       "      <th>336820</th>\n",
       "      <td>2019-11</td>\n",
       "      <td>99999</td>\n",
       "      <td>20s</td>\n",
       "      <td>17</td>\n",
       "      <td>75060</td>\n",
       "      <td>601</td>\n",
       "    </tr>\n",
       "  </tbody>\n",
       "</table>\n",
       "<p>675209 rows × 6 columns</p>\n",
       "</div>"
      ],
      "text/plain": [
       "           대여일자  대여소번호 연령대코드  이용건수  이동거리(M)  이동시간(분)\n",
       "0       2019-12      3   10s     7    43610      118\n",
       "1       2019-12      3   20s     2        0       10\n",
       "2       2019-12      3   30s     5     4410       99\n",
       "3       2019-12      5   30s     1        0        8\n",
       "4       2019-12      5   20s     5    16880      205\n",
       "...         ...    ...   ...   ...      ...      ...\n",
       "336816  2019-11   9998   20s     8     7910       86\n",
       "336817  2019-11  99998   30s     2        0        0\n",
       "336818  2019-11  99999   50s     6    48460       71\n",
       "336819  2019-11  99999   20s    10    50680      161\n",
       "336820  2019-11  99999   20s    17    75060      601\n",
       "\n",
       "[675209 rows x 6 columns]"
      ]
     },
     "execution_count": 88,
     "metadata": {},
     "output_type": "execute_result"
    }
   ],
   "source": [
    "keys = df_2019.연령대코드.unique()\n",
    "values = ['10s','20s','30s','40s','50s','60s','70s','etc']\n",
    "dic = dict(zip(keys,values))\n",
    "dic\n",
    "df_2019['연령대코드'] = df_2019.연령대코드.apply(lambda x: dic[x])\n",
    "df_2019"
   ]
  },
  {
   "cell_type": "code",
   "execution_count": 89,
   "id": "e7b8ed07",
   "metadata": {},
   "outputs": [],
   "source": [
    "#월별, 분기별 컬럼 추가\n",
    "df_2019['월'] = pd.to_datetime(df_2019['대여일자'],format='%Y-%m').dt.month\n",
    "df_2019['분기'] = pd.to_datetime(df_2019['대여일자'],format='%Y-%m').dt.quarter\n",
    "bike_2019 = df_2019.groupby(['월'])['이용건수'].sum() #bike_2019: 2019년 월별 이용횟수\n",
    "df_2019.groupby(['월'])['이용건수'].sum()\n",
    "\n",
    "bike_Q19 = df_2019.groupby(['분기'])['이용건수'].sum() #bike_Q19: 2019년 분기별 이용횟수"
   ]
  },
  {
   "cell_type": "code",
   "execution_count": 90,
   "id": "0ff0ab7d",
   "metadata": {},
   "outputs": [
    {
     "data": {
      "image/png": "[encoded data removed]",
      "text/plain": [
       "<Figure size 432x288 with 1 Axes>"
      ]
     },
     "metadata": {
      "needs_background": "light"
     },
     "output_type": "display_data"
    }
   ],
   "source": [
    "plt.bar(range(1,13), bike_2019)\n",
    "plt.title('2019 bike per month')\n",
    "plt.show()"
   ]
  },
  {
   "cell_type": "code",
   "execution_count": 108,
   "id": "edd00856",
   "metadata": {},
   "outputs": [
    {
     "data": {
      "image/png": "[encoded data removed]",
      "text/plain": [
       "<Figure size 864x576 with 1 Axes>"
      ]
     },
     "metadata": {
      "needs_background": "light"
     },
     "output_type": "display_data"
    }
   ],
   "source": [
    "#2019 vs 2020 분기별 공공자전거 이용 횟수◀◁◀◁◀◁◀◁◀◁◀◁◀◁◀◁◀◁◀◁◀◁◀◁◀◁\n",
    "plt.figure(figsize=(12,8))\n",
    "plt.title('2019 vs 2020 quartely public bike used')\n",
    "plt.bar(np.arange(0.8,4.8),  bike_Q19, width = 0.4, label = '2019', color='lightblue')\n",
    "plt.bar(np.arange(1.2,5.2),bike_Q20, width = 0.4, label = '2020', color = 'orange' )\n",
    "plt.xlabel('quarter')\n",
    "plt.xticks(np.arange(1,5))\n",
    "plt.legend()\n",
    "plt.show()"
   ]
  },
  {
   "cell_type": "code",
   "execution_count": 200,
   "id": "4ea9fa5b",
   "metadata": {},
   "outputs": [
    {
     "data": {
      "image/png": "[encoded data removed]",
      "text/plain": [
       "<Figure size 432x288 with 1 Axes>"
      ]
     },
     "metadata": {
      "needs_background": "light"
     },
     "output_type": "display_data"
    }
   ],
   "source": [
    "plt.title('2019 vs 2020 quartely public bike used')\n",
    "plt.plot(bike_Q19, label = '2019', color='lightblue')\n",
    "plt.plot(bike_Q20, label = '2020', color = 'orange' )\n",
    "plt.legend()\n",
    "plt.xticks(np.arange(1,5))\n",
    "plt.show()"
   ]
  },
  {
   "cell_type": "code",
   "execution_count": 202,
   "id": "0670126b",
   "metadata": {},
   "outputs": [
    {
     "ename": "ValueError",
     "evalue": "Could not interpret value `bikeQ_19` for parameter `y`",
     "output_type": "error",
     "traceback": [
      "\u001b[1;31m---------------------------------------------------------------------------\u001b[0m",
      "\u001b[1;31mValueError\u001b[0m                                Traceback (most recent call last)",
      "\u001b[1;32m<ipython-input-202-3ed046cb751c>\u001b[0m in \u001b[0;36m<module>\u001b[1;34m\u001b[0m\n\u001b[0;32m      3\u001b[0m \u001b[1;31m# sns.relplot(data=df_last, x=\"연도\", y=\"평당분양가격\",\u001b[0m\u001b[1;33m\u001b[0m\u001b[1;33m\u001b[0m\u001b[1;33m\u001b[0m\u001b[0m\n\u001b[0;32m      4\u001b[0m \u001b[1;31m#             hue=\"지역명\", kind=\"line\", col=\"지역명\", col_wrap=4, ci=None)\u001b[0m\u001b[1;33m\u001b[0m\u001b[1;33m\u001b[0m\u001b[1;33m\u001b[0m\u001b[0m\n\u001b[1;32m----> 5\u001b[1;33m sns.relplot(data=df_2019, x=\"월\", y=\"bikeQ_19\", \n\u001b[0m\u001b[0;32m      6\u001b[0m             hue=\"분기\", kind=\"line\", col=\"분기\", col_wrap=4, ci=None)\n",
      "\u001b[1;32m~\\anaconda3\\lib\\site-packages\\seaborn\\_decorators.py\u001b[0m in \u001b[0;36minner_f\u001b[1;34m(*args, **kwargs)\u001b[0m\n\u001b[0;32m     44\u001b[0m             )\n\u001b[0;32m     45\u001b[0m         \u001b[0mkwargs\u001b[0m\u001b[1;33m.\u001b[0m\u001b[0mupdate\u001b[0m\u001b[1;33m(\u001b[0m\u001b[1;33m{\u001b[0m\u001b[0mk\u001b[0m\u001b[1;33m:\u001b[0m \u001b[0marg\u001b[0m \u001b[1;32mfor\u001b[0m \u001b[0mk\u001b[0m\u001b[1;33m,\u001b[0m \u001b[0marg\u001b[0m \u001b[1;32min\u001b[0m \u001b[0mzip\u001b[0m\u001b[1;33m(\u001b[0m\u001b[0msig\u001b[0m\u001b[1;33m.\u001b[0m\u001b[0mparameters\u001b[0m\u001b[1;33m,\u001b[0m \u001b[0margs\u001b[0m\u001b[1;33m)\u001b[0m\u001b[1;33m}\u001b[0m\u001b[1;33m)\u001b[0m\u001b[1;33m\u001b[0m\u001b[1;33m\u001b[0m\u001b[0m\n\u001b[1;32m---> 46\u001b[1;33m         \u001b[1;32mreturn\u001b[0m \u001b[0mf\u001b[0m\u001b[1;33m(\u001b[0m\u001b[1;33m**\u001b[0m\u001b[0mkwargs\u001b[0m\u001b[1;33m)\u001b[0m\u001b[1;33m\u001b[0m\u001b[1;33m\u001b[0m\u001b[0m\n\u001b[0m\u001b[0;32m     47\u001b[0m     \u001b[1;32mreturn\u001b[0m \u001b[0minner_f\u001b[0m\u001b[1;33m\u001b[0m\u001b[1;33m\u001b[0m\u001b[0m\n\u001b[0;32m     48\u001b[0m \u001b[1;33m\u001b[0m\u001b[0m\n",
      "\u001b[1;32m~\\anaconda3\\lib\\site-packages\\seaborn\\relational.py\u001b[0m in \u001b[0;36mrelplot\u001b[1;34m(x, y, hue, size, style, data, row, col, col_wrap, row_order, col_order, palette, hue_order, hue_norm, sizes, size_order, size_norm, markers, dashes, style_order, legend, kind, height, aspect, facet_kws, units, **kwargs)\u001b[0m\n\u001b[0;32m    938\u001b[0m \u001b[1;33m\u001b[0m\u001b[0m\n\u001b[0;32m    939\u001b[0m     \u001b[1;31m# Use the full dataset to map the semantics\u001b[0m\u001b[1;33m\u001b[0m\u001b[1;33m\u001b[0m\u001b[1;33m\u001b[0m\u001b[0m\n\u001b[1;32m--> 940\u001b[1;33m     p = plotter(\n\u001b[0m\u001b[0;32m    941\u001b[0m         \u001b[0mdata\u001b[0m\u001b[1;33m=\u001b[0m\u001b[0mdata\u001b[0m\u001b[1;33m,\u001b[0m\u001b[1;33m\u001b[0m\u001b[1;33m\u001b[0m\u001b[0m\n\u001b[0;32m    942\u001b[0m         \u001b[0mvariables\u001b[0m\u001b[1;33m=\u001b[0m\u001b[0mplotter\u001b[0m\u001b[1;33m.\u001b[0m\u001b[0mget_semantics\u001b[0m\u001b[1;33m(\u001b[0m\u001b[0mlocals\u001b[0m\u001b[1;33m(\u001b[0m\u001b[1;33m)\u001b[0m\u001b[1;33m)\u001b[0m\u001b[1;33m,\u001b[0m\u001b[1;33m\u001b[0m\u001b[1;33m\u001b[0m\u001b[0m\n",
      "\u001b[1;32m~\\anaconda3\\lib\\site-packages\\seaborn\\relational.py\u001b[0m in \u001b[0;36m__init__\u001b[1;34m(self, data, variables, estimator, ci, n_boot, seed, sort, err_style, err_kws, legend)\u001b[0m\n\u001b[0;32m    365\u001b[0m         )\n\u001b[0;32m    366\u001b[0m \u001b[1;33m\u001b[0m\u001b[0m\n\u001b[1;32m--> 367\u001b[1;33m         \u001b[0msuper\u001b[0m\u001b[1;33m(\u001b[0m\u001b[1;33m)\u001b[0m\u001b[1;33m.\u001b[0m\u001b[0m__init__\u001b[0m\u001b[1;33m(\u001b[0m\u001b[0mdata\u001b[0m\u001b[1;33m=\u001b[0m\u001b[0mdata\u001b[0m\u001b[1;33m,\u001b[0m \u001b[0mvariables\u001b[0m\u001b[1;33m=\u001b[0m\u001b[0mvariables\u001b[0m\u001b[1;33m)\u001b[0m\u001b[1;33m\u001b[0m\u001b[1;33m\u001b[0m\u001b[0m\n\u001b[0m\u001b[0;32m    368\u001b[0m \u001b[1;33m\u001b[0m\u001b[0m\n\u001b[0;32m    369\u001b[0m         \u001b[0mself\u001b[0m\u001b[1;33m.\u001b[0m\u001b[0mestimator\u001b[0m \u001b[1;33m=\u001b[0m \u001b[0mestimator\u001b[0m\u001b[1;33m\u001b[0m\u001b[1;33m\u001b[0m\u001b[0m\n",
      "\u001b[1;32m~\\anaconda3\\lib\\site-packages\\seaborn\\_core.py\u001b[0m in \u001b[0;36m__init__\u001b[1;34m(self, data, variables)\u001b[0m\n\u001b[0;32m    602\u001b[0m     \u001b[1;32mdef\u001b[0m \u001b[0m__init__\u001b[0m\u001b[1;33m(\u001b[0m\u001b[0mself\u001b[0m\u001b[1;33m,\u001b[0m \u001b[0mdata\u001b[0m\u001b[1;33m=\u001b[0m\u001b[1;32mNone\u001b[0m\u001b[1;33m,\u001b[0m \u001b[0mvariables\u001b[0m\u001b[1;33m=\u001b[0m\u001b[1;33m{\u001b[0m\u001b[1;33m}\u001b[0m\u001b[1;33m)\u001b[0m\u001b[1;33m:\u001b[0m\u001b[1;33m\u001b[0m\u001b[1;33m\u001b[0m\u001b[0m\n\u001b[0;32m    603\u001b[0m \u001b[1;33m\u001b[0m\u001b[0m\n\u001b[1;32m--> 604\u001b[1;33m         \u001b[0mself\u001b[0m\u001b[1;33m.\u001b[0m\u001b[0massign_variables\u001b[0m\u001b[1;33m(\u001b[0m\u001b[0mdata\u001b[0m\u001b[1;33m,\u001b[0m \u001b[0mvariables\u001b[0m\u001b[1;33m)\u001b[0m\u001b[1;33m\u001b[0m\u001b[1;33m\u001b[0m\u001b[0m\n\u001b[0m\u001b[0;32m    605\u001b[0m \u001b[1;33m\u001b[0m\u001b[0m\n\u001b[0;32m    606\u001b[0m         \u001b[1;32mfor\u001b[0m \u001b[0mvar\u001b[0m\u001b[1;33m,\u001b[0m \u001b[0mcls\u001b[0m \u001b[1;32min\u001b[0m \u001b[0mself\u001b[0m\u001b[1;33m.\u001b[0m\u001b[0m_semantic_mappings\u001b[0m\u001b[1;33m.\u001b[0m\u001b[0mitems\u001b[0m\u001b[1;33m(\u001b[0m\u001b[1;33m)\u001b[0m\u001b[1;33m:\u001b[0m\u001b[1;33m\u001b[0m\u001b[1;33m\u001b[0m\u001b[0m\n",
      "\u001b[1;32m~\\anaconda3\\lib\\site-packages\\seaborn\\_core.py\u001b[0m in \u001b[0;36massign_variables\u001b[1;34m(self, data, variables)\u001b[0m\n\u001b[0;32m    665\u001b[0m         \u001b[1;32melse\u001b[0m\u001b[1;33m:\u001b[0m\u001b[1;33m\u001b[0m\u001b[1;33m\u001b[0m\u001b[0m\n\u001b[0;32m    666\u001b[0m             \u001b[0mself\u001b[0m\u001b[1;33m.\u001b[0m\u001b[0minput_format\u001b[0m \u001b[1;33m=\u001b[0m \u001b[1;34m\"long\"\u001b[0m\u001b[1;33m\u001b[0m\u001b[1;33m\u001b[0m\u001b[0m\n\u001b[1;32m--> 667\u001b[1;33m             plot_data, variables = self._assign_variables_longform(\n\u001b[0m\u001b[0;32m    668\u001b[0m                 \u001b[0mdata\u001b[0m\u001b[1;33m,\u001b[0m \u001b[1;33m**\u001b[0m\u001b[0mvariables\u001b[0m\u001b[1;33m,\u001b[0m\u001b[1;33m\u001b[0m\u001b[1;33m\u001b[0m\u001b[0m\n\u001b[0;32m    669\u001b[0m             )\n",
      "\u001b[1;32m~\\anaconda3\\lib\\site-packages\\seaborn\\_core.py\u001b[0m in \u001b[0;36m_assign_variables_longform\u001b[1;34m(self, data, **kwargs)\u001b[0m\n\u001b[0;32m    900\u001b[0m \u001b[1;33m\u001b[0m\u001b[0m\n\u001b[0;32m    901\u001b[0m                 \u001b[0merr\u001b[0m \u001b[1;33m=\u001b[0m \u001b[1;34mf\"Could not interpret value `{val}` for parameter `{key}`\"\u001b[0m\u001b[1;33m\u001b[0m\u001b[1;33m\u001b[0m\u001b[0m\n\u001b[1;32m--> 902\u001b[1;33m                 \u001b[1;32mraise\u001b[0m \u001b[0mValueError\u001b[0m\u001b[1;33m(\u001b[0m\u001b[0merr\u001b[0m\u001b[1;33m)\u001b[0m\u001b[1;33m\u001b[0m\u001b[1;33m\u001b[0m\u001b[0m\n\u001b[0m\u001b[0;32m    903\u001b[0m \u001b[1;33m\u001b[0m\u001b[0m\n\u001b[0;32m    904\u001b[0m             \u001b[1;32melse\u001b[0m\u001b[1;33m:\u001b[0m\u001b[1;33m\u001b[0m\u001b[1;33m\u001b[0m\u001b[0m\n",
      "\u001b[1;31mValueError\u001b[0m: Could not interpret value `bikeQ_19` for parameter `y`"
     ]
    }
   ],
   "source": [
    "#지역별로 플롯이 나눠져있음, 플롯 안 x축: 연도, y축: 평당분양가격★★★★★★★★★★★★★★★★★★★★★고민해보기\n",
    "\n",
    "# sns.relplot(data=df_last, x=\"연도\", y=\"평당분양가격\", \n",
    "#             hue=\"지역명\", kind=\"line\", col=\"지역명\", col_wrap=4, ci=None)\n",
    "sns.relplot(data=df_2019, x=\"월\", y=\"bikeQ_19\", \n",
    "            hue=\"분기\", kind=\"line\", col=\"분기\", col_wrap=4, ci=None)"
   ]
  },
  {
   "cell_type": "code",
   "execution_count": 107,
   "id": "386237c7",
   "metadata": {
    "scrolled": false
   },
   "outputs": [
    {
     "data": {
      "image/png": "[encoded data removed]",
      "text/plain": [
       "<Figure size 432x288 with 1 Axes>"
      ]
     },
     "metadata": {
      "needs_background": "light"
     },
     "output_type": "display_data"
    },
    {
     "data": {
      "image/png": "[encoded data removed]",
      "text/plain": [
       "<Figure size 432x288 with 1 Axes>"
      ]
     },
     "metadata": {
      "needs_background": "light"
     },
     "output_type": "display_data"
    }
   ],
   "source": [
    "#2019 vs 2020월별막대- 위에 있는 분기별 막대로 대체\n",
    "months = range(1,13)\n",
    "# plt.figure(figsize=(10,8))\n",
    "plt.bar(months, bike_2019, width = 0.4, bottom = 10, label='2019', color='wheat')\n",
    "plt.bar([i+0.4 for i in months], bike_2020, label='2020',width = 0.4, color = 'peru')\n",
    "plt.legend()\n",
    "plt.ylabel('total consumption per month(unit: million)')\n",
    "plt.title('Seoul bike consumption per month')\n",
    "plt.show()\n",
    "# plt.figure(figsize=(10,8))\n",
    "plt.plot(bike_2019, label='2019')\n",
    "plt.plot(bike_2020, label='2020')\n",
    "plt.legend()\n",
    "plt.show()"
   ]
  },
  {
   "cell_type": "code",
   "execution_count": 109,
   "id": "1c95aa2d",
   "metadata": {},
   "outputs": [],
   "source": [
    "#★★★★★★★★★★★★★★★★★2019 vs 2021 6월까지★★★★★★★★★★★★★★★★★★★★★★"
   ]
  },
  {
   "cell_type": "code",
   "execution_count": 110,
   "id": "bff2f1f1",
   "metadata": {},
   "outputs": [
    {
     "data": {
      "text/html": [
       "<div>\n",
       "<style scoped>\n",
       "    .dataframe tbody tr th:only-of-type {\n",
       "        vertical-align: middle;\n",
       "    }\n",
       "\n",
       "    .dataframe tbody tr th {\n",
       "        vertical-align: top;\n",
       "    }\n",
       "\n",
       "    .dataframe thead th {\n",
       "        text-align: right;\n",
       "    }\n",
       "</style>\n",
       "<table border=\"1\" class=\"dataframe\">\n",
       "  <thead>\n",
       "    <tr style=\"text-align: right;\">\n",
       "      <th></th>\n",
       "      <th>대여일자</th>\n",
       "      <th>대여소번호</th>\n",
       "      <th>대여소명</th>\n",
       "      <th>대여구분코드</th>\n",
       "      <th>성별</th>\n",
       "      <th>연령대코드</th>\n",
       "      <th>이용건수</th>\n",
       "      <th>운동량</th>\n",
       "      <th>탄소량</th>\n",
       "      <th>이동거리(M)</th>\n",
       "      <th>이용시간(분)</th>\n",
       "    </tr>\n",
       "  </thead>\n",
       "  <tbody>\n",
       "    <tr>\n",
       "      <th>0</th>\n",
       "      <td>2021-01</td>\n",
       "      <td>3</td>\n",
       "      <td>중랑센터</td>\n",
       "      <td>일일(회원)</td>\n",
       "      <td>M</td>\n",
       "      <td>AGE_003</td>\n",
       "      <td>2</td>\n",
       "      <td>47.68</td>\n",
       "      <td>0.40</td>\n",
       "      <td>1720.00</td>\n",
       "      <td>25</td>\n",
       "    </tr>\n",
       "    <tr>\n",
       "      <th>1</th>\n",
       "      <td>2021-01</td>\n",
       "      <td>3</td>\n",
       "      <td>중랑센터</td>\n",
       "      <td>정기</td>\n",
       "      <td>M</td>\n",
       "      <td>AGE_003</td>\n",
       "      <td>11</td>\n",
       "      <td>578.98</td>\n",
       "      <td>2.87</td>\n",
       "      <td>12390.48</td>\n",
       "      <td>166</td>\n",
       "    </tr>\n",
       "    <tr>\n",
       "      <th>2</th>\n",
       "      <td>2021-01</td>\n",
       "      <td>3</td>\n",
       "      <td>중랑센터</td>\n",
       "      <td>정기</td>\n",
       "      <td>M</td>\n",
       "      <td>AGE_004</td>\n",
       "      <td>1</td>\n",
       "      <td>81.65</td>\n",
       "      <td>0.53</td>\n",
       "      <td>2291.05</td>\n",
       "      <td>13</td>\n",
       "    </tr>\n",
       "    <tr>\n",
       "      <th>3</th>\n",
       "      <td>2021-01</td>\n",
       "      <td>5</td>\n",
       "      <td>상암센터 정비실</td>\n",
       "      <td>일일(회원)</td>\n",
       "      <td>\\N</td>\n",
       "      <td>AGE_004</td>\n",
       "      <td>1</td>\n",
       "      <td>511.95</td>\n",
       "      <td>3.53</td>\n",
       "      <td>15209.58</td>\n",
       "      <td>47</td>\n",
       "    </tr>\n",
       "    <tr>\n",
       "      <th>4</th>\n",
       "      <td>2021-01</td>\n",
       "      <td>5</td>\n",
       "      <td>상암센터 정비실</td>\n",
       "      <td>일일(회원)</td>\n",
       "      <td>M</td>\n",
       "      <td>AGE_004</td>\n",
       "      <td>6</td>\n",
       "      <td>371.10</td>\n",
       "      <td>3.39</td>\n",
       "      <td>14642.60</td>\n",
       "      <td>134</td>\n",
       "    </tr>\n",
       "  </tbody>\n",
       "</table>\n",
       "</div>"
      ],
      "text/plain": [
       "      대여일자  대여소번호      대여소명  대여구분코드  성별    연령대코드  이용건수     운동량   탄소량  \\\n",
       "0  2021-01      3      중랑센터  일일(회원)   M  AGE_003     2   47.68  0.40   \n",
       "1  2021-01      3      중랑센터      정기   M  AGE_003    11  578.98  2.87   \n",
       "2  2021-01      3      중랑센터      정기   M  AGE_004     1   81.65  0.53   \n",
       "3  2021-01      5  상암센터 정비실  일일(회원)  \\N  AGE_004     1  511.95  3.53   \n",
       "4  2021-01      5  상암센터 정비실  일일(회원)   M  AGE_004     6  371.10  3.39   \n",
       "\n",
       "    이동거리(M)  이용시간(분)  \n",
       "0   1720.00       25  \n",
       "1  12390.48      166  \n",
       "2   2291.05       13  \n",
       "3  15209.58       47  \n",
       "4  14642.60      134  "
      ]
     },
     "execution_count": 110,
     "metadata": {},
     "output_type": "execute_result"
    }
   ],
   "source": [
    "half_19 = df_2019[df_2019['월']<7] #2019 1-6월\n",
    "half_21 = pd.concat([d5,d6])\n",
    "half_21.head()"
   ]
  },
  {
   "cell_type": "code",
   "execution_count": 111,
   "id": "e151476c",
   "metadata": {},
   "outputs": [
    {
     "data": {
      "text/html": [
       "<div>\n",
       "<style scoped>\n",
       "    .dataframe tbody tr th:only-of-type {\n",
       "        vertical-align: middle;\n",
       "    }\n",
       "\n",
       "    .dataframe tbody tr th {\n",
       "        vertical-align: top;\n",
       "    }\n",
       "\n",
       "    .dataframe thead th {\n",
       "        text-align: right;\n",
       "    }\n",
       "</style>\n",
       "<table border=\"1\" class=\"dataframe\">\n",
       "  <thead>\n",
       "    <tr style=\"text-align: right;\">\n",
       "      <th></th>\n",
       "      <th>대여일자</th>\n",
       "      <th>대여소번호</th>\n",
       "      <th>연령대코드</th>\n",
       "      <th>이용건수</th>\n",
       "      <th>이동거리(M)</th>\n",
       "      <th>이용시간(분)</th>\n",
       "    </tr>\n",
       "  </thead>\n",
       "  <tbody>\n",
       "  </tbody>\n",
       "</table>\n",
       "</div>"
      ],
      "text/plain": [
       "Empty DataFrame\n",
       "Columns: [대여일자, 대여소번호, 연령대코드, 이용건수, 이동거리(M), 이용시간(분)]\n",
       "Index: []"
      ]
     },
     "execution_count": 111,
     "metadata": {},
     "output_type": "execute_result"
    }
   ],
   "source": [
    "half_21 = half_21[['대여일자','대여소번호','연령대코드','이용건수','이동거리(M)','이용시간(분)']]\n",
    "half_21[half_21['이동거리(M)'].isnull()]#null값 없음\n"
   ]
  },
  {
   "cell_type": "code",
   "execution_count": 112,
   "id": "f06a0437",
   "metadata": {},
   "outputs": [],
   "source": [
    "keys = half_21.연령대코드.unique()\n",
    "values = ['10s','20s','30s','40s','50s','60s','70s','etc']\n",
    "dic = dict(zip(keys,values))\n",
    "half_21['연령대코드'] = half_21.연령대코드.apply(lambda x: dic[x])\n",
    "half_21['월'] = pd.to_datetime(half_21['대여일자'],format='%Y-%m').dt.month\n",
    "bike_21 = half_21.groupby(['월'])['이용건수'].sum()"
   ]
  },
  {
   "cell_type": "code",
   "execution_count": 115,
   "id": "ff212d7d",
   "metadata": {},
   "outputs": [],
   "source": [
    "sample = bike_21-bike_2019[:6]"
   ]
  },
  {
   "cell_type": "code",
   "execution_count": 116,
   "id": "882e6256",
   "metadata": {},
   "outputs": [
    {
     "data": {
      "text/plain": [
       "월\n",
       "1     297033\n",
       "2     762146\n",
       "3    1278013\n",
       "4    1572530\n",
       "5     797374\n",
       "6    1164515\n",
       "Name: 이용건수, dtype: int64"
      ]
     },
     "execution_count": 116,
     "metadata": {},
     "output_type": "execute_result"
    }
   ],
   "source": [
    "sample"
   ]
  },
  {
   "cell_type": "code",
   "execution_count": 126,
   "id": "4d316519",
   "metadata": {},
   "outputs": [
    {
     "data": {
      "image/png": "[encoded data removed]",
      "text/plain": [
       "<Figure size 432x288 with 1 Axes>"
      ]
     },
     "metadata": {
      "needs_background": "light"
     },
     "output_type": "display_data"
    }
   ],
   "source": [
    "#목적: 지하철, 버스 2019 vs 2021 이용과 비교하기 위해 사용◀◁◀◁◀◁◀◁◀◁◀◁◀◁◀◁◀◁◀◁◀◁◀◁◀◁\n",
    "plt.bar(np.arange(0.8,6.8), bike_2019[:6], label = 'half_19', width = 0.4)\n",
    "plt.bar(np.arange(1.2,7.2), bike_21, label = 'half_21', width = 0.4)\n",
    "plt.legend()\n",
    "plt.title('2019 vs 2021 monthly public bike use')\n",
    "plt.xlabel('month')\n",
    "plt.show()"
   ]
  },
  {
   "cell_type": "code",
   "execution_count": 133,
   "id": "49eeb157",
   "metadata": {},
   "outputs": [],
   "source": [
    "#2020 사용자의 연령별 분포 확인하기\n",
    "#이거 하고나서 교통사고 데이터의 나이 찾아보기\n",
    "df_2020.head()\n",
    "count_20 = df_2020.groupby(['연령대코드'])['이용건수'].sum()\n",
    "driven_20 = df_2020.groupby(['연령대코드'])['이동거리(M)'].mean()"
   ]
  },
  {
   "cell_type": "code",
   "execution_count": 155,
   "id": "d4c0a3c6",
   "metadata": {},
   "outputs": [
    {
     "data": {
      "image/png": "[encoded data removed]",
      "text/plain": [
       "<Figure size 432x288 with 2 Axes>"
      ]
     },
     "metadata": {
      "needs_background": "light"
     },
     "output_type": "display_data"
    }
   ],
   "source": [
    "#연령대별 자전거 이용 횟수 & 횟수별 이동 평균 거리(km)\n",
    "#왜 그래프 크기가 안커지지!!!!!!\n",
    "#plt.figure(figsize=(12,8))\n",
    "\n",
    "fig, ax1 = plt.subplots()\n",
    "ax2 = ax1.twinx()\n",
    "\n",
    "bar = ax1.bar(df_2020['연령대코드'].unique(), count_20, label = 'count', color = 'lightblue')\n",
    "plot = ax2.plot(driven_20, label = 'distance driven', color='red')\n",
    "ax1.set_ylabel('total consumptions')\n",
    "ax1.set_ylim(0,12000000)\n",
    "ax2.set_ylabel('mean driven distance')\n",
    "ax2.set_ylim(0, 160000)\n",
    "ax2.set_yticks([20000,90000,160000])\n",
    "plt.legend()\n",
    "plt.title('total usement and mean distance driven per age')\n",
    "plt.show()"
   ]
  },
  {
   "cell_type": "code",
   "execution_count": 73,
   "id": "ae515ec7",
   "metadata": {},
   "outputs": [],
   "source": [
    "#그래프 해석: 50대의 이용자 수도, 평균 거리 수도 많은 것을 확인할 수 있다.\n",
    "#아...상관관계분석 하는게좋긴하겠지만,,,일단 pass\n",
    "#자전거가 피해자인 교통사고 살펴보기"
   ]
  },
  {
   "cell_type": "code",
   "execution_count": 159,
   "id": "4afe6a4e",
   "metadata": {},
   "outputs": [],
   "source": [
    "#2020 교통사고 데이터 보기~~~~~~\n",
    "taas1 = pd.read_csv('교통사고1720_taas/서울시 자전거 교통사고_피해자_2020.csv', encoding='utf-8')\n",
    "taas2 = pd.read_csv('교통사고1720_taas/서울시 자전거 교통사고_피해자_2017_2019.csv', encoding='utf-8')\n"
   ]
  },
  {
   "cell_type": "code",
   "execution_count": 184,
   "id": "9b1534c8",
   "metadata": {},
   "outputs": [],
   "source": [
    "taas = pd.concat([taas1, taas2])#2017-2020 dataset concate하기\n",
    "taas['월'] = [dt.strptime(taas.사고일시.iloc[i], \"%Y년 %m월 %d일 %H시\").month for i in range(len(taas))]\n",
    "taas.head()\n",
    "taas['월'].unique()\n",
    "taas['년'] = [dt.strptime(taas.사고일시.iloc[i], \"%Y년 %m월 %d일 %H시\").year for i in range(len(taas))]"
   ]
  },
  {
   "cell_type": "code",
   "execution_count": 177,
   "id": "a82a8d80",
   "metadata": {},
   "outputs": [
    {
     "data": {
      "text/html": [
       "<div>\n",
       "<style scoped>\n",
       "    .dataframe tbody tr th:only-of-type {\n",
       "        vertical-align: middle;\n",
       "    }\n",
       "\n",
       "    .dataframe tbody tr th {\n",
       "        vertical-align: top;\n",
       "    }\n",
       "\n",
       "    .dataframe thead th {\n",
       "        text-align: right;\n",
       "    }\n",
       "</style>\n",
       "<table border=\"1\" class=\"dataframe\">\n",
       "  <thead>\n",
       "    <tr style=\"text-align: right;\">\n",
       "      <th></th>\n",
       "      <th>사고번호</th>\n",
       "      <th>요일</th>\n",
       "      <th>시군구</th>\n",
       "      <th>노면상태</th>\n",
       "      <th>기상상태</th>\n",
       "      <th>가해운전자 성별</th>\n",
       "      <th>가해운전자 연령</th>\n",
       "      <th>피해운전자 성별</th>\n",
       "      <th>피해운전자 연령</th>\n",
       "      <th>피해운전자 상해정도</th>\n",
       "      <th>월</th>\n",
       "      <th>년</th>\n",
       "    </tr>\n",
       "  </thead>\n",
       "  <tbody>\n",
       "    <tr>\n",
       "      <th>0</th>\n",
       "      <td>2020010100100101</td>\n",
       "      <td>수요일</td>\n",
       "      <td>서울특별시 강동구 성내동</td>\n",
       "      <td>포장 - 건조</td>\n",
       "      <td>흐림</td>\n",
       "      <td>남</td>\n",
       "      <td>43세</td>\n",
       "      <td>남</td>\n",
       "      <td>76</td>\n",
       "      <td>경상</td>\n",
       "      <td>1</td>\n",
       "      <td>2020</td>\n",
       "    </tr>\n",
       "    <tr>\n",
       "      <th>1</th>\n",
       "      <td>2020010200100312</td>\n",
       "      <td>목요일</td>\n",
       "      <td>서울특별시 송파구 잠실동</td>\n",
       "      <td>포장 - 건조</td>\n",
       "      <td>맑음</td>\n",
       "      <td>여</td>\n",
       "      <td>47세</td>\n",
       "      <td>남</td>\n",
       "      <td>64</td>\n",
       "      <td>중상</td>\n",
       "      <td>1</td>\n",
       "      <td>2020</td>\n",
       "    </tr>\n",
       "    <tr>\n",
       "      <th>2</th>\n",
       "      <td>2020010200100341</td>\n",
       "      <td>목요일</td>\n",
       "      <td>서울특별시 송파구 풍납동</td>\n",
       "      <td>포장 - 건조</td>\n",
       "      <td>맑음</td>\n",
       "      <td>남</td>\n",
       "      <td>22세</td>\n",
       "      <td>여</td>\n",
       "      <td>53</td>\n",
       "      <td>경상</td>\n",
       "      <td>1</td>\n",
       "      <td>2020</td>\n",
       "    </tr>\n",
       "    <tr>\n",
       "      <th>3</th>\n",
       "      <td>2020010400100045</td>\n",
       "      <td>토요일</td>\n",
       "      <td>서울특별시 중랑구 상봉동</td>\n",
       "      <td>포장 - 건조</td>\n",
       "      <td>흐림</td>\n",
       "      <td>여</td>\n",
       "      <td>34세</td>\n",
       "      <td>남</td>\n",
       "      <td>52</td>\n",
       "      <td>중상</td>\n",
       "      <td>1</td>\n",
       "      <td>2020</td>\n",
       "    </tr>\n",
       "    <tr>\n",
       "      <th>4</th>\n",
       "      <td>2020010400100306</td>\n",
       "      <td>토요일</td>\n",
       "      <td>서울특별시 광진구 자양동</td>\n",
       "      <td>포장 - 건조</td>\n",
       "      <td>맑음</td>\n",
       "      <td>남</td>\n",
       "      <td>64세</td>\n",
       "      <td>여</td>\n",
       "      <td>20</td>\n",
       "      <td>상해없음</td>\n",
       "      <td>1</td>\n",
       "      <td>2020</td>\n",
       "    </tr>\n",
       "  </tbody>\n",
       "</table>\n",
       "</div>"
      ],
      "text/plain": [
       "               사고번호   요일            시군구     노면상태 기상상태 가해운전자 성별 가해운전자 연령  \\\n",
       "0  2020010100100101  수요일  서울특별시 강동구 성내동  포장 - 건조   흐림        남      43세   \n",
       "1  2020010200100312  목요일  서울특별시 송파구 잠실동  포장 - 건조   맑음        여      47세   \n",
       "2  2020010200100341  목요일  서울특별시 송파구 풍납동  포장 - 건조   맑음        남      22세   \n",
       "3  2020010400100045  토요일  서울특별시 중랑구 상봉동  포장 - 건조   흐림        여      34세   \n",
       "4  2020010400100306  토요일  서울특별시 광진구 자양동  포장 - 건조   맑음        남      64세   \n",
       "\n",
       "  피해운전자 성별 피해운전자 연령 피해운전자 상해정도  월     년  \n",
       "0        남       76         경상  1  2020  \n",
       "1        남       64         중상  1  2020  \n",
       "2        여       53         경상  1  2020  \n",
       "3        남       52         중상  1  2020  \n",
       "4        여       20       상해없음  1  2020  "
      ]
     },
     "execution_count": 177,
     "metadata": {},
     "output_type": "execute_result"
    }
   ],
   "source": [
    "taas = taas[['사고번호', '요일', '시군구', '노면상태', '기상상태', '가해운전자 성별', '가해운전자 연령', '피해운전자 성별', '피해운전자 연령', '피해운전자 상해정도', '월', '년']]\n",
    "taas.head()"
   ]
  },
  {
   "cell_type": "code",
   "execution_count": 178,
   "id": "a23f990c",
   "metadata": {
    "scrolled": true
   },
   "outputs": [
    {
     "data": {
      "text/plain": [
       "사고번호          0\n",
       "요일            0\n",
       "시군구           0\n",
       "노면상태          0\n",
       "기상상태          0\n",
       "가해운전자 성별      0\n",
       "가해운전자 연령      0\n",
       "피해운전자 성별      0\n",
       "피해운전자 연령      0\n",
       "피해운전자 상해정도    0\n",
       "월             0\n",
       "년             0\n",
       "dtype: int64"
      ]
     },
     "execution_count": 178,
     "metadata": {},
     "output_type": "execute_result"
    }
   ],
   "source": [
    "taas['피해운전자 연령'] = taas['피해운전자 연령'].str.extract('(\\d+)')#피해운전자 연령 숫자로 변환\n",
    "taas.isnull().sum()\n",
    "taas = taas.dropna()\n",
    "taas.isnull().sum() #null값 제거"
   ]
  },
  {
   "cell_type": "code",
   "execution_count": 180,
   "id": "5478d88d",
   "metadata": {},
   "outputs": [],
   "source": [
    "def ages(age):\n",
    "    age = int(age)\n",
    "    if age>=80: return 'etc'\n",
    "    elif age>=70: return '70s'\n",
    "    elif age>=60: return '60s'\n",
    "    elif age>=50: return '50s'\n",
    "    elif age>=40: return '40s'\n",
    "    elif age>=30: return '30s'\n",
    "    elif age>=20: return '20s'\n",
    "    else: return '10s'\n"
   ]
  },
  {
   "cell_type": "code",
   "execution_count": 181,
   "id": "c7418a7d",
   "metadata": {},
   "outputs": [],
   "source": [
    "taas['피해운전자 연령'] = taas['피해운전자 연령'].apply(ages)"
   ]
  },
  {
   "cell_type": "code",
   "execution_count": 196,
   "id": "4cb5b1ee",
   "metadata": {},
   "outputs": [
    {
     "data": {
      "text/plain": [
       "66"
      ]
     },
     "execution_count": 196,
     "metadata": {},
     "output_type": "execute_result"
    }
   ],
   "source": [
    "month_20.iloc[0]"
   ]
  },
  {
   "cell_type": "code",
   "execution_count": 204,
   "id": "2470a7ae",
   "metadata": {
    "scrolled": true
   },
   "outputs": [
    {
     "data": {
      "text/plain": [
       "[435, 449, 395, 362]"
      ]
     },
     "execution_count": 204,
     "metadata": {},
     "output_type": "execute_result"
    }
   ],
   "source": [
    "#월별 교통사고★★★★★★★★★★★★★★★★★★★★★★★★★★★★★★★★★★★★★★★★★★★★★★★★★★여기부터 봐야함\n",
    "# taas.groupby(['월']).count()['사고번호']\n",
    "month_20 = taas[taas['년']==2020].groupby(['월']).count()['사고번호']\n",
    "\n",
    "accident_Q20 = [sum([month_20.iloc[i],month_20.iloc[i+4],month_20.iloc[i+8]]) for i in range(len(month_20)//3)]\n",
    "accident_Q20\n",
    "# plt.bar(range(1,13), month_20)\n",
    "# plt.title('2020 monthly total traffic accident')\n",
    "# plt.show()"
   ]
  },
  {
   "cell_type": "code",
   "execution_count": 205,
   "id": "56405bb2",
   "metadata": {
    "scrolled": true
   },
   "outputs": [
    {
     "ename": "ValueError",
     "evalue": "shape mismatch: objects cannot be broadcast to a single shape",
     "output_type": "error",
     "traceback": [
      "\u001b[1;31m---------------------------------------------------------------------------\u001b[0m",
      "\u001b[1;31mValueError\u001b[0m                                Traceback (most recent call last)",
      "\u001b[1;32m<ipython-input-205-001c22e730ba>\u001b[0m in \u001b[0;36m<module>\u001b[1;34m\u001b[0m\n\u001b[0;32m      3\u001b[0m \u001b[0mages\u001b[0m \u001b[1;33m=\u001b[0m \u001b[1;33m[\u001b[0m\u001b[1;34m'10s'\u001b[0m\u001b[1;33m,\u001b[0m\u001b[1;34m'20s'\u001b[0m\u001b[1;33m,\u001b[0m\u001b[1;34m'30s'\u001b[0m\u001b[1;33m,\u001b[0m\u001b[1;34m'40s'\u001b[0m\u001b[1;33m,\u001b[0m\u001b[1;34m'50s'\u001b[0m\u001b[1;33m,\u001b[0m\u001b[1;34m'60s'\u001b[0m\u001b[1;33m,\u001b[0m\u001b[1;34m'70s'\u001b[0m\u001b[1;33m,\u001b[0m\u001b[1;34m'etc'\u001b[0m\u001b[1;33m]\u001b[0m\u001b[1;33m\u001b[0m\u001b[1;33m\u001b[0m\u001b[0m\n\u001b[0;32m      4\u001b[0m \u001b[0mplt\u001b[0m\u001b[1;33m.\u001b[0m\u001b[0mtitle\u001b[0m\u001b[1;33m(\u001b[0m\u001b[1;34m'total traffic accidents per ages in 2020'\u001b[0m\u001b[1;33m)\u001b[0m\u001b[1;33m\u001b[0m\u001b[1;33m\u001b[0m\u001b[0m\n\u001b[1;32m----> 5\u001b[1;33m \u001b[0mplt\u001b[0m\u001b[1;33m.\u001b[0m\u001b[0mbar\u001b[0m\u001b[1;33m(\u001b[0m\u001b[0mages\u001b[0m\u001b[1;33m,\u001b[0m \u001b[0mage_20\u001b[0m\u001b[1;33m)\u001b[0m\u001b[1;33m\u001b[0m\u001b[1;33m\u001b[0m\u001b[0m\n\u001b[0m",
      "\u001b[1;32m~\\anaconda3\\lib\\site-packages\\matplotlib\\pyplot.py\u001b[0m in \u001b[0;36mbar\u001b[1;34m(x, height, width, bottom, align, data, **kwargs)\u001b[0m\n\u001b[0;32m   2485\u001b[0m         \u001b[0mx\u001b[0m\u001b[1;33m,\u001b[0m \u001b[0mheight\u001b[0m\u001b[1;33m,\u001b[0m \u001b[0mwidth\u001b[0m\u001b[1;33m=\u001b[0m\u001b[1;36m0.8\u001b[0m\u001b[1;33m,\u001b[0m \u001b[0mbottom\u001b[0m\u001b[1;33m=\u001b[0m\u001b[1;32mNone\u001b[0m\u001b[1;33m,\u001b[0m \u001b[1;33m*\u001b[0m\u001b[1;33m,\u001b[0m \u001b[0malign\u001b[0m\u001b[1;33m=\u001b[0m\u001b[1;34m'center'\u001b[0m\u001b[1;33m,\u001b[0m\u001b[1;33m\u001b[0m\u001b[1;33m\u001b[0m\u001b[0m\n\u001b[0;32m   2486\u001b[0m         data=None, **kwargs):\n\u001b[1;32m-> 2487\u001b[1;33m     return gca().bar(\n\u001b[0m\u001b[0;32m   2488\u001b[0m         \u001b[0mx\u001b[0m\u001b[1;33m,\u001b[0m \u001b[0mheight\u001b[0m\u001b[1;33m,\u001b[0m \u001b[0mwidth\u001b[0m\u001b[1;33m=\u001b[0m\u001b[0mwidth\u001b[0m\u001b[1;33m,\u001b[0m \u001b[0mbottom\u001b[0m\u001b[1;33m=\u001b[0m\u001b[0mbottom\u001b[0m\u001b[1;33m,\u001b[0m \u001b[0malign\u001b[0m\u001b[1;33m=\u001b[0m\u001b[0malign\u001b[0m\u001b[1;33m,\u001b[0m\u001b[1;33m\u001b[0m\u001b[1;33m\u001b[0m\u001b[0m\n\u001b[0;32m   2489\u001b[0m         **({\"data\": data} if data is not None else {}), **kwargs)\n",
      "\u001b[1;32m~\\anaconda3\\lib\\site-packages\\matplotlib\\__init__.py\u001b[0m in \u001b[0;36minner\u001b[1;34m(ax, data, *args, **kwargs)\u001b[0m\n\u001b[0;32m   1445\u001b[0m     \u001b[1;32mdef\u001b[0m \u001b[0minner\u001b[0m\u001b[1;33m(\u001b[0m\u001b[0max\u001b[0m\u001b[1;33m,\u001b[0m \u001b[1;33m*\u001b[0m\u001b[0margs\u001b[0m\u001b[1;33m,\u001b[0m \u001b[0mdata\u001b[0m\u001b[1;33m=\u001b[0m\u001b[1;32mNone\u001b[0m\u001b[1;33m,\u001b[0m \u001b[1;33m**\u001b[0m\u001b[0mkwargs\u001b[0m\u001b[1;33m)\u001b[0m\u001b[1;33m:\u001b[0m\u001b[1;33m\u001b[0m\u001b[1;33m\u001b[0m\u001b[0m\n\u001b[0;32m   1446\u001b[0m         \u001b[1;32mif\u001b[0m \u001b[0mdata\u001b[0m \u001b[1;32mis\u001b[0m \u001b[1;32mNone\u001b[0m\u001b[1;33m:\u001b[0m\u001b[1;33m\u001b[0m\u001b[1;33m\u001b[0m\u001b[0m\n\u001b[1;32m-> 1447\u001b[1;33m             \u001b[1;32mreturn\u001b[0m \u001b[0mfunc\u001b[0m\u001b[1;33m(\u001b[0m\u001b[0max\u001b[0m\u001b[1;33m,\u001b[0m \u001b[1;33m*\u001b[0m\u001b[0mmap\u001b[0m\u001b[1;33m(\u001b[0m\u001b[0msanitize_sequence\u001b[0m\u001b[1;33m,\u001b[0m \u001b[0margs\u001b[0m\u001b[1;33m)\u001b[0m\u001b[1;33m,\u001b[0m \u001b[1;33m**\u001b[0m\u001b[0mkwargs\u001b[0m\u001b[1;33m)\u001b[0m\u001b[1;33m\u001b[0m\u001b[1;33m\u001b[0m\u001b[0m\n\u001b[0m\u001b[0;32m   1448\u001b[0m \u001b[1;33m\u001b[0m\u001b[0m\n\u001b[0;32m   1449\u001b[0m         \u001b[0mbound\u001b[0m \u001b[1;33m=\u001b[0m \u001b[0mnew_sig\u001b[0m\u001b[1;33m.\u001b[0m\u001b[0mbind\u001b[0m\u001b[1;33m(\u001b[0m\u001b[0max\u001b[0m\u001b[1;33m,\u001b[0m \u001b[1;33m*\u001b[0m\u001b[0margs\u001b[0m\u001b[1;33m,\u001b[0m \u001b[1;33m**\u001b[0m\u001b[0mkwargs\u001b[0m\u001b[1;33m)\u001b[0m\u001b[1;33m\u001b[0m\u001b[1;33m\u001b[0m\u001b[0m\n",
      "\u001b[1;32m~\\anaconda3\\lib\\site-packages\\matplotlib\\axes\\_axes.py\u001b[0m in \u001b[0;36mbar\u001b[1;34m(self, x, height, width, bottom, align, **kwargs)\u001b[0m\n\u001b[0;32m   2428\u001b[0m                 \u001b[0myerr\u001b[0m \u001b[1;33m=\u001b[0m \u001b[0mself\u001b[0m\u001b[1;33m.\u001b[0m\u001b[0m_convert_dx\u001b[0m\u001b[1;33m(\u001b[0m\u001b[0myerr\u001b[0m\u001b[1;33m,\u001b[0m \u001b[0my0\u001b[0m\u001b[1;33m,\u001b[0m \u001b[0my\u001b[0m\u001b[1;33m,\u001b[0m \u001b[0mself\u001b[0m\u001b[1;33m.\u001b[0m\u001b[0mconvert_yunits\u001b[0m\u001b[1;33m)\u001b[0m\u001b[1;33m\u001b[0m\u001b[1;33m\u001b[0m\u001b[0m\n\u001b[0;32m   2429\u001b[0m \u001b[1;33m\u001b[0m\u001b[0m\n\u001b[1;32m-> 2430\u001b[1;33m         x, height, width, y, linewidth = np.broadcast_arrays(\n\u001b[0m\u001b[0;32m   2431\u001b[0m             \u001b[1;31m# Make args iterable too.\u001b[0m\u001b[1;33m\u001b[0m\u001b[1;33m\u001b[0m\u001b[1;33m\u001b[0m\u001b[0m\n\u001b[0;32m   2432\u001b[0m             np.atleast_1d(x), height, width, y, linewidth)\n",
      "\u001b[1;32m<__array_function__ internals>\u001b[0m in \u001b[0;36mbroadcast_arrays\u001b[1;34m(*args, **kwargs)\u001b[0m\n",
      "\u001b[1;32m~\\anaconda3\\lib\\site-packages\\numpy\\lib\\stride_tricks.py\u001b[0m in \u001b[0;36mbroadcast_arrays\u001b[1;34m(subok, *args)\u001b[0m\n\u001b[0;32m    536\u001b[0m     \u001b[0margs\u001b[0m \u001b[1;33m=\u001b[0m \u001b[1;33m[\u001b[0m\u001b[0mnp\u001b[0m\u001b[1;33m.\u001b[0m\u001b[0marray\u001b[0m\u001b[1;33m(\u001b[0m\u001b[0m_m\u001b[0m\u001b[1;33m,\u001b[0m \u001b[0mcopy\u001b[0m\u001b[1;33m=\u001b[0m\u001b[1;32mFalse\u001b[0m\u001b[1;33m,\u001b[0m \u001b[0msubok\u001b[0m\u001b[1;33m=\u001b[0m\u001b[0msubok\u001b[0m\u001b[1;33m)\u001b[0m \u001b[1;32mfor\u001b[0m \u001b[0m_m\u001b[0m \u001b[1;32min\u001b[0m \u001b[0margs\u001b[0m\u001b[1;33m]\u001b[0m\u001b[1;33m\u001b[0m\u001b[1;33m\u001b[0m\u001b[0m\n\u001b[0;32m    537\u001b[0m \u001b[1;33m\u001b[0m\u001b[0m\n\u001b[1;32m--> 538\u001b[1;33m     \u001b[0mshape\u001b[0m \u001b[1;33m=\u001b[0m \u001b[0m_broadcast_shape\u001b[0m\u001b[1;33m(\u001b[0m\u001b[1;33m*\u001b[0m\u001b[0margs\u001b[0m\u001b[1;33m)\u001b[0m\u001b[1;33m\u001b[0m\u001b[1;33m\u001b[0m\u001b[0m\n\u001b[0m\u001b[0;32m    539\u001b[0m \u001b[1;33m\u001b[0m\u001b[0m\n\u001b[0;32m    540\u001b[0m     \u001b[1;32mif\u001b[0m \u001b[0mall\u001b[0m\u001b[1;33m(\u001b[0m\u001b[0marray\u001b[0m\u001b[1;33m.\u001b[0m\u001b[0mshape\u001b[0m \u001b[1;33m==\u001b[0m \u001b[0mshape\u001b[0m \u001b[1;32mfor\u001b[0m \u001b[0marray\u001b[0m \u001b[1;32min\u001b[0m \u001b[0margs\u001b[0m\u001b[1;33m)\u001b[0m\u001b[1;33m:\u001b[0m\u001b[1;33m\u001b[0m\u001b[1;33m\u001b[0m\u001b[0m\n",
      "\u001b[1;32m~\\anaconda3\\lib\\site-packages\\numpy\\lib\\stride_tricks.py\u001b[0m in \u001b[0;36m_broadcast_shape\u001b[1;34m(*args)\u001b[0m\n\u001b[0;32m    418\u001b[0m     \u001b[1;31m# use the old-iterator because np.nditer does not handle size 0 arrays\u001b[0m\u001b[1;33m\u001b[0m\u001b[1;33m\u001b[0m\u001b[1;33m\u001b[0m\u001b[0m\n\u001b[0;32m    419\u001b[0m     \u001b[1;31m# consistently\u001b[0m\u001b[1;33m\u001b[0m\u001b[1;33m\u001b[0m\u001b[1;33m\u001b[0m\u001b[0m\n\u001b[1;32m--> 420\u001b[1;33m     \u001b[0mb\u001b[0m \u001b[1;33m=\u001b[0m \u001b[0mnp\u001b[0m\u001b[1;33m.\u001b[0m\u001b[0mbroadcast\u001b[0m\u001b[1;33m(\u001b[0m\u001b[1;33m*\u001b[0m\u001b[0margs\u001b[0m\u001b[1;33m[\u001b[0m\u001b[1;33m:\u001b[0m\u001b[1;36m32\u001b[0m\u001b[1;33m]\u001b[0m\u001b[1;33m)\u001b[0m\u001b[1;33m\u001b[0m\u001b[1;33m\u001b[0m\u001b[0m\n\u001b[0m\u001b[0;32m    421\u001b[0m     \u001b[1;31m# unfortunately, it cannot handle 32 or more arguments directly\u001b[0m\u001b[1;33m\u001b[0m\u001b[1;33m\u001b[0m\u001b[1;33m\u001b[0m\u001b[0m\n\u001b[0;32m    422\u001b[0m     \u001b[1;32mfor\u001b[0m \u001b[0mpos\u001b[0m \u001b[1;32min\u001b[0m \u001b[0mrange\u001b[0m\u001b[1;33m(\u001b[0m\u001b[1;36m32\u001b[0m\u001b[1;33m,\u001b[0m \u001b[0mlen\u001b[0m\u001b[1;33m(\u001b[0m\u001b[0margs\u001b[0m\u001b[1;33m)\u001b[0m\u001b[1;33m,\u001b[0m \u001b[1;36m31\u001b[0m\u001b[1;33m)\u001b[0m\u001b[1;33m:\u001b[0m\u001b[1;33m\u001b[0m\u001b[1;33m\u001b[0m\u001b[0m\n",
      "\u001b[1;31mValueError\u001b[0m: shape mismatch: objects cannot be broadcast to a single shape"
     ]
    },
    {
     "data": {
      "image/png": "[encoded data removed]",
      "text/plain": [
       "<Figure size 432x288 with 1 Axes>"
      ]
     },
     "metadata": {
      "needs_background": "light"
     },
     "output_type": "display_data"
    }
   ],
   "source": [
    "# 2020년 연령별 교통사고\n",
    "age_20 = taas[taas['년']==2020].groupby(['피해운전자 연령'])['사고번호'].count()\n",
    "ages = ['10s','20s','30s','40s','50s','60s','70s','etc']\n",
    "plt.title('total traffic accidents per ages in 2020')\n",
    "plt.bar(ages, age_20)"
   ]
  },
  {
   "cell_type": "code",
   "execution_count": null,
   "id": "d572166e",
   "metadata": {},
   "outputs": [],
   "source": [
    "# taas[taas['피해운전자 연령']=='50s'].groupby(['월'])['사고번호'].count().max()\n",
    "taas20 = taas[taas['년']==2020]\n",
    "age50s_20 = taas20[taas20['피해운전자 연령']=='50s'].groupby(['월'])['사고번호'].count()"
   ]
  },
  {
   "cell_type": "code",
   "execution_count": 203,
   "id": "df08a917",
   "metadata": {},
   "outputs": [
    {
     "ename": "TypeError",
     "evalue": "object of type 'function' has no len()",
     "output_type": "error",
     "traceback": [
      "\u001b[1;31m---------------------------------------------------------------------------\u001b[0m",
      "\u001b[1;31mTypeError\u001b[0m                                 Traceback (most recent call last)",
      "\u001b[1;32m<ipython-input-203-3e0dc77bae9c>\u001b[0m in \u001b[0;36m<module>\u001b[1;34m\u001b[0m\n\u001b[0;32m      8\u001b[0m \u001b[1;31m#월별 연령대 평균 사고 vs 월별 50대 사고\u001b[0m\u001b[1;33m\u001b[0m\u001b[1;33m\u001b[0m\u001b[1;33m\u001b[0m\u001b[0m\n\u001b[0;32m      9\u001b[0m \u001b[1;31m# plt.bar(ages, taas.groupby(['피해운전자 연령'])['사고번호'].count())\u001b[0m\u001b[1;33m\u001b[0m\u001b[1;33m\u001b[0m\u001b[1;33m\u001b[0m\u001b[0m\n\u001b[1;32m---> 10\u001b[1;33m \u001b[0mage_mean\u001b[0m \u001b[1;33m=\u001b[0m \u001b[0mtaas\u001b[0m\u001b[1;33m[\u001b[0m\u001b[0mtaas\u001b[0m\u001b[1;33m[\u001b[0m\u001b[1;34m'년'\u001b[0m\u001b[1;33m]\u001b[0m\u001b[1;33m==\u001b[0m\u001b[1;36m2020\u001b[0m\u001b[1;33m]\u001b[0m\u001b[1;33m.\u001b[0m\u001b[0mgroupby\u001b[0m\u001b[1;33m(\u001b[0m\u001b[1;33m[\u001b[0m\u001b[1;34m'월'\u001b[0m\u001b[1;33m]\u001b[0m\u001b[1;33m)\u001b[0m\u001b[1;33m[\u001b[0m\u001b[1;34m'사고번호'\u001b[0m\u001b[1;33m]\u001b[0m\u001b[1;33m.\u001b[0m\u001b[0mcount\u001b[0m\u001b[1;33m(\u001b[0m\u001b[1;33m)\u001b[0m\u001b[1;33m/\u001b[0m\u001b[0mlen\u001b[0m\u001b[1;33m(\u001b[0m\u001b[0mages\u001b[0m\u001b[1;33m)\u001b[0m\u001b[1;33m\u001b[0m\u001b[1;33m\u001b[0m\u001b[0m\n\u001b[0m\u001b[0;32m     11\u001b[0m \u001b[1;33m\u001b[0m\u001b[0m\n\u001b[0;32m     12\u001b[0m \u001b[0max2\u001b[0m\u001b[1;33m.\u001b[0m\u001b[0mplot\u001b[0m\u001b[1;33m(\u001b[0m\u001b[0mrange\u001b[0m\u001b[1;33m(\u001b[0m\u001b[1;36m1\u001b[0m\u001b[1;33m,\u001b[0m\u001b[1;36m13\u001b[0m\u001b[1;33m)\u001b[0m\u001b[1;33m,\u001b[0m \u001b[0mage_mean\u001b[0m\u001b[1;33m,\u001b[0m \u001b[0mlabel\u001b[0m\u001b[1;33m=\u001b[0m\u001b[1;34m'mean'\u001b[0m\u001b[1;33m,\u001b[0m \u001b[0mcolor\u001b[0m \u001b[1;33m=\u001b[0m \u001b[1;34m'g'\u001b[0m\u001b[1;33m)\u001b[0m\u001b[1;33m\u001b[0m\u001b[1;33m\u001b[0m\u001b[0m\n",
      "\u001b[1;31mTypeError\u001b[0m: object of type 'function' has no len()"
     ]
    },
    {
     "data": {
      "image/png": "[encoded data removed]",
      "text/plain": [
       "<Figure size 432x288 with 2 Axes>"
      ]
     },
     "metadata": {
      "needs_background": "light"
     },
     "output_type": "display_data"
    }
   ],
   "source": [
    "#★★★★★★★★★★★★★★★★★★★★★★★★★★★2020 월별 연령대 사고 횟수★★★★★★★★★★★★★★★★★★★★★★★★\n",
    "fig, ax1 = plt.subplots()\n",
    "ax2 = ax1.twinx()\n",
    "\n",
    "#총 사고 횟수\n",
    "ax1.bar(range(1,13), month_20, label='total accident', color = 'powderblue')\n",
    "\n",
    "#월별 연령대 평균 사고 vs 월별 50대 사고\n",
    "# plt.bar(ages, taas.groupby(['피해운전자 연령'])['사고번호'].count())\n",
    "age_mean = taas[taas['년']==2020].groupby(['월'])['사고번호'].count()/len(ages)\n",
    "\n",
    "ax2.plot(range(1,13), age_mean, label='mean', color = 'g')\n",
    "ax2.plot(range(1,13), age50s_20, label='50s', color='red')\n",
    "ax2.set_ylim(0,50)\n",
    "plt.title('2020 monthly bike accident grouped by ages')\n",
    "plt.legend()\n",
    "plt.show()\n",
    "# print(age_mean, age_50s)"
   ]
  },
  {
   "cell_type": "code",
   "execution_count": null,
   "id": "37f59252",
   "metadata": {},
   "outputs": [],
   "source": [
    "taas['년'].unique()"
   ]
  },
  {
   "cell_type": "code",
   "execution_count": null,
   "id": "0fd4e9b8",
   "metadata": {},
   "outputs": [],
   "source": [
    "taas19 = taas[taas['년']==2019]\n",
    "taas18 = taas[taas['년']==2018]\n",
    "\n",
    "\n",
    "plt.figure(figsize=(10,8))\n",
    "plt.bar(np.arange(0.8,12.8), taas18.groupby(['월'])['사고번호'].count(), width=0.2, label='2018', color='thistle')\n",
    "plt.bar(range(1,13), taas19.groupby(['월'])['사고번호'].count(), width=0.2, label='2019', color='lightcoral')\n",
    "plt.bar(np.arange(1.2,13.2), taas20.groupby(['월'])['사고번호'].count(), width=0.25, label='2020', color='purple')\n",
    "plt.legend()\n",
    "plt.title('monthly traffic accident 2018-2020')\n",
    "plt.show()"
   ]
  },
  {
   "cell_type": "code",
   "execution_count": null,
   "id": "36e0f15f",
   "metadata": {},
   "outputs": [],
   "source": [
    "#위 bar plot과 그래프 합쳐도 되고?\n",
    "#중상+사망 그래프만 가져옴\n",
    "taas['피해운전자 상해정도'].unique()\n",
    "heavy20 = taas20[taas20['피해운전자 상해정도']=='중상'].groupby('월')['사고번호'].count()\n",
    "death20 = taas20[taas20['피해운전자 상해정도']=='사망'].groupby('월')['사고번호'].count()\n",
    "injury = heavy20.add(death20, fill_value=0)\n",
    "\n",
    "heavy18 = taas18[taas18['피해운전자 상해정도']=='중상'].groupby('월')['사고번호'].count()\n",
    "death18 = taas18[taas18['피해운전자 상해정도']=='사망'].groupby('월')['사고번호'].count()\n",
    "injury18 = heavy18.add(death18, fill_value=0)\n",
    "\n",
    "plt.plot(injury, label='2020')\n",
    "plt.plot(injury18, label='2018')\n",
    "plt.legend()\n",
    "plt.title('2018 vs 2020 total severe injury from bike accident')"
   ]
  },
  {
   "cell_type": "code",
   "execution_count": null,
   "id": "e9897b09",
   "metadata": {},
   "outputs": [],
   "source": [
    "#이번에 할거: 2018 vs 2020 구별로 자전거전용도로 증가?\n",
    "# 2018 vs 2020 구별 교통사고 현황\n",
    "#구별로 자전거전용도로 증감 데이터와 교통사고 증감 데이터 상관관계 파악하기"
   ]
  },
  {
   "cell_type": "code",
   "execution_count": null,
   "id": "4fc393a5",
   "metadata": {},
   "outputs": [],
   "source": []
  },
  {
   "cell_type": "code",
   "execution_count": null,
   "id": "6c76bee6",
   "metadata": {},
   "outputs": [],
   "source": []
  },
  {
   "cell_type": "code",
   "execution_count": null,
   "id": "7df6e7d0",
   "metadata": {},
   "outputs": [],
   "source": []
  }
 ],
 "metadata": {
  "kernelspec": {
   "display_name": "Python 3",
   "language": "python",
   "name": "python3"
  },
  "language_info": {
   "codemirror_mode": {
    "name": "ipython",
    "version": 3
   },
   "file_extension": ".py",
   "mimetype": "text/x-python",
   "name": "python",
   "nbconvert_exporter": "python",
   "pygments_lexer": "ipython3",
   "version": "3.8.10"
  }
 },
 "nbformat": 4,
 "nbformat_minor": 5
}
